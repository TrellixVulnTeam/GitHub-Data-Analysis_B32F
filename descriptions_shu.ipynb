{
 "cells": [
  {
   "cell_type": "code",
   "execution_count": 9,
   "metadata": {},
   "outputs": [],
   "source": [
    "% matplotlib inline\n",
    "from pymongo import MongoClient\n",
    "import pymongo\n",
    "import pandas as pd\n",
    "import numpy as np\n",
    "import matplotlib.pyplot as plt\n",
    "import json\n",
    "import seaborn as sns\n",
    "import networkx as nx\n",
    "import nltk\n",
    "from langdetect import detect\n",
    "from langdetect import detect_langs\n",
    "from langdetect import DetectorFactory\n",
    "from nltk.tokenize import RegexpTokenizer  \n",
    "from stop_words import get_stop_words  \n",
    "from nltk.stem.porter import PorterStemmer  \n",
    "from gensim import corpora, models  \n",
    "import gensim  \n",
    "\n"
   ]
  },
  {
   "cell_type": "code",
   "execution_count": 10,
   "metadata": {},
   "outputs": [
    {
     "name": "stdout",
     "output_type": "stream",
     "text": [
      "{'version': '3.4.14', 'gitVersion': 'fd954412dfc10e4d1e3e2dd4fac040f8b476b268', 'modules': ['enterprise'], 'allocator': 'tcmalloc', 'javascriptEngine': 'mozjs', 'sysInfo': 'deprecated', 'versionArray': [3, 4, 14, 0], 'openssl': {'running': 'OpenSSL 1.0.1e-fips 11 Feb 2013', 'compiled': 'OpenSSL 1.0.1e-fips 11 Feb 2013'}, 'buildEnvironment': {'distmod': 'rhel70', 'distarch': 'x86_64', 'cc': '/opt/mongodbtoolchain/v2/bin/gcc: gcc (GCC) 5.4.0', 'ccflags': '-fno-omit-frame-pointer -fno-strict-aliasing -ggdb -pthread -Wall -Wsign-compare -Wno-unknown-pragmas -Winvalid-pch -Werror -O2 -Wno-unused-local-typedefs -Wno-unused-function -Wno-deprecated-declarations -Wno-unused-but-set-variable -Wno-missing-braces -fstack-protector-strong -fno-builtin-memcmp', 'cxx': '/opt/mongodbtoolchain/v2/bin/g++: g++ (GCC) 5.4.0', 'cxxflags': '-Woverloaded-virtual -Wno-maybe-uninitialized -std=c++11', 'linkflags': '-pthread -Wl,-z,now -rdynamic -Wl,--fatal-warnings -fstack-protector-strong -fuse-ld=gold -Wl,--build-id -Wl,-z,noexecstack -Wl,--warn-execstack -Wl,-z,relro -Wl,-rpath,/usr/lib64/perl5/CORE', 'target_arch': 'x86_64', 'target_os': 'linux'}, 'bits': 64, 'debug': False, 'maxBsonObjectSize': 16777216, 'storageEngines': ['devnull', 'ephemeralForTest', 'inMemory', 'mmapv1', 'queryable_mmapv1', 'queryable_wt', 'wiredTiger'], 'ok': 1.0}\n",
      "['gitdb', 'gitdbPro', 'guidebook', 'test', 'admin', 'local']\n"
     ]
    }
   ],
   "source": [
    "mongo_username = 'Campione'\n",
    "mongo_password = 'veTRxJL29lpKWwPn'\n",
    "mongo_url = 'mongodb://%s:%s@cluster0-shard-00-01-i6gcp.mongodb.net:27017/admin' % (\n",
    "            mongo_username, mongo_password)\n",
    "client = MongoClient(mongo_url,ssl=True,replicaSet='Cluster0-shard-0',authSource='admin')\n",
    "info = client.server_info()  # Forces a call.\n",
    "print(info)\n",
    "print(client.database_names())"
   ]
  },
  {
   "cell_type": "code",
   "execution_count": 11,
   "metadata": {},
   "outputs": [
    {
     "data": {
      "text/html": [
       "<div>\n",
       "<style>\n",
       "    .dataframe thead tr:only-child th {\n",
       "        text-align: right;\n",
       "    }\n",
       "\n",
       "    .dataframe thead th {\n",
       "        text-align: left;\n",
       "    }\n",
       "\n",
       "    .dataframe tbody tr th {\n",
       "        vertical-align: top;\n",
       "    }\n",
       "</style>\n",
       "<table border=\"1\" class=\"dataframe\">\n",
       "  <thead>\n",
       "    <tr style=\"text-align: right;\">\n",
       "      <th></th>\n",
       "      <th>0</th>\n",
       "    </tr>\n",
       "  </thead>\n",
       "  <tbody>\n",
       "    <tr>\n",
       "      <th>0</th>\n",
       "      <td>How to be low-level programmer</td>\n",
       "    </tr>\n",
       "    <tr>\n",
       "      <th>1</th>\n",
       "      <td>Import OpenStreetMap data into Unreal Engine 4</td>\n",
       "    </tr>\n",
       "    <tr>\n",
       "      <th>2</th>\n",
       "      <td>react-native template to target multiple platf...</td>\n",
       "    </tr>\n",
       "    <tr>\n",
       "      <th>3</th>\n",
       "      <td>Connect your App to Multiple Messaging Channel...</td>\n",
       "    </tr>\n",
       "    <tr>\n",
       "      <th>4</th>\n",
       "      <td>Proto Actor - Ultra fast distributed actors fo...</td>\n",
       "    </tr>\n",
       "  </tbody>\n",
       "</table>\n",
       "</div>"
      ],
      "text/plain": [
       "                                                   0\n",
       "0                     How to be low-level programmer\n",
       "1     Import OpenStreetMap data into Unreal Engine 4\n",
       "2  react-native template to target multiple platf...\n",
       "3  Connect your App to Multiple Messaging Channel...\n",
       "4  Proto Actor - Ultra fast distributed actors fo..."
      ]
     },
     "execution_count": 11,
     "metadata": {},
     "output_type": "execute_result"
    }
   ],
   "source": [
    "db = client.gitdbPro\n",
    "repos = db.repos\n",
    "descriptions = repos.distinct('description')\n",
    "df = pd.DataFrame(descriptions)\n",
    "df.head()"
   ]
  },
  {
   "cell_type": "code",
   "execution_count": 12,
   "metadata": {},
   "outputs": [
    {
     "data": {
      "text/plain": [
       "0                           How to be low-level programmer\n",
       "1           Import OpenStreetMap data into Unreal Engine 4\n",
       "2        react-native template to target multiple platf...\n",
       "3        Connect your App to Multiple Messaging Channel...\n",
       "4        Proto Actor - Ultra fast distributed actors fo...\n",
       "5                用rxjava简单封装了指纹识别，并实现对生命周期的自动绑定，顺便撸了一个指纹控件\n",
       "6                                   pagehelper-spring-boot\n",
       "7            📅 A date picker components for ionic2 ／ionic3\n",
       "8        Track prices on Amazon and receive email alert...\n",
       "9        Advanced web based trading client for the Stel...\n",
       "10                                  Join our slack channel\n",
       "11       An Elm-based prototype to help designers build...\n",
       "12       Can neural networks transliterate Romaji into ...\n",
       "13                              A repo with small projects\n",
       "14               Go - CQRS / Event Sourcing made easy - Go\n",
       "15                                RNN Tutorial for Artists\n",
       "16       A macOS app to convert JSON objects into Swift...\n",
       "17       Keras Implementation of The One Hundred Layers...\n",
       "18            Machine Learning and Deep Learning Resources\n",
       "19       Unofficial snapshots of Magisk and Magisk Mana...\n",
       "20                     Turn your username yellow in Steam.\n",
       "21       👐All-in-one natural hand controller, pointer, ...\n",
       "22                                   Email address parser.\n",
       "23                                                    None\n",
       "24       echo prints the first positional argument to s...\n",
       "25       This project is a demo of AppBar Scrolling beh...\n",
       "26       A framework bringing additional nodes & filter...\n",
       "27          ✨ Future-proof your Emacs Lisp customizations!\n",
       "28       UI Component Library Base on Vue.js(2.x) and B...\n",
       "29                                        Monero CPU miner\n",
       "                               ...                        \n",
       "11821           The dead simple re-implementation of React\n",
       "11822                 A super tiny reactive library. :zap:\n",
       "11823    A diverse benchmark database for multi-paradig...\n",
       "11824              State so simple, it goes without saying\n",
       "11825    A cross platform C99 library to get cpu featur...\n",
       "11826    🔥 Orchestrate your web project with Webdash th...\n",
       "11827              🏃📆  Life as a git. Commit on your life.\n",
       "11828    StaCoAn is a crossplatform tool which aids dev...\n",
       "11829    🚇 Render React components in placeholders that...\n",
       "11830    Obfuscated Gradients Give a False Sense of Sec...\n",
       "11831    Cross platform code coverage library for .NET ...\n",
       "11832                              Android 中 tools 命名的使用案例\n",
       "11833    An \"Awesome\" list of code review resources - a...\n",
       "11834                   Easily add statuses to your models\n",
       "11835               👷‍♀️ Use Web Workers in Jest / JSDOM 🌈\n",
       "11836        Fórum sobre a tencologia Vuejs, em português \n",
       "11837    Manage a Postgres cluster's roles, role member...\n",
       "11838                                🌋 Endless runner game\n",
       "11839                      An IPTV proxy for Plex Live DVR\n",
       "11840    白泽自动化运维系统：配置管理、网络探测、资产管理、业务管理、CMDB、CD、DevOps、作...\n",
       "11841    An NES ROM that is also a ZIP file that contai...\n",
       "11842                                                 日历控件\n",
       "11843    What They Forgot To Teach You About R, worksho...\n",
       "11844    This repository contains a step-by-step guide ...\n",
       "11845       基于flask开发类似gitbook的知识管理网站。 http://www.beibq.cn\n",
       "11846    Replicating the 'clear' navigation bar style o...\n",
       "11847    A standalone embedding of the FOSS drawio / mx...\n",
       "11848    An implementation of Gil Huybrecht “Outdoors” ...\n",
       "11849           Download Button full of Micro Interactions\n",
       "11850                                           AUR Helper\n",
       "Name: 0, Length: 11851, dtype: object"
      ]
     },
     "execution_count": 12,
     "metadata": {},
     "output_type": "execute_result"
    }
   ],
   "source": [
    "df[0]"
   ]
  },
  {
   "cell_type": "code",
   "execution_count": 19,
   "metadata": {},
   "outputs": [
    {
     "data": {
      "text/plain": [
       "'zh-cn'"
      ]
     },
     "execution_count": 19,
     "metadata": {},
     "output_type": "execute_result"
    }
   ],
   "source": [
    "DetectorFactory.seed = 0"
   ]
  },
  {
   "cell_type": "code",
   "execution_count": 20,
   "metadata": {},
   "outputs": [
    {
     "name": "stdout",
     "output_type": "stream",
     "text": [
      "No features in text.\n",
      "No features in text.\n",
      "No features in text.\n",
      "No features in text.\n",
      "No features in text.\n",
      "No features in text.\n",
      "No features in text.\n",
      "No features in text.\n",
      "No features in text.\n",
      "No features in text.\n",
      "No features in text.\n"
     ]
    }
   ],
   "source": [
    "cn_text_list = []\n",
    "en_text_list = []\n",
    "for item in df[0]:\n",
    "    try:\n",
    "        if detect(str(item)) == 'zh-cn':\n",
    "            cn_text_list.append(item)\n",
    "        else:\n",
    "            en_text_list.append(item)\n",
    "    except Exception as e:\n",
    "        print(str(e))\n",
    "        "
   ]
  },
  {
   "cell_type": "code",
   "execution_count": 23,
   "metadata": {},
   "outputs": [
    {
     "data": {
      "text/plain": [
       "697"
      ]
     },
     "execution_count": 23,
     "metadata": {},
     "output_type": "execute_result"
    }
   ],
   "source": [
    "len(cn_text_list)"
   ]
  },
  {
   "cell_type": "code",
   "execution_count": 24,
   "metadata": {},
   "outputs": [
    {
     "data": {
      "text/plain": [
       "11143"
      ]
     },
     "execution_count": 24,
     "metadata": {},
     "output_type": "execute_result"
    }
   ],
   "source": [
    "len(en_text_list)"
   ]
  },
  {
   "cell_type": "code",
   "execution_count": 28,
   "metadata": {},
   "outputs": [
    {
     "name": "stdout",
     "output_type": "stream",
     "text": [
      "                                                  text\n",
      "0            用rxjava简单封装了指纹识别，并实现对生命周期的自动绑定，顺便撸了一个指纹控件\n",
      "1             每周一篇，内容精简，不咸不淡，期盼探讨。微信公众号：芋道源码【纯源码分享公众号】\n",
      "2                                    iOS即时通讯，从入门到“放弃”？\n",
      "3    『假装看天气』─── 天气预报 & 公交查询 & 资讯阅读 & 妹纸福利 的 Android...\n",
      "4                                           微信小程序－日历 📅\n",
      "5                                             一个表白用的页面\n",
      "6                                     适用于微信小程序的图片预加载组件\n",
      "7                                             尚妆产品技术刊读\n",
      "8                   一个超级迷你轻量级全方向完美侧滑控件，兼容各种嵌套与被嵌套滑动控件。\n",
      "9    这个是我个人网站的项目，欢迎贡献代码，力求能够应用到实际工作中java相关的大多数技术栈。有...\n",
      "10                                       知乎爬虫（验证码自动识别）\n",
      "11                                    微信小程序中的股票分时图、K线图\n",
      "12                                        微信小程序开源项目库汇总\n",
      "13             :dog: wux - 微信小程序自定义组件（对话框、指示器、五星评分...）\n",
      "14                                        一个灵活、友好的爬虫框架\n",
      "15   妈妈说，问人问题要先说你好，那么咱这个全平台的理论上做的最牛逼的对话框（只是理论上）就叫Le...\n",
      "16                                            大鸡排的博客归档\n",
      "17                                  一个解耦良好的计时控件，可自由扩展。\n",
      "18   《互联网面试笔记》收集和分析互联网常见面试题，并将这些面试知识整理成文方便大家查阅。主要是面...\n",
      "19                                          一款移动端电子阅读器\n",
      "20                                                手机影音\n",
      "21   💮基于RxJava2+Retrofit2精心打造的Android基础框架，包含网络、上传、下...\n",
      "22                           轻量级的webMVC框架，IOC和AOP都包含其中\n",
      "23                                           为了更好的交互体验\n",
      "24                          🎉 微信端单页面应用（SPA）常见问题汇总及解决方案\n",
      "25                           一个帮助您完成从缩略图到原图无缝过渡转变的神奇组件\n",
      "26                              一个实现图片花式3D翻转效果的自定义View\n",
      "27                                    中国运营商IP地址库(每日更新)\n",
      "28                                       知乎大数据分析与热点生成。\n",
      "29                         Android 技能总结，各种基础和进阶内容的资料收集\n",
      "..                                                 ...\n",
      "667                               简单易用且功能丰富的纯Swift下载框架\n",
      "668                                          虚拟机分析相关资料\n",
      "669                   坐标转换工具，提供WGS84，GCJ02，百度坐标系的相互转换。\n",
      "670  各大网站vip视频免费观看 腾讯、爱奇艺、优酷、乐视、芒果等 Mac版。付费电影，VIP会员...\n",
      "671                            Nginx安装维护入门学习笔记，以及各种实例。\n",
      "672                                        信息安全从业者书单推荐\n",
      "673                                       快应用开发资源汇总 💯 \n",
      "674                                      快应用版本的Gank客户端\n",
      "675                               :100:快应用开发圈资源汇总:100:\n",
      "676                                一个基于Appium的快速自动化框架.\n",
      "677                               🐸你的服务器除了用来吃灰外，还可以拿来续\n",
      "678                                          🚜 无他，唯手熟尔\n",
      "679                                           一个城市选择组件\n",
      "680                                         汉化下LLVM的文档\n",
      "681           从简单的基础动画到复杂的组动画，原理一目了然。最后再加上几个常见动画，举一反三。\n",
      "682               方便产品、开发、测试三方协同管理、测试、监控项目进度和质量，以持续交付。\n",
      "683  该项目作为本人的毕业设计课题，客户端和服务端均由本人独立实现。客户端遵循Google Mat...\n",
      "684                Android 平台一个简单的路由框架，包含路由和参数注入两部分功能。\n",
      "685                               趁还能折腾的时候多读书——前端何时是个头\n",
      "686                                     一个在线文档阅读的微信小程序\n",
      "687                         程序员简历生成器（可导出静态页面、支持密码验证访问）\n",
      "688                                       一本深入浅出Html的书\n",
      "689   树莓派3-64位系统，拿人家东西不star不fork的都是耍流氓。。。。。。。。。。😆😆😆😆😆😆\n",
      "690  本库主要提供一个简单易用的自定义分段控件，方便快速实现分段效果，支持xml配置、代码配置、分...\n",
      "691                                    TODOLIST做的增添和删除\n",
      "692                   :books: 《Go语言高级编程》开源免费图书(开发中...)\n",
      "693                                       微信小游戏跳一跳辅助程序\n",
      "694  微信跳一跳辅助工具v1.4.7，|||----->>>最新版https://www.52po...\n",
      "695  白泽自动化运维系统：配置管理、网络探测、资产管理、业务管理、CMDB、CD、DevOps、作...\n",
      "696                                               日历控件\n",
      "\n",
      "[697 rows x 1 columns]\n"
     ]
    }
   ],
   "source": [
    "df_cn = pd.DataFrame({'text':cn_text_list})\n",
    "print(df_cn)\n",
    "df_cn.to_csv('cn_text')"
   ]
  },
  {
   "cell_type": "code",
   "execution_count": 29,
   "metadata": {},
   "outputs": [
    {
     "name": "stdout",
     "output_type": "stream",
     "text": [
      "                                                text\n",
      "0                     How to be low-level programmer\n",
      "1     Import OpenStreetMap data into Unreal Engine 4\n",
      "2  react-native template to target multiple platf...\n",
      "3  Connect your App to Multiple Messaging Channel...\n",
      "4  Proto Actor - Ultra fast distributed actors fo...\n"
     ]
    }
   ],
   "source": [
    "df_en = pd.DataFrame({'text':en_text_list})\n",
    "print(df_en.head())\n",
    "df_en.to_csv('en_text')"
   ]
  },
  {
   "cell_type": "code",
   "execution_count": null,
   "metadata": {
    "collapsed": true
   },
   "outputs": [],
   "source": []
  }
 ],
 "metadata": {
  "kernelspec": {
   "display_name": "Python 3",
   "language": "python",
   "name": "python3"
  },
  "language_info": {
   "codemirror_mode": {
    "name": "ipython",
    "version": 3
   },
   "file_extension": ".py",
   "mimetype": "text/x-python",
   "name": "python",
   "nbconvert_exporter": "python",
   "pygments_lexer": "ipython3",
   "version": "3.6.2"
  }
 },
 "nbformat": 4,
 "nbformat_minor": 2
}
