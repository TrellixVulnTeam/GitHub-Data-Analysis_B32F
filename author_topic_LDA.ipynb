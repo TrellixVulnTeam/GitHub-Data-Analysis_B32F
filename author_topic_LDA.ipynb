{
 "cells": [
  {
   "cell_type": "markdown",
   "metadata": {},
   "source": [
    "# Author-Topic Modeling for Github Repository Descriptions\n",
    "In this turtorial, you can learn how we conduct author-topic modeling on our github repository dataset. \n",
    "\n",
    "The author-topic model is an extension of LDA which allow us to build topics representation of associated author labels. In our case, the \"documents\" refers to repositories' descriptions, and the \"author\" refers to the owners of the repositories.\n",
    "\n",
    "We collected github repositories which created in between 2017-01-31 to 2018-03-31 and has more than 40 stars. Total number of repositories is 12366. We only used 11165 repository data whose describtion is written in English."
   ]
  },
  {
   "cell_type": "markdown",
   "metadata": {},
   "source": [
    "### Import packages\n",
    "We used Gensim to conduct Author-Topic Modeling. Gensim is a robust open-source vector space modeling and topic modeling toolkit implemented in Python. Langdetect language-detection library we used to detect the languages used in documents. And we also used NLTK to tokenize the documents and get rid of the stop words."
   ]
  },
  {
   "cell_type": "code",
   "execution_count": 2,
   "metadata": {
    "collapsed": true
   },
   "outputs": [],
   "source": [
    "% matplotlib inline\n",
    "from pymongo import MongoClient\n",
    "import pymongo\n",
    "import pandas as pd\n",
    "from pandas.io.json import json_normalize\n",
    "import numpy as np\n",
    "import matplotlib.pyplot as plt\n",
    "import json\n",
    "import nltk\n",
    "from langdetect import detect\n",
    "from langdetect import detect_langs\n",
    "from langdetect import DetectorFactory\n",
    "from nltk.tokenize import RegexpTokenizer  \n",
    "from stop_words import get_stop_words  \n",
    "from nltk.stem.porter import PorterStemmer  \n",
    "from gensim import corpora, models  \n",
    "from gensim import utils\n",
    "import gensim \n",
    "import os, re\n",
    "from random import shuffle\n",
    "\n"
   ]
  },
  {
   "cell_type": "markdown",
   "metadata": {},
   "source": [
    "### Loading data\n",
    "We collected the data from Github API and store them into the MongoDB Atlas database. Pymongo is the package we used to connect our database."
   ]
  },
  {
   "cell_type": "code",
   "execution_count": 3,
   "metadata": {
    "collapsed": true
   },
   "outputs": [],
   "source": [
    "mongo_username = 'Campione'\n",
    "mongo_password = 'veTRxJL29lpKWwPn'\n",
    "mongo_url = 'mongodb://%s:%s@cluster0-shard-00-01-i6gcp.mongodb.net:27017/admin' % (\n",
    "            mongo_username, mongo_password)\n",
    "client = MongoClient(mongo_url,ssl=True,replicaSet='Cluster0-shard-0',authSource='admin')\n",
    "info = client.server_info()  # Forces a call."
   ]
  },
  {
   "cell_type": "markdown",
   "metadata": {},
   "source": [
    "We select the descriptions and transfer them into pandas Dataframe by runing the following lines. "
   ]
  },
  {
   "cell_type": "code",
   "execution_count": 4,
   "metadata": {},
   "outputs": [
    {
     "name": "stdout",
     "output_type": "stream",
     "text": [
      "12366\n"
     ]
    },
    {
     "data": {
      "text/html": [
       "<div>\n",
       "<style>\n",
       "    .dataframe thead tr:only-child th {\n",
       "        text-align: right;\n",
       "    }\n",
       "\n",
       "    .dataframe thead th {\n",
       "        text-align: left;\n",
       "    }\n",
       "\n",
       "    .dataframe tbody tr th {\n",
       "        vertical-align: top;\n",
       "    }\n",
       "</style>\n",
       "<table border=\"1\" class=\"dataframe\">\n",
       "  <thead>\n",
       "    <tr style=\"text-align: right;\">\n",
       "      <th></th>\n",
       "      <th>0</th>\n",
       "    </tr>\n",
       "  </thead>\n",
       "  <tbody>\n",
       "    <tr>\n",
       "      <th>0</th>\n",
       "      <td>How to be low-level programmer</td>\n",
       "    </tr>\n",
       "    <tr>\n",
       "      <th>1</th>\n",
       "      <td>Import OpenStreetMap data into Unreal Engine 4</td>\n",
       "    </tr>\n",
       "    <tr>\n",
       "      <th>2</th>\n",
       "      <td>react-native template to target multiple platf...</td>\n",
       "    </tr>\n",
       "    <tr>\n",
       "      <th>3</th>\n",
       "      <td>Connect your App to Multiple Messaging Channel...</td>\n",
       "    </tr>\n",
       "    <tr>\n",
       "      <th>4</th>\n",
       "      <td>Proto Actor - Ultra fast distributed actors fo...</td>\n",
       "    </tr>\n",
       "  </tbody>\n",
       "</table>\n",
       "</div>"
      ],
      "text/plain": [
       "                                                   0\n",
       "0                     How to be low-level programmer\n",
       "1     Import OpenStreetMap data into Unreal Engine 4\n",
       "2  react-native template to target multiple platf...\n",
       "3  Connect your App to Multiple Messaging Channel...\n",
       "4  Proto Actor - Ultra fast distributed actors fo..."
      ]
     },
     "execution_count": 4,
     "metadata": {},
     "output_type": "execute_result"
    }
   ],
   "source": [
    "db = client.gitdbPro\n",
    "repos = db.repos\n",
    "print(repos.count())\n",
    "descriptions = repos.distinct('description')\n",
    "df = pd.DataFrame(descriptions)\n",
    "df.head()"
   ]
  },
  {
   "cell_type": "code",
   "execution_count": 56,
   "metadata": {},
   "outputs": [
    {
     "data": {
      "text/html": [
       "<div>\n",
       "<style>\n",
       "    .dataframe thead tr:only-child th {\n",
       "        text-align: right;\n",
       "    }\n",
       "\n",
       "    .dataframe thead th {\n",
       "        text-align: left;\n",
       "    }\n",
       "\n",
       "    .dataframe tbody tr th {\n",
       "        vertical-align: top;\n",
       "    }\n",
       "</style>\n",
       "<table border=\"1\" class=\"dataframe\">\n",
       "  <thead>\n",
       "    <tr style=\"text-align: right;\">\n",
       "      <th></th>\n",
       "      <th>_id</th>\n",
       "      <th>description</th>\n",
       "      <th>id</th>\n",
       "      <th>owner.login</th>\n",
       "    </tr>\n",
       "  </thead>\n",
       "  <tbody>\n",
       "    <tr>\n",
       "      <th>0</th>\n",
       "      <td>5abe9b96c44bb82d0c83b395</td>\n",
       "      <td>How to be low-level programmer</td>\n",
       "      <td>77788381</td>\n",
       "      <td>gurugio</td>\n",
       "    </tr>\n",
       "    <tr>\n",
       "      <th>1</th>\n",
       "      <td>5abe9b96c44bb82d0c83b396</td>\n",
       "      <td>Import OpenStreetMap data into Unreal Engine 4</td>\n",
       "      <td>77765042</td>\n",
       "      <td>ue4plugins</td>\n",
       "    </tr>\n",
       "    <tr>\n",
       "      <th>2</th>\n",
       "      <td>5abe9b96c44bb82d0c83b397</td>\n",
       "      <td>react-native template to target multiple platf...</td>\n",
       "      <td>77784093</td>\n",
       "      <td>react-everywhere</td>\n",
       "    </tr>\n",
       "    <tr>\n",
       "      <th>3</th>\n",
       "      <td>5abe9b96c44bb82d0c83b398</td>\n",
       "      <td>Connect your App to Multiple Messaging Channel...</td>\n",
       "      <td>77797132</td>\n",
       "      <td>broidHQ</td>\n",
       "    </tr>\n",
       "    <tr>\n",
       "      <th>4</th>\n",
       "      <td>5abe9b96c44bb82d0c83b399</td>\n",
       "      <td>Proto Actor - Ultra fast distributed actors fo...</td>\n",
       "      <td>77786107</td>\n",
       "      <td>AsynkronIT</td>\n",
       "    </tr>\n",
       "  </tbody>\n",
       "</table>\n",
       "</div>"
      ],
      "text/plain": [
       "                        _id  \\\n",
       "0  5abe9b96c44bb82d0c83b395   \n",
       "1  5abe9b96c44bb82d0c83b396   \n",
       "2  5abe9b96c44bb82d0c83b397   \n",
       "3  5abe9b96c44bb82d0c83b398   \n",
       "4  5abe9b96c44bb82d0c83b399   \n",
       "\n",
       "                                         description        id  \\\n",
       "0                     How to be low-level programmer  77788381   \n",
       "1     Import OpenStreetMap data into Unreal Engine 4  77765042   \n",
       "2  react-native template to target multiple platf...  77784093   \n",
       "3  Connect your App to Multiple Messaging Channel...  77797132   \n",
       "4  Proto Actor - Ultra fast distributed actors fo...  77786107   \n",
       "\n",
       "        owner.login  \n",
       "0           gurugio  \n",
       "1        ue4plugins  \n",
       "2  react-everywhere  \n",
       "3           broidHQ  \n",
       "4        AsynkronIT  "
      ]
     },
     "execution_count": 56,
     "metadata": {},
     "output_type": "execute_result"
    }
   ],
   "source": [
    "len(descriptions)\n",
    "author_des = repos.find({},{'id':1,'description':1,'owner.login':1})\n",
    "df_author_des = json_normalize(list(author_des))\n",
    "df_author_des.head()"
   ]
  },
  {
   "cell_type": "markdown",
   "metadata": {},
   "source": [
    "### Pre-processing and Data Cleaning\n",
    "The Github descriptions are written in more than 10 different languages. Some of the repositories don't have a descriptions or they use only images in the descriptions. So we need to extract descriptions that written in English and get rid of all empty descriptions before training the model."
   ]
  },
  {
   "cell_type": "code",
   "execution_count": 57,
   "metadata": {},
   "outputs": [
    {
     "name": "stdout",
     "output_type": "stream",
     "text": [
      "No features in text.\n",
      "No features in text.\n",
      "No features in text.\n",
      "No features in text.\n",
      "No features in text.\n",
      "No features in text.\n",
      "No features in text.\n",
      "No features in text.\n",
      "No features in text.\n",
      "No features in text.\n",
      "No features in text.\n"
     ]
    },
    {
     "data": {
      "text/plain": [
       "11655"
      ]
     },
     "execution_count": 57,
     "metadata": {},
     "output_type": "execute_result"
    }
   ],
   "source": [
    "#len(df_author_des)\n",
    "#df_author_des[\"owner.login\"]\n",
    "DetectorFactory.seed = 0\n",
    "temp = df_author_des\n",
    "for index,row in temp.iterrows():\n",
    "    try:\n",
    "        if detect(str(row['description'])) == 'zh-cn':\n",
    "            temp.drop(index, inplace=True)\n",
    "    except Exception as e:\n",
    "        temp.drop(index, inplace=True)\n",
    "        print(str(e))\n",
    "len(temp)\n"
   ]
  },
  {
   "cell_type": "code",
   "execution_count": 58,
   "metadata": {},
   "outputs": [
    {
     "data": {
      "text/html": [
       "<div>\n",
       "<style>\n",
       "    .dataframe thead tr:only-child th {\n",
       "        text-align: right;\n",
       "    }\n",
       "\n",
       "    .dataframe thead th {\n",
       "        text-align: left;\n",
       "    }\n",
       "\n",
       "    .dataframe tbody tr th {\n",
       "        vertical-align: top;\n",
       "    }\n",
       "</style>\n",
       "<table border=\"1\" class=\"dataframe\">\n",
       "  <thead>\n",
       "    <tr style=\"text-align: right;\">\n",
       "      <th></th>\n",
       "      <th>_id</th>\n",
       "      <th>description</th>\n",
       "      <th>id</th>\n",
       "      <th>owner.login</th>\n",
       "    </tr>\n",
       "  </thead>\n",
       "  <tbody>\n",
       "    <tr>\n",
       "      <th>0</th>\n",
       "      <td>5abe9b96c44bb82d0c83b395</td>\n",
       "      <td>How to be low-level programmer</td>\n",
       "      <td>77788381</td>\n",
       "      <td>gurugio</td>\n",
       "    </tr>\n",
       "    <tr>\n",
       "      <th>1</th>\n",
       "      <td>5abe9b96c44bb82d0c83b396</td>\n",
       "      <td>Import OpenStreetMap data into Unreal Engine 4</td>\n",
       "      <td>77765042</td>\n",
       "      <td>ue4plugins</td>\n",
       "    </tr>\n",
       "    <tr>\n",
       "      <th>2</th>\n",
       "      <td>5abe9b96c44bb82d0c83b397</td>\n",
       "      <td>react-native template to target multiple platf...</td>\n",
       "      <td>77784093</td>\n",
       "      <td>react-everywhere</td>\n",
       "    </tr>\n",
       "    <tr>\n",
       "      <th>3</th>\n",
       "      <td>5abe9b96c44bb82d0c83b398</td>\n",
       "      <td>Connect your App to Multiple Messaging Channel...</td>\n",
       "      <td>77797132</td>\n",
       "      <td>broidHQ</td>\n",
       "    </tr>\n",
       "    <tr>\n",
       "      <th>4</th>\n",
       "      <td>5abe9b96c44bb82d0c83b399</td>\n",
       "      <td>Proto Actor - Ultra fast distributed actors fo...</td>\n",
       "      <td>77786107</td>\n",
       "      <td>AsynkronIT</td>\n",
       "    </tr>\n",
       "  </tbody>\n",
       "</table>\n",
       "</div>"
      ],
      "text/plain": [
       "                        _id  \\\n",
       "0  5abe9b96c44bb82d0c83b395   \n",
       "1  5abe9b96c44bb82d0c83b396   \n",
       "2  5abe9b96c44bb82d0c83b397   \n",
       "3  5abe9b96c44bb82d0c83b398   \n",
       "4  5abe9b96c44bb82d0c83b399   \n",
       "\n",
       "                                         description        id  \\\n",
       "0                     How to be low-level programmer  77788381   \n",
       "1     Import OpenStreetMap data into Unreal Engine 4  77765042   \n",
       "2  react-native template to target multiple platf...  77784093   \n",
       "3  Connect your App to Multiple Messaging Channel...  77797132   \n",
       "4  Proto Actor - Ultra fast distributed actors fo...  77786107   \n",
       "\n",
       "        owner.login  \n",
       "0           gurugio  \n",
       "1        ue4plugins  \n",
       "2  react-everywhere  \n",
       "3           broidHQ  \n",
       "4        AsynkronIT  "
      ]
     },
     "execution_count": 58,
     "metadata": {},
     "output_type": "execute_result"
    }
   ],
   "source": [
    "temp.head()"
   ]
  },
  {
   "cell_type": "code",
   "execution_count": 96,
   "metadata": {},
   "outputs": [
    {
     "data": {
      "text/plain": [
       "11145"
      ]
     },
     "execution_count": 96,
     "metadata": {},
     "output_type": "execute_result"
    }
   ],
   "source": [
    "for index,row in temp.iterrows():\n",
    "    try:\n",
    "        if row['description'] is None:\n",
    "            temp.drop(index, inplace=True)\n",
    "    except Exception as e:\n",
    "        temp.drop(index, inplace=True)\n",
    "        print(str(e))\n",
    "len(temp)"
   ]
  },
  {
   "cell_type": "code",
   "execution_count": 170,
   "metadata": {
    "collapsed": true
   },
   "outputs": [],
   "source": [
    "temp = temp.reset_index(drop=True)"
   ]
  },
  {
   "cell_type": "markdown",
   "metadata": {},
   "source": [
    "Construct a mapping from author names to document IDs."
   ]
  },
  {
   "cell_type": "code",
   "execution_count": 172,
   "metadata": {},
   "outputs": [
    {
     "data": {
      "text/plain": [
       "[0]"
      ]
     },
     "execution_count": 172,
     "metadata": {},
     "output_type": "execute_result"
    }
   ],
   "source": [
    "# Get all author names and their corresponding document IDs.\n",
    "author2doc = dict()\n",
    "for index,row in temp.iterrows():\n",
    "    if not author2doc.get(row['owner.login']):\n",
    "        # This is a new author.\n",
    "        author2doc[row['owner.login']] = []\n",
    "    author2doc[row['owner.login']].append(index)\n",
    "# Test\n",
    "author2doc['gurugio']\n",
    "#len(author2doc)"
   ]
  },
  {
   "cell_type": "code",
   "execution_count": 174,
   "metadata": {},
   "outputs": [
    {
     "data": {
      "text/plain": [
       "'How to be low-level programmer'"
      ]
     },
     "execution_count": 174,
     "metadata": {},
     "output_type": "execute_result"
    }
   ],
   "source": [
    "# Get all document texts and their corresponding IDs.\n",
    "des2doc = dict()\n",
    "for index,row in temp.iterrows():\n",
    "    des2doc[index] = row['description']"
   ]
  },
  {
   "cell_type": "markdown",
   "metadata": {},
   "source": [
    "The text will be pre-processed using the following steps:\n",
    "1. Tokenize text.\n",
    "2. Remove stopwords.\n",
    "3. Remove all punctuation and numbers.\n",
    "4. Add frequent bigrams.\n",
    "5. Remove frequent and rare words.\n",
    "6. Remove frequent and rare words.\n"
   ]
  },
  {
   "cell_type": "code",
   "execution_count": 175,
   "metadata": {},
   "outputs": [
    {
     "data": {
      "text/plain": [
       "11145"
      ]
     },
     "execution_count": 175,
     "metadata": {},
     "output_type": "execute_result"
    }
   ],
   "source": [
    "# Pre-Prosessing\n",
    "texts = []\n",
    "tokenizer = RegexpTokenizer(r'\\w+')\n",
    "# create English stop words list\n",
    "en_stop = get_stop_words('en')\n",
    "# Create p_stemmer of class PorterStemmer  \n",
    "p_stemmer = PorterStemmer()\n",
    "\n",
    "# loop through document list  \n",
    "for i in list(des2doc.values()):\n",
    "    if i is not None:\n",
    "        raw = i.lower()\n",
    "        # clean and tokenize document string\n",
    "        tokens = tokenizer.tokenize(raw)\n",
    "        \n",
    "        # remove stop words from tokens  \n",
    "        stopped_tokens = [i for i in tokens if not i in en_stop]\n",
    "        \n",
    "        # stem tokens\n",
    "        stemmed_tokens = [p_stemmer.stem(i) for i in stopped_tokens]\n",
    "        \n",
    "        # add tokens to list\n",
    "        texts.append(stemmed_tokens)\n",
    "\n",
    "\n",
    "# Get rid of numbers\n",
    "no_number_texts = []\n",
    "for i in texts:\n",
    "    j = [item for item in i if item.isalpha()]\n",
    "    no_number_texts.append(j)\n",
    "#print(no_number_texts)\n",
    "len(texts)\n",
    "#len(no_number_texts)"
   ]
  },
  {
   "cell_type": "code",
   "execution_count": 176,
   "metadata": {},
   "outputs": [
    {
     "data": {
      "text/plain": [
       "11145"
      ]
     },
     "execution_count": 176,
     "metadata": {},
     "output_type": "execute_result"
    }
   ],
   "source": [
    "docs = no_number_texts\n",
    "len(docs)"
   ]
  },
  {
   "cell_type": "markdown",
   "metadata": {},
   "source": [
    "Below, we use a Gensim model to add bigrams. Note that this achieves the same goal as named entity recognition, that is, finding adjacent words that have some particular significance."
   ]
  },
  {
   "cell_type": "code",
   "execution_count": 177,
   "metadata": {},
   "outputs": [
    {
     "name": "stderr",
     "output_type": "stream",
     "text": [
      "/Users/haki/anaconda3/lib/python3.6/site-packages/gensim/models/phrases.py:494: UserWarning: For a faster implementation, use the gensim.models.phrases.Phraser class\n",
      "  warnings.warn(\"For a faster implementation, use the gensim.models.phrases.Phraser class\")\n"
     ]
    }
   ],
   "source": [
    "# Compute bigrams.\n",
    "from gensim.models import Phrases\n",
    "# Add bigrams and trigrams to docs (only ones that appear 20 times or more).\n",
    "bigram = Phrases(docs, min_count=20)\n",
    "for idx in range(len(docs)):\n",
    "    for token in bigram[docs[idx]]:\n",
    "        if '_' in token:\n",
    "            # Token is a bigram, add to document.\n",
    "            docs[idx].append(token)"
   ]
  },
  {
   "cell_type": "markdown",
   "metadata": {},
   "source": [
    "Now we are ready to construct a dictionary, as our vocabulary is finalized. We then remove common words (occurring > 50% of the time), and rare words (occur < 20 times in total)."
   ]
  },
  {
   "cell_type": "code",
   "execution_count": 178,
   "metadata": {
    "collapsed": true
   },
   "outputs": [],
   "source": [
    "# Create a dictionary representation of the documents, and filter out frequent and rare words.\n",
    "from gensim.corpora import Dictionary\n",
    "dictionary = Dictionary(docs)\n",
    "\n",
    "# Remove rare and common tokens.\n",
    "# Filter out words that occur too frequently or too rarely.\n",
    "max_freq = 0.5\n",
    "min_wordcount = 20\n",
    "dictionary.filter_extremes(no_below=min_wordcount, no_above=max_freq)\n",
    "\n",
    "_ = dictionary[0]  # This sort of \"initializes\" dictionary.id2token."
   ]
  },
  {
   "cell_type": "markdown",
   "metadata": {},
   "source": [
    "We produce the vectorized representation of the documents, to supply the author-topic model with, by computing the bag-of-words."
   ]
  },
  {
   "cell_type": "code",
   "execution_count": 179,
   "metadata": {
    "collapsed": true
   },
   "outputs": [],
   "source": [
    "# Vectorize data.\n",
    "\n",
    "# Bag-of-words representation of the documents.\n",
    "corpus = [dictionary.doc2bow(doc) for doc in docs]\n",
    "len(corpus)\n",
    "#print(corpus)\n",
    "#Shuffle and split train/test\n",
    "shuffle(corpus)\n",
    "train_corpus, test_corpus = corpus[:6999], corpus[7000:]"
   ]
  },
  {
   "cell_type": "markdown",
   "metadata": {},
   "source": [
    "Let's inspect the dimensionality of our data."
   ]
  },
  {
   "cell_type": "code",
   "execution_count": 180,
   "metadata": {},
   "outputs": [
    {
     "name": "stdout",
     "output_type": "stream",
     "text": [
      "Number of authors: 8260\n",
      "Number of unique tokens: 746\n",
      "Number of documents: 11145\n"
     ]
    }
   ],
   "source": [
    "print('Number of authors: %d' % len(author2doc))\n",
    "print('Number of unique tokens: %d' % len(dictionary))\n",
    "print('Number of documents: %d' % len(corpus))\n"
   ]
  },
  {
   "cell_type": "markdown",
   "metadata": {},
   "source": [
    "### Train model\n",
    "We train the author-topic model on the data prepared in the previous sections.\n",
    "The interface to the author-topic model is very similar to that of LDA in Gensim. In addition to a corpus, ID to word mapping (id2word) and number of topics (num_topics), the author-topic model requires either an author to document ID mapping (author2doc), or the reverse (doc2author).\n",
    "Below, we have also (this can be skipped for now):\n",
    "1. Increased the number of passes over the dataset (to improve the convergence of the optimization problem).\n",
    "2. Decreased the number of iterations over each document (related to the above).\n",
    "3. Specified the mini-batch size (chunksize) (primarily to speed up training).\n",
    "4. Turned off bound evaluation (eval_every) (as it takes a long time to compute).\n",
    "5. Turned on automatic learning of the alpha and eta priors (to improve the convergence of the optimization problem).\n",
    "6. Set the random state (random_state) of the random number generator (to make these experiments reproducible).\n",
    "Then we can load the model, and train it."
   ]
  },
  {
   "cell_type": "code",
   "execution_count": 192,
   "metadata": {
    "collapsed": true
   },
   "outputs": [],
   "source": [
    "# Train AuthorTopicModel\n",
    "from gensim.models import AuthorTopicModel\n",
    "model = AuthorTopicModel(corpus=corpus, num_topics=10, id2word=dictionary.id2token, \\\n",
    "                author2doc=author2doc, chunksize=2000, passes=1, eval_every=0, \\\n",
    "                iterations=50, random_state=1)"
   ]
  },
  {
   "cell_type": "markdown",
   "metadata": {},
   "source": [
    "We tried to improve the model by training it with different random initializations. Then we evaluate the topic coherence of the model using the top_topics method, and pick the model with the highest topic coherence."
   ]
  },
  {
   "cell_type": "code",
   "execution_count": 193,
   "metadata": {
    "collapsed": true
   },
   "outputs": [],
   "source": [
    "model_list = []\n",
    "for i in range(5):\n",
    "    model = AuthorTopicModel(corpus=corpus, num_topics=10, id2word=dictionary.id2token, \\\n",
    "                    author2doc=author2doc, chunksize=2000, passes=100, gamma_threshold=1e-10, \\\n",
    "                    eval_every=0, iterations=1, random_state=i)\n",
    "    top_topics = model.top_topics(corpus)\n",
    "    tc = sum([t[1] for t in top_topics])\n",
    "    model_list.append((model, tc))"
   ]
  },
  {
   "cell_type": "markdown",
   "metadata": {},
   "source": [
    "We can save the model to local disk so that we don't need to re-do the training process again if we exit the current process.\n",
    "\n",
    "We can load it from local disk."
   ]
  },
  {
   "cell_type": "code",
   "execution_count": 223,
   "metadata": {
    "collapsed": true
   },
   "outputs": [],
   "source": [
    "# Save model.\n",
    "model.save('/tmp/model.atmodel')\n"
   ]
  },
  {
   "cell_type": "code",
   "execution_count": 195,
   "metadata": {
    "collapsed": true
   },
   "outputs": [],
   "source": [
    "# Load model.\n",
    "model = AuthorTopicModel.load('/tmp/model.atmodel')"
   ]
  },
  {
   "cell_type": "markdown",
   "metadata": {},
   "source": [
    "### Explore author-topic representation\n",
    "Now that we have trained a model, we can start exploring the authors and the topics.\n",
    "First, let's simply print the most important words in the topics. Below we have printed topic 0. As we can see, each topic is associated with a set of words, and each word has a probability of being expressed under that topic."
   ]
  },
  {
   "cell_type": "code",
   "execution_count": 196,
   "metadata": {},
   "outputs": [
    {
     "data": {
      "text/plain": [
       "[('base', 0.069723341902688682),\n",
       " ('support', 0.031294860416073808),\n",
       " ('platform', 0.02745445997944659),\n",
       " ('applic', 0.022327567661310291),\n",
       " ('librari', 0.020965424192181656),\n",
       " ('client', 0.019475310770711209),\n",
       " ('rust', 0.01784696014218002),\n",
       " ('spring', 0.017613247066807187),\n",
       " ('tutori', 0.017609409968538228),\n",
       " ('framework', 0.016970801074474896)]"
      ]
     },
     "execution_count": 196,
     "metadata": {},
     "output_type": "execute_result"
    }
   ],
   "source": [
    "model.show_topic(0)"
   ]
  },
  {
   "cell_type": "markdown",
   "metadata": {},
   "source": [
    "We make a function to help us print the top topics of a particular author easily. It would print topics related to the author in ascending order."
   ]
  },
  {
   "cell_type": "code",
   "execution_count": 197,
   "metadata": {
    "collapsed": true
   },
   "outputs": [],
   "source": [
    "#Let's print the top topics of some authors. First, we make a function to help us do this more easily.\n",
    "from pprint import pprint\n",
    "\n",
    "def show_author(name):\n",
    "    print('\\n%s' % name)\n",
    "    #print('Docs:', model.author2doc[name])\n",
    "    print('Topics:')\n",
    "    pprint([(topic[0], model.show_topic(topic[0])) for topic in sorted(model[name], key=lambda x:x[1])])"
   ]
  },
  {
   "cell_type": "markdown",
   "metadata": {},
   "source": [
    "### Plotting the authors\n",
    "Now we're going to produce the kind of pacific archipelago looking plot below. The goal of this plot is to give you a way to explore the author-topic representation in an intuitive manner.\n",
    "\n",
    "We take all the author-topic distributions (stored in model.state.gamma) and embed them in a 2D space. To do this, we reduce the dimensionality of this data using t-SNE.\n",
    "\n",
    "t-SNE is a method that attempts to reduce the dimensionality of a dataset, while maintaining the distances between the points. That means that if two authors are close together in the plot below, then their topic distributions are similar.\n",
    "\n",
    "In the cell below, we transform the author-topic representation into the t-SNE space. You can increase the smallest_author value if you do not want to view all the authors with few documents.\n"
   ]
  },
  {
   "cell_type": "code",
   "execution_count": 198,
   "metadata": {
    "collapsed": true
   },
   "outputs": [],
   "source": [
    "# Plotting Authors\n",
    "from sklearn.manifold import TSNE\n",
    "tsne = TSNE(n_components=2, random_state=0)\n",
    "smallest_author = 0  # Ignore authors with documents less than this.\n",
    "authors = [model.author2id[a] for a in model.author2id.keys() if len(model.author2doc[a]) >= smallest_author]\n",
    "_ = tsne.fit_transform(model.state.gamma[authors, :])  # Result stored in tsne.embedding_"
   ]
  },
  {
   "cell_type": "markdown",
   "metadata": {},
   "source": [
    "We are now ready to display the plot using BokehJS. Wait patientily since it may take some time."
   ]
  },
  {
   "cell_type": "code",
   "execution_count": 199,
   "metadata": {},
   "outputs": [
    {
     "data": {
      "text/html": [
       "\n",
       "    <div class=\"bk-root\">\n",
       "        <a href=\"https://bokeh.pydata.org\" target=\"_blank\" class=\"bk-logo bk-logo-small bk-logo-notebook\"></a>\n",
       "        <span id=\"9d98d933-3e52-4d31-9c30-186d63e82d6b\">Loading BokehJS ...</span>\n",
       "    </div>"
      ]
     },
     "metadata": {},
     "output_type": "display_data"
    },
    {
     "data": {
      "application/javascript": [
       "\n",
       "(function(root) {\n",
       "  function now() {\n",
       "    return new Date();\n",
       "  }\n",
       "\n",
       "  var force = true;\n",
       "\n",
       "  if (typeof (root._bokeh_onload_callbacks) === \"undefined\" || force === true) {\n",
       "    root._bokeh_onload_callbacks = [];\n",
       "    root._bokeh_is_loading = undefined;\n",
       "  }\n",
       "\n",
       "\n",
       "  \n",
       "  if (typeof (root._bokeh_timeout) === \"undefined\" || force === true) {\n",
       "    root._bokeh_timeout = Date.now() + 5000;\n",
       "    root._bokeh_failed_load = false;\n",
       "  }\n",
       "\n",
       "  var NB_LOAD_WARNING = {'data': {'text/html':\n",
       "     \"<div style='background-color: #fdd'>\\n\"+\n",
       "     \"<p>\\n\"+\n",
       "     \"BokehJS does not appear to have successfully loaded. If loading BokehJS from CDN, this \\n\"+\n",
       "     \"may be due to a slow or bad network connection. Possible fixes:\\n\"+\n",
       "     \"</p>\\n\"+\n",
       "     \"<ul>\\n\"+\n",
       "     \"<li>re-rerun `output_notebook()` to attempt to load from CDN again, or</li>\\n\"+\n",
       "     \"<li>use INLINE resources instead, as so:</li>\\n\"+\n",
       "     \"</ul>\\n\"+\n",
       "     \"<code>\\n\"+\n",
       "     \"from bokeh.resources import INLINE\\n\"+\n",
       "     \"output_notebook(resources=INLINE)\\n\"+\n",
       "     \"</code>\\n\"+\n",
       "     \"</div>\"}};\n",
       "\n",
       "  function display_loaded() {\n",
       "    if (root.Bokeh !== undefined) {\n",
       "      var el = document.getElementById(\"9d98d933-3e52-4d31-9c30-186d63e82d6b\");\n",
       "      if (el != null) {\n",
       "        el.textContent = \"BokehJS \" + Bokeh.version + \" successfully loaded.\";\n",
       "      }\n",
       "    } else if (Date.now() < root._bokeh_timeout) {\n",
       "      setTimeout(display_loaded, 100)\n",
       "    }\n",
       "  }\n",
       "\n",
       "\n",
       "  function run_callbacks() {\n",
       "    try {\n",
       "      root._bokeh_onload_callbacks.forEach(function(callback) { callback() });\n",
       "    }\n",
       "    finally {\n",
       "      delete root._bokeh_onload_callbacks\n",
       "    }\n",
       "    console.info(\"Bokeh: all callbacks have finished\");\n",
       "  }\n",
       "\n",
       "  function load_libs(js_urls, callback) {\n",
       "    root._bokeh_onload_callbacks.push(callback);\n",
       "    if (root._bokeh_is_loading > 0) {\n",
       "      console.log(\"Bokeh: BokehJS is being loaded, scheduling callback at\", now());\n",
       "      return null;\n",
       "    }\n",
       "    if (js_urls == null || js_urls.length === 0) {\n",
       "      run_callbacks();\n",
       "      return null;\n",
       "    }\n",
       "    console.log(\"Bokeh: BokehJS not loaded, scheduling load and callback at\", now());\n",
       "    root._bokeh_is_loading = js_urls.length;\n",
       "    for (var i = 0; i < js_urls.length; i++) {\n",
       "      var url = js_urls[i];\n",
       "      var s = document.createElement('script');\n",
       "      s.src = url;\n",
       "      s.async = false;\n",
       "      s.onreadystatechange = s.onload = function() {\n",
       "        root._bokeh_is_loading--;\n",
       "        if (root._bokeh_is_loading === 0) {\n",
       "          console.log(\"Bokeh: all BokehJS libraries loaded\");\n",
       "          run_callbacks()\n",
       "        }\n",
       "      };\n",
       "      s.onerror = function() {\n",
       "        console.warn(\"failed to load library \" + url);\n",
       "      };\n",
       "      console.log(\"Bokeh: injecting script tag for BokehJS library: \", url);\n",
       "      document.getElementsByTagName(\"head\")[0].appendChild(s);\n",
       "    }\n",
       "  };var element = document.getElementById(\"9d98d933-3e52-4d31-9c30-186d63e82d6b\");\n",
       "  if (element == null) {\n",
       "    console.log(\"Bokeh: ERROR: autoload.js configured with elementid '9d98d933-3e52-4d31-9c30-186d63e82d6b' but no matching script tag was found. \")\n",
       "    return false;\n",
       "  }\n",
       "\n",
       "  var js_urls = [\"https://cdn.pydata.org/bokeh/release/bokeh-0.12.7.min.js\", \"https://cdn.pydata.org/bokeh/release/bokeh-widgets-0.12.7.min.js\", \"https://cdn.pydata.org/bokeh/release/bokeh-tables-0.12.7.min.js\", \"https://cdn.pydata.org/bokeh/release/bokeh-gl-0.12.7.min.js\"];\n",
       "\n",
       "  var inline_js = [\n",
       "    function(Bokeh) {\n",
       "      Bokeh.set_log_level(\"info\");\n",
       "    },\n",
       "    \n",
       "    function(Bokeh) {\n",
       "      \n",
       "    },\n",
       "    \n",
       "    function(Bokeh) {\n",
       "      \n",
       "      document.getElementById(\"9d98d933-3e52-4d31-9c30-186d63e82d6b\").textContent = \"BokehJS is loading...\";\n",
       "    },\n",
       "    function(Bokeh) {\n",
       "      console.log(\"Bokeh: injecting CSS: https://cdn.pydata.org/bokeh/release/bokeh-0.12.7.min.css\");\n",
       "      Bokeh.embed.inject_css(\"https://cdn.pydata.org/bokeh/release/bokeh-0.12.7.min.css\");\n",
       "      console.log(\"Bokeh: injecting CSS: https://cdn.pydata.org/bokeh/release/bokeh-widgets-0.12.7.min.css\");\n",
       "      Bokeh.embed.inject_css(\"https://cdn.pydata.org/bokeh/release/bokeh-widgets-0.12.7.min.css\");\n",
       "      console.log(\"Bokeh: injecting CSS: https://cdn.pydata.org/bokeh/release/bokeh-tables-0.12.7.min.css\");\n",
       "      Bokeh.embed.inject_css(\"https://cdn.pydata.org/bokeh/release/bokeh-tables-0.12.7.min.css\");\n",
       "    }\n",
       "  ];\n",
       "\n",
       "  function run_inline_js() {\n",
       "    \n",
       "    if ((root.Bokeh !== undefined) || (force === true)) {\n",
       "      for (var i = 0; i < inline_js.length; i++) {\n",
       "        inline_js[i].call(root, root.Bokeh);\n",
       "      }if (force === true) {\n",
       "        display_loaded();\n",
       "      }} else if (Date.now() < root._bokeh_timeout) {\n",
       "      setTimeout(run_inline_js, 100);\n",
       "    } else if (!root._bokeh_failed_load) {\n",
       "      console.log(\"Bokeh: BokehJS failed to load within specified timeout.\");\n",
       "      root._bokeh_failed_load = true;\n",
       "    } else if (force !== true) {\n",
       "      var cell = $(document.getElementById(\"9d98d933-3e52-4d31-9c30-186d63e82d6b\")).parents('.cell').data().cell;\n",
       "      cell.output_area.append_execute_result(NB_LOAD_WARNING)\n",
       "    }\n",
       "\n",
       "  }\n",
       "\n",
       "  if (root._bokeh_is_loading === 0) {\n",
       "    console.log(\"Bokeh: BokehJS loaded, going straight to plotting\");\n",
       "    run_inline_js();\n",
       "  } else {\n",
       "    load_libs(js_urls, function() {\n",
       "      console.log(\"Bokeh: BokehJS plotting callback run at\", now());\n",
       "      run_inline_js();\n",
       "    });\n",
       "  }\n",
       "}(window));"
      ]
     },
     "metadata": {},
     "output_type": "display_data"
    }
   ],
   "source": [
    "# Tell Bokeh to display plots inside the notebook.\n",
    "from bokeh.io import output_notebook\n",
    "output_notebook()"
   ]
  },
  {
   "cell_type": "markdown",
   "metadata": {},
   "source": [
    "Now we have the plot. As you can see, there are two significant large node in the plot. Move your mouse onto the node so that you can get detailed information of that node. The size of the node represent the number of documents the author created. The distance between two nodes represents the similarity of topics they concerned.\n",
    "\n",
    "The biggest node in the top middle represents \"fossasia\", an open source community of people from all continents based in Asia. If you move the mouse inside the node, you can see that this biggest node is overlap with other nodes, such as \"Microsoft\" and \"facebookresearch\"."
   ]
  },
  {
   "cell_type": "code",
   "execution_count": 200,
   "metadata": {},
   "outputs": [
    {
     "data": {
      "text/html": [
       "\n",
       "\n",
       "    <div class=\"bk-root\">\n",
       "        <div class=\"bk-plotdiv\" id=\"c1b1fab4-e0ef-4ff2-b41a-0299a8891faa\"></div>\n",
       "    </div>\n",
       "<script type=\"text/javascript\">\n",
       "  \n",
       "  (function(root) {\n",
       "    function now() {\n",
       "      return new Date();\n",
       "    }\n",
       "  \n",
       "    var force = false;\n",
       "  \n",
       "    if (typeof (root._bokeh_onload_callbacks) === \"undefined\" || force === true) {\n",
       "      root._bokeh_onload_callbacks = [];\n",
       "      root._bokeh_is_loading = undefined;\n",
       "    }\n",
       "  \n",
       "  \n",
       "    \n",
       "    if (typeof (root._bokeh_timeout) === \"undefined\" || force === true) {\n",
       "      root._bokeh_timeout = Date.now() + 0;\n",
       "      root._bokeh_failed_load = false;\n",
       "    }\n",
       "  \n",
       "    var NB_LOAD_WARNING = {'data': {'text/html':\n",
       "       \"<div style='background-color: #fdd'>\\n\"+\n",
       "       \"<p>\\n\"+\n",
       "       \"BokehJS does not appear to have successfully loaded. If loading BokehJS from CDN, this \\n\"+\n",
       "       \"may be due to a slow or bad network connection. Possible fixes:\\n\"+\n",
       "       \"</p>\\n\"+\n",
       "       \"<ul>\\n\"+\n",
       "       \"<li>re-rerun `output_notebook()` to attempt to load from CDN again, or</li>\\n\"+\n",
       "       \"<li>use INLINE resources instead, as so:</li>\\n\"+\n",
       "       \"</ul>\\n\"+\n",
       "       \"<code>\\n\"+\n",
       "       \"from bokeh.resources import INLINE\\n\"+\n",
       "       \"output_notebook(resources=INLINE)\\n\"+\n",
       "       \"</code>\\n\"+\n",
       "       \"</div>\"}};\n",
       "  \n",
       "    function display_loaded() {\n",
       "      if (root.Bokeh !== undefined) {\n",
       "        var el = document.getElementById(\"c1b1fab4-e0ef-4ff2-b41a-0299a8891faa\");\n",
       "        if (el != null) {\n",
       "          el.textContent = \"BokehJS \" + Bokeh.version + \" successfully loaded.\";\n",
       "        }\n",
       "      } else if (Date.now() < root._bokeh_timeout) {\n",
       "        setTimeout(display_loaded, 100)\n",
       "      }\n",
       "    }\n",
       "  \n",
       "  \n",
       "    function run_callbacks() {\n",
       "      try {\n",
       "        root._bokeh_onload_callbacks.forEach(function(callback) { callback() });\n",
       "      }\n",
       "      finally {\n",
       "        delete root._bokeh_onload_callbacks\n",
       "      }\n",
       "      console.info(\"Bokeh: all callbacks have finished\");\n",
       "    }\n",
       "  \n",
       "    function load_libs(js_urls, callback) {\n",
       "      root._bokeh_onload_callbacks.push(callback);\n",
       "      if (root._bokeh_is_loading > 0) {\n",
       "        console.log(\"Bokeh: BokehJS is being loaded, scheduling callback at\", now());\n",
       "        return null;\n",
       "      }\n",
       "      if (js_urls == null || js_urls.length === 0) {\n",
       "        run_callbacks();\n",
       "        return null;\n",
       "      }\n",
       "      console.log(\"Bokeh: BokehJS not loaded, scheduling load and callback at\", now());\n",
       "      root._bokeh_is_loading = js_urls.length;\n",
       "      for (var i = 0; i < js_urls.length; i++) {\n",
       "        var url = js_urls[i];\n",
       "        var s = document.createElement('script');\n",
       "        s.src = url;\n",
       "        s.async = false;\n",
       "        s.onreadystatechange = s.onload = function() {\n",
       "          root._bokeh_is_loading--;\n",
       "          if (root._bokeh_is_loading === 0) {\n",
       "            console.log(\"Bokeh: all BokehJS libraries loaded\");\n",
       "            run_callbacks()\n",
       "          }\n",
       "        };\n",
       "        s.onerror = function() {\n",
       "          console.warn(\"failed to load library \" + url);\n",
       "        };\n",
       "        console.log(\"Bokeh: injecting script tag for BokehJS library: \", url);\n",
       "        document.getElementsByTagName(\"head\")[0].appendChild(s);\n",
       "      }\n",
       "    };var element = document.getElementById(\"c1b1fab4-e0ef-4ff2-b41a-0299a8891faa\");\n",
       "    if (element == null) {\n",
       "      console.log(\"Bokeh: ERROR: autoload.js configured with elementid 'c1b1fab4-e0ef-4ff2-b41a-0299a8891faa' but no matching script tag was found. \")\n",
       "      return false;\n",
       "    }\n",
       "  \n",
       "    var js_urls = [];\n",
       "  \n",
       "    var inline_js = [\n",
       "      function(Bokeh) {\n",
       "        (function() {\n",
       "          var fn = function() {\n",
       "            var docs_json = {\"9e953b62-d190-40de-abae-ffc3f84b19f4\":{\"roots\":{\"references\":[{\"attributes\":{},\"id\":\"b23b8f4a-77c8-48a3-b078-73475ca9ac96\",\"type\":\"CrosshairTool\"},{\"attributes\":{},\"id\":\"572adad8-f47b-48a4-8f8e-ea57d0f3386f\",\"type\":\"SaveTool\"},{\"attributes\":{\"formatter\":{\"id\":\"2f9a8424-c665-4d80-b930-625dd31a37c7\",\"type\":\"BasicTickFormatter\"},\"plot\":{\"id\":\"2162232b-8d4d-47a6-8d87-0b90fc152f2d\",\"subtype\":\"Figure\",\"type\":\"Plot\"},\"ticker\":{\"id\":\"f9d5fec0-ce16-4e49-8daf-ada703076222\",\"type\":\"BasicTicker\"}},\"id\":\"e8126870-6b07-4983-8a2a-24e37cab5dbf\",\"type\":\"LinearAxis\"},{\"attributes\":{},\"id\":\"f9d5fec0-ce16-4e49-8daf-ada703076222\",\"type\":\"BasicTicker\"},{\"attributes\":{},\"id\":\"51908bec-afbb-4cb9-90b2-ae464a0fd74a\",\"type\":\"LinearScale\"},{\"attributes\":{\"bottom_units\":\"screen\",\"fill_alpha\":{\"value\":0.5},\"fill_color\":{\"value\":\"lightgrey\"},\"left_units\":\"screen\",\"level\":\"overlay\",\"line_alpha\":{\"value\":1.0},\"line_color\":{\"value\":\"black\"},\"line_dash\":[4,4],\"line_width\":{\"value\":2},\"plot\":null,\"render_mode\":\"css\",\"right_units\":\"screen\",\"top_units\":\"screen\"},\"id\":\"9e379ff4-33e9-45e3-9ed1-926793543da2\",\"type\":\"BoxAnnotation\"},{\"attributes\":{\"dimension\":1,\"plot\":{\"id\":\"2162232b-8d4d-47a6-8d87-0b90fc152f2d\",\"subtype\":\"Figure\",\"type\":\"Plot\"},\"ticker\":{\"id\":\"7a747500-b6dc-4dd4-9012-4a8abce9502d\",\"type\":\"BasicTicker\"}},\"id\":\"0b38d8f0-248c-4257-b59b-fbc1b3e82b08\",\"type\":\"Grid\"},{\"attributes\":{},\"id\":\"ce605942-2187-4efa-b6fa-fd6cf65ec932\",\"type\":\"BasicTickFormatter\"},{\"attributes\":{},\"id\":\"7a747500-b6dc-4dd4-9012-4a8abce9502d\",\"type\":\"BasicTicker\"},{\"attributes\":{\"callback\":null,\"column_names\":[\"x\",\"y\",\"author_names\",\"author_sizes\",\"radii\"],\"data\":{\"author_names\":[\"003random\",\"08carmelo\",\"0bserver07\",\"0i0\",\"0x00A\",\"0x09AL\",\"0x13a\",\"0x4D31\",\"0xM3R\",\"0xProject\",\"0xbadjuju\",\"0xbug\",\"0xcl\",\"0xdea\",\"0xdeadbeefJERKY\",\"0xxd0\",\"100\",\"100mango\",\"10up\",\"1111joe1111\",\"11ty\",\"12207480\",\"1337list\",\"13585869260\",\"15Dkatz\",\"15cm\",\"18010927657\",\"193Eric\",\"1991wangliang\",\"1998lixin\",\"1N3\",\"1adrianb\",\"1amageek\",\"1backend\",\"1c7\",\"215566435\",\"24ark\",\"2501224066\",\"251321639\",\"255kb\",\"25th-floor\",\"28mm\",\"2dxgujun\",\"360-A-Team\",\"360EntSecGroup-Skylar\",\"385841539\",\"3gstudent\",\"404labfr\",\"409H\",\"42wim\",\"4w4k3\",\"51nb\",\"521xueweihan\",\"52ABP\",\"52NineTwo\",\"52cik\",\"550609334\",\"5A59\",\"649\",\"6IX7ine\",\"72\",\"781015928\",\"7sharp9\",\"8values\",\"90candy\",\"91renb\",\"928675268\",\"976500133\",\"A1kmm\",\"AAChartModel\",\"AAkira\",\"ACL4SSR\",\"AEB-labs\",\"AElfProject\",\"AFathi\",\"AI-metrics\",\"AIChallenger\",\"AITTSMD\",\"AKSHAYUBHAT\",\"ALEXZZZ9\",\"ALSchwalm\",\"AMoreaux\",\"APIs-guru\",\"ARM-software\",\"ASKurz\",\"AT-UI\",\"Aaaaaaaty\",\"Aakashdeveloper\",\"Aaron0525\",\"AaronJackson\",\"Aaronius\",\"Abdulraheem30042\",\"AbrahamCaiJin\",\"Accelerider\",\"Accenture\",\"ActiveState\",\"AdamNiederer\",\"AfrozZaheer\",\"Agontuk\",\"AhMyth\",\"Ai-Thinker-Open\",\"AimeeLee77\",\"AirbusCyber\",\"AirtestProject\",\"Ajian-studio\",\"Akryum\",\"AkshayChordiya\",\"Al-Azif\",\"AladinWay\",\"Alan-Lee123\",\"AlanCristhian\",\"AlbieLiang\",\"Alecaddd\",\"AlessandroZ\",\"AlexAltea\",\"AlexiaJM\",\"AlfredXiangWu\",\"Alfredvc\",\"AlgusDark\",\"AliceWonderland\",\"AllenCoder\",\"AlloyTeam\",\"AloneMonkey\",\"AlphaQi\",\"AltCoinExchange\",\"AmateurEvents\",\"AmazingApps\",\"AnderGoig\",\"AndreiBarsan\",\"Andrewnetwork\",\"AndroidDevFr\",\"Andy671\",\"Angads25\",\"Angarsk8\",\"Angelmmiguel\",\"Angular-RU\",\"AnimaApp\",\"AnliaLee\",\"Anna-Assistant\",\"AnomalyInnovations\",\"AnotherJack\",\"AnthonyFermin\",\"Antondomashnev\",\"Anuken\",\"Anupam-dagar\",\"AnyISalIn\",\"AnyLifeZLB\",\"Apache-Flink-Docs-ZH\",\"ApolloAuto\",\"ApolloZhu\",\"AppCraft-LLC\",\"Applandeo\",\"AppliedDataSciencePartners\",\"ApplikeySolutions\",\"AppraiseQA\",\"Arasthel\",\"ArcherFMY\",\"Aris-t2\",\"ArmisSecurity\",\"Arno0x\",\"Array-Huang\",\"Arrexel\",\"Artemmkin\",\"ArthurBrussee\",\"Arturus\",\"ArunMichaelDsouza\",\"Arvanaghi\",\"ArztSamuel\",\"AshleyScirra\",\"AskyEdu\",\"AssemblyScript\",\"AsuraTeam\",\"AsynkronIT\",\"Atcold\",\"AthenaAI\",\"Atmosphere-NX\",\"Atyantik\",\"AudioKit\",\"Authing\",\"AviranAbady\",\"Avkash\",\"AweiLoveAndroid\",\"Awheat\",\"AxeldeRomblay\",\"AzimoLabs\",\"Azure\",\"Azure-Samples\",\"Azure99\",\"Azurency\",\"B2W-BIT\",\"B3nac\",\"BAILOOL\",\"BANKEX\",\"BKWLD\",\"BTCGPU\",\"BTCPrivate\",\"BaReinhard\",\"BabylonJS\",\"Babylonpartners\",\"BadTudou\",\"BakerJQ\",\"BalazsJako\",\"BalestraPatrick\",\"BanjoFox\",\"BaronZ88\",\"BartyzalRadek\",\"Bartzi\",\"BaselHorany\",\"BasioMeusPuga\",\"Bauxitedev\",\"BeardedManStudios\",\"BeesAndroid\",\"BeetleChunks\",\"Ben-Louis\",\"Ben02\",\"BendingSpoons\",\"BengBu-YueZhang\",\"Benjamin-Dobell\",\"BenjiKCF\",\"Bennnis\",\"BernardoGiordano\",\"BestSwift\",\"Biarity\",\"BigNerd95\",\"BiglySoftware\",\"BilalReffas\",\"BilgisayarKavramlari\",\"BiliLove\",\"Bilibili\",\"Billy-Ellis\",\"BillyV4\",\"Binaryify\",\"BiometricVox\",\"BishopFox\",\"Bitcoin-ABC\",\"Bkyn\",\"BlackrockDigital\",\"Blankeer\",\"Blankj\",\"Bleoo\",\"Blizzard\",\"Blizzard-liu\",\"Bloomca\",\"BlueHatbRit\",\"Bo0oM\",\"BobEve\",\"Bodmer\",\"Boerworz\",\"Bogdan-Lyashenko\",\"Bogdanp\",\"BohdanOrlov\",\"BoltDoggy\",\"BoostIO\",\"Boris-Em\",\"Boscop\",\"Bose\",\"Botre\",\"BoyuanJiang\",\"BradyBrenot\",\"BrambleXu\",\"Brances\",\"Breakend\",\"BretFisher\",\"BriData\",\"Brickies\",\"Brigad\",\"BrockReece\",\"Brooooooklyn\",\"Brunty\",\"BryantPang\",\"BunqCommunity\",\"BurntSushi\",\"Busimus\",\"ButterflyAPM\",\"BycorSanchez\",\"ByronHsu\",\"BytesForBites\",\"Bytom\",\"C-JSN\",\"CB-ysx\",\"CCareaga\",\"CHYbeta\",\"CLIUtils\",\"CMU-Perceptual-Computing-Lab\",\"CN-ZPH\",\"CNCoderX\",\"CQFIO\",\"CR-Gjx\",\"CRAnimation\",\"CSAILVision\",\"CSdare\",\"CVEProject\",\"CVarisco\",\"Cadene\",\"Caiyeon\",\"Calamari\",\"Caldis\",\"CalebFenton\",\"CaliDog\",\"CalvertYang\",\"CalvinPPD\",\"Canbing007\",\"CapivaraJS\",\"Captainarash\",\"Cararasu\",\"CarbonDate\",\"Carson-Ho\",\"Cartucho\",\"CatLib\",\"CboeSecurity\",\"CelesteBlue-dev\",\"Cellane\",\"Centribo\",\"Ceruleanacg\",\"CesarValiente\",\"Chalarangelo\",\"ChanceYu\",\"ChangbaDevs\",\"ChaosOctopus\",\"Chaosthebot\",\"CharlesMangwa\",\"CharlesShang\",\"ChavezChen\",\"CheckPointSW\",\"Checkmarx\",\"ChenLittlePing\",\"ChenYilong\",\"ChenglongChen\",\"Chia-Network\",\"ChihebTrabelsi\",\"ChiliLabs\",\"Chillee\",\"ChillingVan\",\"Chimeejs\",\"ChinaLHR\",\"ChinaSilence\",\"Chingu-cohorts\",\"ChintanTrivedi\",\"Chion82\",\"Chippd\",\"Chobbes\",\"Chris-Annin\",\"ChrisKnott\",\"ChrisRx\",\"ChrisTheCoolHut\",\"ChristopherA\",\"Chuibility\",\"Chymyst\",\"Cisco-Talos\",\"CityOfZion\",\"Cleafy\",\"ClementPinard\",\"Cleveroad\",\"ClockGet\",\"CloudTask\",\"ClusterM\",\"ClusterWS\",\"Cn33liz\",\"CoNarrative\",\"Coalfire-Research\",\"Code-Bullet\",\"Code-dot-mil\",\"CodeBrauer\",\"CodeTengu\",\"CodeTips\",\"CodeXiaoMai\",\"CodeandoMexico\",\"Codeido\",\"CoderLN\",\"CoderMJLee\",\"CoderMikeHe\",\"CoderSavior\",\"CoderZhuXH\",\"CodingTrain\",\"Col-E\",\"ColCarroll\",\"ColinEberhardt\",\"Commit451\",\"CommunityBootcamp\",\"CondeNast\",\"ConfettiFX\",\"CongWeilin\",\"ConnersHua\",\"ConsenSys\",\"ContainerSolutions\",\"Cookie-AutoDelete\",\"CoolerVoid\",\"CorkiiOS\",\"CosmicMind\",\"Cretezy\",\"Crizstian\",\"CrowHawk\",\"CrowdHailer\",\"CrunchyData\",\"Crypto-AI\",\"Crypto-toolbox\",\"CryptoGnome\",\"CryptoKass\",\"CryptoSignal\",\"CryptoWorldChain\",\"Cryptogenic\",\"Cuieney\",\"CunningLogic\",\"CuriousAI\",\"CyanSalt\",\"Cyb3rWard0g\",\"Cybellum\",\"CyberMonitor\",\"CyclejsCN\",\"Cyclenerd\",\"Cysu\",\"D-32\",\"D-X-Y\",\"D35m0nd142\",\"D4Vinci\",\"DAVFoundation\",\"DDoSolitary\",\"DEgITx\",\"DFilipeS\",\"DGA-MI-SSI\",\"DIYgod\",\"DLR-TS\",\"DLTK\",\"DPDK\",\"DT42\",\"DWilliames\",\"DXY-F2E\",\"Dafrok\",\"Daltron\",\"DanMcInerney\",\"Danie1s\",\"DanielMartinus\",\"DanielSmith1239\",\"DanielnetoDotCom\",\"Danny1451\",\"DarthSim\",\"Data4Democracy\",\"DaveGut\",\"DavexPro\",\"DavidJacobson\",\"DavidLambauer\",\"Dawish\",\"DeNA\",\"Dean177\",\"Decisiv\",\"DeclarativeHub\",\"Deeplocal\",\"DemocracyEarth\",\"DenisKolodin\",\"DenisTome\",\"DenizParlak\",\"DennisSnijder\",\"DennisYurichev\",\"DerWaldi\",\"DerekSelander\",\"Desgard\",\"DesignRevision\",\"DevAhamed\",\"DevExpress\",\"DevOps-Academy-Org\",\"DeveloperLx\",\"DeviaVir\",\"Dexaran\",\"DhavalKapil\",\"DholStudio\",\"DhyanaChina\",\"DiabloHorn\",\"DianQK\",\"DiegoVicen\",\"DiegoZoracKy\",\"DigAg\",\"DimensionSoftware\",\"DingMouRen\",\"DingdingKim\",\"DirtyCajunRice\",\"DivanteLtd\",\"DmitrySoshnikov\",\"DmitryUlyanov\",\"DockStation\",\"DogusTeknoloji\",\"DokuEnterprise\",\"DomanskaGrzyb\",\"DominikSerafin\",\"DongjunLee\",\"DonnchaC\",\"DotzuX\",\"DoubleL-Coding\",\"DoubleLabyrinth\",\"DrakeWitt\",\"Drakulix\",\"Draveness\",\"DreamingInBinary\",\"DreySkee\",\"DroidKaigi\",\"DroidsOnRoids\",\"Duhemm\",\"Dunedan\",\"DutchGraa\",\"Dvlv\",\"Dwarf-Therapist\",\"DylanHamer\",\"DylanVann\",\"EOSIO\",\"EQuimper\",\"ETHLend\",\"EYHN\",\"Eajy\",\"East196\",\"Eastern-subversive\",\"EasyCorp\",\"EbTech\",\"EdOverflow\",\"EdjeElectronics\",\"EgeBalci\",\"Ehco1996\",\"Eitenne\",\"Ekito\",\"Ekultek\",\"ElectraJailbreak\",\"ElectronNET\",\"ElemeFE\",\"ElementsProject\",\"ElfSundae\",\"EliotAndres\",\"EllanJiang\",\"ElliottLandsborough\",\"Elricyo\",\"Elvenisboy\",\"EmailThis\",\"EmilHvitfeldt\",\"EmilTholin\",\"EmmyLua\",\"EnderTan\",\"Eniac-Xie\",\"Enrico204\",\"Equanox\",\"Erblocker\",\"EricAlcaide\",\"Erkaman\",\"ErlendEllingsen\",\"EthVentures\",\"EthanOrange\",\"EthanSchatzline\",\"EtherDream\",\"Eugnis\",\"Eun\",\"EvanAgee\",\"EvanBacon\",\"EveAeternam\",\"EventSaucePHP\",\"EvilPort2\",\"EwanValentine\",\"Exodus-Privacy\",\"ExplorerFreda\",\"Exrick\",\"EyreFree\",\"EzoeRyou\",\"F-Stack\",\"F-loat\",\"F483\",\"FGRibreau\",\"FabianTerhorst\",\"Fabianlindfors\",\"FabrizioBrancati\",\"FaisalUmair\",\"Fakerr\",\"FalkoJoseph\",\"FanhuaCloud\",\"FarGroup\",\"FatDong1\",\"FavioVazquez\",\"Featuretools\",\"February12\",\"FedeDP\",\"FeeiCN\",\"FidelLimited\",\"FiloSottile\",\"FinNLP\",\"Firedamp\",\"FireyFly\",\"Firwood-Software\",\"FirzenYogesh\",\"Flaque\",\"Flipkart\",\"FlowCI\",\"FluidSynth\",\"FlutterRocks\",\"FluxionNetwork\",\"Fondesa\",\"ForbesLindesay\",\"Foreveriss\",\"ForkAwesome\",\"FormidableLabs\",\"ForsakenHarmony\",\"FortAwesome\",\"FortechRomania\",\"Fortyseven\",\"Fotoapparat\",\"FragileTheory\",\"Franck-Dernoncourt\",\"FranckFreiburger\",\"FrankFang\",\"FreeTubeApp\",\"FrogTheFrog\",\"FrontendMasters\",\"FuZhucheng\",\"FullHuman\",\"FunctionClub\",\"Functional-JavaScript\",\"FuzzySecurity\",\"G-E-N-E-S-I-S\",\"G-Joker\",\"GDPRTracker\",\"GDquest\",\"GKalliatakis\",\"GPUOpen-Drivers\",\"GPUOpen-LibrariesAndSDKs\",\"GRAAL-Research\",\"GREENBANYAN\",\"GU-CLASP\",\"Gabriel439\",\"GameBuildingBlocks\",\"GameTechDev\",\"Games-and-Simulations\",\"GammaGao\",\"GautamChibde\",\"GavinYellow\",\"GcsSloop\",\"GeSnowBoy\",\"GeeJoe\",\"Geek-1001\",\"Geek-ch\",\"GeekGhc\",\"GeekyAnts\",\"GeneSourceCode\",\"GeneaLabs\",\"GeneralSandman\",\"GenesisKernel\",\"GenisysPro\",\"Genymobile\",\"GeoSn0w\",\"Geolage\",\"George66\",\"GeorgeArgyrakis\",\"GeorgeSeif\",\"Gerapy\",\"GerbenJavado\",\"Germey\",\"GetStoryline\",\"GetStream\",\"Gh0u1L5\",\"GianlucaGuarini\",\"Gigacore\",\"Gil2015\",\"Gismo8\",\"GitHawkApp\",\"GitLqr\",\"GitMirar\",\"GoFetchAD\",\"Godofbrowser\",\"GodzzZZZ\",\"GoodieBag\",\"GoogleChrome\",\"GoogleChromeLabs\",\"GoogleCloudPlatform\",\"GopherConRu\",\"GordonChen13\",\"GossiTheDog\",\"GothenburgBitFactory\",\"Graphite-Docs\",\"GraxCode\",\"Great-Hill-Corporation\",\"GreatSCT\",\"GrenderG\",\"Grille98\",\"GroaJS\",\"GunhoChoi\",\"GuoZhaoHui628\",\"GwonHyeok\",\"H1dd3nM1nd\",\"HA71\",\"HAPENLY\",\"HCIILAB\",\"HD421\",\"HDInnovations\",\"HFO4\",\"HKUST-Aerial-Robotics\",\"HKUST-KnowComp\",\"HLearning\",\"HOOQTV\",\"HRLTY\",\"HaJaeKyung\",\"Hacker0x01\",\"HackerHouseYT\",\"HackerThemes\",\"HaikuTeam\",\"HaithemMosbahi\",\"Haivision\",\"HakaseH\",\"HaliteChallenge\",\"Hamadakram\",\"Hameds\",\"HamzaGhazouani\",\"Haojen\",\"Har-Kuun\",\"HarrisJT\",\"HarsaroopDhillon\",\"HarshilShah\",\"Haseeb-Qureshi\",\"HatBashBR\",\"HauyuChen\",\"HawkEleven\",\"HazardDev\",\"HcySunYang\",\"HeZaiJin\",\"Heeexy\",\"HeidiSQL\",\"Helidium\",\"HelloChenJinJun\",\"HenrikJoreteg\",\"HerbL27\",\"Heumi\",\"Hexlet\",\"Hexworks\",\"Heydon\",\"HikariObfuscator\",\"Hironsan\",\"Hiroshiba\",\"HoME-Platform\",\"Hopson97\",\"Horrarndoo\",\"HotelsDotCom\",\"HouJP\",\"Hsiny\",\"HsuanXyz\",\"HttpRunner\",\"HuanHaiLiuXin\",\"HuangQinJian\",\"HuberTRoy\",\"HumbleNet\",\"Hwj1220\",\"HyeonseobNam\",\"Hyperparticle\",\"IAIK\",\"IBDecodable\",\"IBM\",\"IBM-Swift\",\"ICSrepo\",\"ICT-BDA\",\"IDAConnect\",\"IKende\",\"IMcD23\",\"IOActive\",\"Ice3man543\",\"IdeasOnCanvas\",\"Idnan\",\"IgniteUI\",\"IjzerenHein\",\"Ilhasoft\",\"ImageOptim\",\"Imangazaliev\",\"ImangazalievM\",\"ImminentFate\",\"Immortalt\",\"Imputes\",\"InFoCusp\",\"InVisionApp\",\"IndieVisualLab\",\"InfamousSYN\",\"InfiniteTsukuyomi\",\"InflationX\",\"InjoyDeng\",\"InspireNL\",\"Instagram\",\"Intel-Media-SDK\",\"IntelLabs\",\"Interactive-Studio\",\"InvidHead\",\"IronLanguages\",\"IronPans\",\"IsraelZablianov\",\"IvanRublev\",\"IvanVorobei\",\"Ivoah\",\"JD342\",\"JKalash\",\"JLospinoso\",\"JMccormick264\",\"JPCERTCC\",\"JPStrydom\",\"JSLancerTeam\",\"JZJJZJ\",\"JacekKosciesza\",\"JaceyRx\",\"Jack000\",\"JackonYang\",\"JacksonWuxs\",\"JackyChiu\",\"JacobEberhardt\",\"JacobEvelyn\",\"Jacse\",\"JaeYeopHan\",\"JakeBecker\",\"JakeRenn\",\"JakeWharton\",\"Jamalc0m\",\"JamesBear\",\"JamesChuanggg\",\"JamesZBL\",\"Jamling\",\"JanKallman\",\"Janmin\",\"JarveeLee\",\"JasonEtco\",\"JasonHuang3D\",\"JasonLiTW\",\"JasonQS\",\"Jasonette\",\"JasperFx\",\"Javen205\",\"JaxsonWang\",\"Jay-Goo\",\"JayParks\",\"Jazqa\",\"JeemyJohn\",\"JefMari\",\"JeffLi1993\",\"JeffPaine\",\"JeffreyWay\",\"Jeija\",\"Jerenaux\",\"Jerry1211\",\"JesperLekland\",\"JessYanCoding\",\"JesusM\",\"JetBrains\",\"Jexordexan\",\"JezaChen\",\"JiaRenChang\",\"JiahuiYu\",\"JianGoForIt\",\"JianyangZhang\",\"Jichensheng\",\"Jigsaw-Code\",\"JimmyVV\",\"JiongXing\",\"Jiri-Kremser\",\"JmStefanAndroid\",\"JnuSimba\",\"Job-Yang\",\"Jobeir\",\"JochenBaier\",\"JockDaRock\",\"Joe0708\",\"John-Connolly\",\"JohnSnowLabs\",\"JohnSundell\",\"Joker316701882\",\"Jomes\",\"JonAbrams\",\"JorgeCastilloPrz\",\"JoseTomasTocino\",\"JosefNemec\",\"JosephShenton\",\"JosephSmith127\",\"Josh015\",\"JoshuaRogue\",\"JourneyYoung\",\"Juanpe\",\"JudasDie\",\"JuicyPasta\",\"JumpFm\",\"JunAILiang\",\"JunYeopLee\",\"JunshengFu\",\"JunyiXie\",\"JunyuKuang\",\"JustClear\",\"JustKiddingBaby\",\"JusticeRage\",\"Justson\",\"KABBOUCHI\",\"KMFDManic\",\"KYDronePilot\",\"Kagami\",\"Kaggle\",\"Kaixhin\",\"KaiyangZhou\",\"Kaizeras\",\"Kaldaien\",\"KaleidoZhouYN\",\"KamesCG\",\"KamilOcean\",\"KarenUllrich\",\"Karumi\",\"KasperskyLab\",\"Katee\",\"Kay-MalwareBenchmark\",\"Kazhnuz\",\"KeKe-Li\",\"Kelin-Hong\",\"KelvinJin\",\"KenShih522\",\"Kentik\",\"Kevin-Robertson\",\"KhronosGroup\",\"KieSun\",\"KimDarren\",\"KingJA\",\"KingsMentor\",\"KiranJasvanee\",\"KiriKira\",\"Kisesy\",\"Kishanjvaghela\",\"Kivy-CN\",\"KleinYuan\",\"KlugerLab\",\"KmanOz\",\"Kofktu\",\"KomaBeyond\",\"KomoriWu\",\"Kotlin\",\"KrauseFx\",\"Kreijstal\",\"KrisYu\",\"Kristories\",\"Krupen\",\"KuangPF\",\"KucherenkoIhor\",\"Kulbear\",\"KumarRobotics\",\"KunTengRom\",\"Kungsgeten\",\"KupynOrest\",\"KxSystems\",\"Kyle-Kyle\",\"KyleBanks\",\"KyriosArk\",\"Kyson\",\"Kyubyong\",\"L-Chris\",\"L-Zephyr\",\"L316476844\",\"LCTF\",\"LFeh\",\"LINKIWI\",\"LIU9293\",\"LJMagicCoder\",\"LMsgSendNilSelf\",\"LPirro\",\"LRH1993\",\"Labelbox\",\"Laboratoria\",\"Labs64\",\"LakorTi\",\"Lallassu\",\"LaloMrtnz\",\"LambdaSchool\",\"LanceGin\",\"LandGrey\",\"Langhalsdino\",\"LantaoYu\",\"LappleApple\",\"LaravelDaily\",\"Lauzy\",\"LawnchairLauncher\",\"LazoCoder\",\"LeCoupa\",\"Leandros\",\"Leavingseason\",\"LedgerHQ\",\"LeeReindeer\",\"Legedric\",\"LennonChin\",\"LeoQin0816\",\"LeoYang90\",\"Leocardoso94\",\"LeonardoCardoso\",\"LeonardoZ\",\"Leopotam\",\"Lerist\",\"Leslin\",\"LesterCovax\",\"LiangLuDev\",\"Liaoworking\",\"LibreTime\",\"LiikeJS\",\"LillteZheng\",\"LimBee\",\"LinXunFeng\",\"LinxGem33\",\"LisaDziuba\",\"Lisandro79\",\"Lision\",\"LisonFan\",\"LitleCarl\",\"LiuXiaolong19920720\",\"LiuqingDu\",\"LiushuiXiaoxia\",\"LiveAsynchronousVisualizedArchitecture\",\"LiveQL\",\"LiyuanLucasLiu\",\"Liyuk\",\"LjyYano\",\"LloydLabs\",\"LoicMahieu\",\"Loilo\",\"LoopPerfect\",\"LoranWong\",\"LotteMakesStuff\",\"LouisScorpio\",\"Louiszhai\",\"LoveZYForever\",\"Lovelcp\",\"LowKostKustomz\",\"Lucas-iOS\",\"LucasBassetti\",\"LucasLeandro1204\",\"LucianoGanga\",\"Lucifer1993\",\"Lucifier129\",\"LuckSiege\",\"LukeSmithxyz\",\"LumingYin\",\"LuoZijun\",\"Luur\",\"M-Izadmehr\",\"M165437\",\"M66B\",\"MAIAN-tool\",\"MAIF\",\"MAXDeliveryNG\",\"MBRO95\",\"MEiDIK\",\"MFlisar\",\"MG2033\",\"MHaggis\",\"MMF-FE\",\"MOBILINK-COIN\",\"MOLO17\",\"MQZHot\",\"MQuy\",\"MSiam\",\"MTJailed\",\"MVIG-SJTU\",\"MZCretin\",\"Ma63d\",\"Maarten88\",\"MachineLP\",\"Macr0phag3\",\"MagicMashRoom\",\"MahdiF\",\"MaiaVictor\",\"MailOnline\",\"MailRuChamps\",\"MakotoKurauchi\",\"MaksTuev\",\"MaksimKurpa\",\"Maksims\",\"MalucoMarinero\",\"Maluuba\",\"MalwareReverseBrasil\",\"MalwareTech\",\"Mamboleoo\",\"ManrajGrover\",\"MarcBruins\",\"MarcinMoskala\",\"Marco2333\",\"MarcoPon\",\"Mardaneus86\",\"MarilynDafa\",\"MarioIannotta\",\"MarnoDev\",\"Marten4n6\",\"MasayukiSuda\",\"MasslessParticle\",\"MatteoGabriele\",\"MatthiasRobbers\",\"Matzo\",\"MauriceConrad\",\"MaxPoon\",\"MaximumEntropy\",\"Mechazawa\",\"MeetYouDevs\",\"MehediH\",\"Meituan-Dianping\",\"MelonRice\",\"MengTo\",\"Meniny\",\"MessageKit\",\"MetalPetal\",\"Metnew\",\"MeyerHallot\",\"MhLiao\",\"MiCottOn\",\"MiSecurity\",\"MiceLiD\",\"MichaelAquilina\",\"MichaelBurge\",\"MichaelJWelsh\",\"MichaelKreil\",\"MichaelLiang12\",\"Michaelvilleneuve\",\"MicheleBertoli\",\"MichielDerhaeg\",\"Microndgt\",\"Microsoft\",\"MicrosoftDocs\",\"MikaelEdebro\",\"Mikerr1111\",\"MindBuffer\",\"MindorksOpenSource\",\"Minecodecraft\",\"MingSeng-W\",\"Minitour\",\"Miserlou\",\"MisterBianco\",\"Mistodon\",\"MitchWeaver\",\"Mitemcinal\",\"Mitranim\",\"Mjrovai\",\"MobaiRuby\",\"Mobcase\",\"MobiusHorizons\",\"Modular-Network\",\"MoePlayer\",\"Moham3dRiahi\",\"Molin123\",\"Molunerfinn\",\"Monika-After-Story\",\"MonkeyMushroom\",\"Monte9\",\"Moosphan\",\"Morgan-Stanley\",\"Morgantheplant\",\"Morikko\",\"MorochoRochaDarwin\",\"MortenSchenk\",\"MorvanZhou\",\"MoseChan\",\"Mottie\",\"Moya\",\"Mr-Linus\",\"Mr-Un1k0d3r\",\"Mr-houzi\",\"Mr5m1th\",\"MrBIMC\",\"MrBuddyCasino\",\"MrGemy95\",\"MrLevo520\",\"MrMoveon\",\"MrNothing\",\"MrTung\",\"MuYunyun\",\"Muddz\",\"Mulham-Raee\",\"MultiAgentLearning\",\"MunifTanjim\",\"Munter\",\"MyLifeMyTravel\",\"Mybridge\",\"MycroftAI\",\"Mygod\",\"MylesBorins\",\"Mynameisfwk\",\"MysteriumNetwork\",\"NJHu\",\"NLKNguyen\",\"NSExceptional\",\"NVIDIA\",\"NVIDIA-Jetson\",\"NVIDIAGameWorks\",\"NVISO-BE\",\"NYTimes\",\"Naetw\",\"Naituw\",\"Naltox\",\"NanqingD\",\"NateShoffner\",\"NathanCastle\",\"Natoto\",\"NaturalIntelligence\",\"Ne0nd0g\",\"Nealyang\",\"Nebo15\",\"NectarJS\",\"Neo23x0\",\"Nepxion\",\"NerdyPepper\",\"NervJS\",\"NervanaSystems\",\"NetSPI\",\"NetanelBasal\",\"Netflix\",\"Netflix-Skunkworks\",\"Neufund\",\"NewbranLTD\",\"Newmu\",\"NextronSystems\",\"Ni55aN\",\"Nibre\",\"NickstaDB\",\"NicolasLM\",\"NigelOToole\",\"Nightonke\",\"Nihiue\",\"Nike-Inc\",\"Nikolay-Lysenko\",\"Nimrodda\",\"Nirma\",\"Niryo\",\"NoNews\",\"NoTests\",\"NoamELB\",\"NodeArt\",\"NoelFB\",\"NoiseByNorthwest\",\"Nonchalant\",\"NorthernMan54\",\"NovaTecConsulting\",\"Nu1LCTF\",\"NullArray\",\"NuroDev\",\"NxtChg\",\"NyaaPantsu\",\"OAID\",\"OCNYang\",\"OLIMEX\",\"OPAE\",\"OYsun\",\"Observerspy\",\"OculusVR\",\"OmkarPathak\",\"OmniPotent42\",\"OneWayTech\",\"OnebugIS\",\"OnetapInc\",\"OpenAngelArena\",\"OpenGene\",\"OpenGenus\",\"OpenJailbreak\",\"OpenLiberty\",\"OpenMafia\",\"OpenMined\",\"OpenNMT\",\"OpenRCT2\",\"OpenSWE1R\",\"OpenZeppelin\",\"OpnTec\",\"OptionalDay\",\"OrOneEqualsOne\",\"OsciiArt\",\"Otbivnoe\",\"Othershe\",\"OttoWinter\",\"OvercastNetwork\",\"OvermindDL1\",\"Overtorment\",\"P1xt\",\"PAIR-code\",\"PEZ\",\"PGSSoft\",\"PHPJunior\",\"PJCHENder\",\"PP8818\",\"PS3Xploit\",\"PSD-Company\",\"PSI-Rockin\",\"PacktPublishing\",\"PaddlePaddle\",\"PanJiaChen\",\"Panda-Hope\",\"PaoloCuscela\",\"PapirusDevelopmentTeam\",\"Paradoxis\",\"ParaskP7\",\"ParryQiu\",\"ParsingTeam\",\"ParticleCore\",\"PatrykChrabaszcz\",\"Pau1fitz\",\"PaulSec\",\"PaulTaykalo\",\"PaulWaltersDev\",\"PavelDoGreat\",\"PavelLoparev\",\"PavelOstyakov\",\"PaxAutoma\",\"PeerConnect\",\"PenseAllen\",\"PersistX\",\"PetarV-\",\"PetroWu\",\"PetrochukM\",\"Petrulak\",\"PhilippC\",\"PhilippLgh\",\"PhilippeBoisney\",\"Photogrammetry-Robotics-Bonn\",\"Phyronnaz\",\"PiSimo\",\"PicnicSupermarket\",\"Picovoice\",\"Pierian-Data\",\"PierrePerrin\",\"PikachuHy\",\"PipeWire\",\"Pixplicity\",\"Pizzacus\",\"Plailect\",\"PlutoArchitecture\",\"PoissonBallon\",\"PokemonUnity\",\"PolicyServer\",\"PolymathNetwork\",\"Polymer\",\"PolymerLabs\",\"PolymerX\",\"PonnamKarthik\",\"PowerShell\",\"PrajitR\",\"Prediction-Machines\",\"PretendoNetwork\",\"PrincessGod\",\"Prinsphield\",\"Prisma\",\"PrivacyStreams\",\"ProjectDent\",\"ProspectOne\",\"Proteas\",\"ProtonVPN\",\"PumpkinDB\",\"PunitGr\",\"PyCon\",\"PyO3\",\"PygmySlowLoris\",\"PytLab\",\"Python-Meetup-Peking\",\"Q-Charles\",\"Q2h1Cg\",\"Q42\",\"QISKit\",\"QMUI\",\"QianMo\",\"Qihoo360\",\"QingWei-Li\",\"Qix-\",\"Qolzam\",\"QuantScientist\",\"QuantStack\",\"Quasilyte\",\"Quick\",\"QuickBox\",\"QuickPermissions\",\"QuintGao\",\"Quitten\",\"Quramy\",\"R1ZZU\",\"RKX1209\",\"RMerl\",\"ROCmSoftwarePlatform\",\"RUB-NDS\",\"RUB-SysSec\",\"RaRe-Technologies\",\"Raathigesh\",\"RadhiFadlillah\",\"Radu-Raicea\",\"RafalFilipek\",\"RahulJanagouda\",\"RalfZhang\",\"Ramotion\",\"RandomAdversary\",\"RanyAlbegWein\",\"RasaHQ\",\"Raureif\",\"RayZhao1998\",\"Rayhane-mamah\",\"RazrFalcon\",\"React-Scope\",\"React-Sight\",\"ReactPrimer\",\"ReactTraining\",\"ReactVT\",\"ReactiveX\",\"ReactorKit\",\"RealJTG\",\"RebeccaPark\",\"RedHatOfficial\",\"RedditSota\",\"RedpointGames\",\"Regalis11\",\"RequestNetwork\",\"Restream\",\"Reusjs\",\"Rhymond\",\"Rican7\",\"Rich-Harris\",\"Ridter\",\"RikkaApps\",\"Rinnegatamante\",\"RiotGames\",\"RipMeApp\",\"RisingStack\",\"Riskified\",\"Rkhcy\",\"RmondJone\",\"Robbendebiene\",\"RoboMaster\",\"RocketsChen\",\"Rokid\",\"RoliSoft\",\"RomelTorres\",\"RomuloOliveira\",\"Rotonde\",\"RoyalIcing\",\"Rseding91\",\"RubbaBoy\",\"RubyLichtenstein\",\"RubyLouvre\",\"RuffNotes\",\"RuffianZhong\",\"RuiAAPeres\",\"Ruin0x11\",\"RutrackerOrg\",\"RxJS-CN\",\"RxSwiftCommunity\",\"RyanFitzgerald\",\"RyanLamansky\",\"RylanJIN\",\"SAFE-Stack\",\"SCons\",\"SD10\",\"SEFDStuff\",\"SKTBrain\",\"SKatiyar\",\"SM-Wistful\",\"SOUI2\",\"SPRITZ-Research-Group\",\"STUkh\",\"SadCreeper\",\"SafeBreach-Labs\",\"SalmanZach\",\"SamPutnam\",\"SamVerschueren\",\"Samsung\",\"Samurais\",\"SangKa\",\"SangShaoYe\",\"Sapphirine\",\"SaschaWillems\",\"Satalia\",\"SaturnFramework\",\"SavjeeTutorials\",\"Scanate\",\"SchibstedSpain\",\"Schillings\",\"SciresM\",\"ScottMansfield\",\"Screetsec\",\"ScriptArtist\",\"SeanNaren\",\"Seaony\",\"SebastianM\",\"SecWiki\",\"Secretmapper\",\"SecureSkyTechnology\",\"SeldonIO\",\"SelectTransform\",\"Selvin11\",\"SemkoDev\",\"Sentdex\",\"SentiaAnalytics\",\"SergioJune\",\"SeriaWei\",\"SerpentAI\",\"ServiceComb\",\"ServicemeshCN\",\"SeunAdelekan\",\"Shadowsocks-Wiki\",\"ShanaMaid\",\"ShangtongZhang\",\"SharePoint\",\"Shashank02051997\",\"ShaunSheep\",\"SherlockLiao\",\"ShichenLiu\",\"Shipu\",\"ShopRunner\",\"Shopify\",\"ShuaiW\",\"Shujian2015\",\"SiberiaDante\",\"Siccity\",\"SigPloiter\",\"Siguza\",\"Siilwyn\",\"SilenceDut\",\"SilenceHVK\",\"SimonBiggs\",\"SimonDEvans\",\"SimonZhangITer\",\"Simpleyyt\",\"SimulaVR\",\"SinanMtl\",\"Singapore-Tech-Entrepreneurs\",\"SinghJasdeep\",\"Sinova\",\"SirCmpwn\",\"SirTificate\",\"Sixt\",\"SkrewEverything\",\"Skuldur\",\"SlapBot\",\"Sliim\",\"Sly777\",\"Smith-Cruise\",\"SmokeMonsterPacks\",\"Smorodov\",\"SnowdogApps\",\"SoCreate\",\"Soft\",\"SoftZen\",\"Solido\",\"SonarSource\",\"Soontao\",\"SourceLabOrg\",\"SouthbankSoftware\",\"SoySauceLab\",\"SpaceTime-IoT\",\"SpaceVim\",\"Spajed\",\"Spandan-Madan\",\"SpankChain\",\"SparkPost\",\"SpencerCDixon\",\"SpiderClub\",\"SpiderLabs\",\"SpinalHDL\",\"SpringCloud\",\"SpringForAll\",\"Spy-Shifty\",\"Squarespace\",\"Srar\",\"Srinivas11789\",\"Stadicus\",\"Staffjoy\",\"Stanko\",\"Statham-stone\",\"StephaneBg\",\"StephaneBour\",\"StephenGrider\",\"SteveBarnegren\",\"SteveGilham\",\"SteveSanderson\",\"StiKuan\",\"Sticktron\",\"Stiffstream\",\"StorageKit\",\"Strech\",\"StylingAndroid\",\"Submanifold\",\"SudoZhange\",\"SumiMakito\",\"SungYK\",\"Sunnyyoung\",\"Sunzxyong\",\"SurpassRabbit\",\"SusionSuc\",\"SuyashLakhotia\",\"SvenTiigi\",\"SwiftBrain\",\"SwiftGen\",\"SwiftOnSecurity\",\"SwiftTsubame\",\"SwipeCellKit\",\"SwissBorg\",\"Swizec\",\"SySS-Research\",\"Sycnex\",\"Syknapse\",\"Sylhare\",\"SymbiFlow\",\"T-Pham\",\"T-Spoon\",\"TAFKA-Labs\",\"TENDIGI\",\"THIBER-ORG\",\"TIGERB\",\"TKkk-iOSer\",\"TNG\",\"TablePlus\",\"Tai7sy\",\"Taishi-Y\",\"TakeoffAndroid\",\"TakuSemba\",\"Talentica\",\"Talento90\",\"TalkingData\",\"TalkingJourney\",\"TangXiaoLv\",\"Tanibox\",\"Tapadoo\",\"TarikHuber\",\"TarrySingh\",\"TartanLlama\",\"Tastenkunst\",\"TatsuyaShirakawa\",\"Te-k\",\"TeXitoi\",\"Team-Blox\",\"TeamNB\",\"TechBookHunter\",\"TedaLIEz\",\"Tegmen\",\"TejasQ\",\"Telichkin\",\"TellH\",\"Tencent\",\"TensorFlowKR\",\"Teradata\",\"Terminals-Origin\",\"TerryBeanX2\",\"TerryZ\",\"Tessil\",\"TesterlifeRaymond\",\"TextureGroup\",\"ThaiProgrammer\",\"TheAndroidMaster\",\"TheDen\",\"TheLarkInn\",\"TheMasonX\",\"TheNeuronProject\",\"TheOfficialFloW\",\"ThePacielloGroup\",\"TheSavior\",\"TheTriones\",\"TheWaWaR\",\"ThinkKeep\",\"ThinkR-open\",\"Thinkmill\",\"ThirtyDegreesRay\",\"ThomasBerends\",\"ThomasJaeger\",\"ThomasTJdev\",\"Thuva4\",\"Tianny\",\"Ticketmaster\",\"TileDB-Inc\",\"TimOliver\",\"TimeBye\",\"Timmy-zzh\",\"TimoSaemann\",\"TimothyYe\",\"Timvde\",\"TiniVi\",\"TinkoffCreditSystems\",\"TinyCrayon\",\"Tinywan\",\"ToastWallet\",\"TokenMarketNet\",\"TonnyL\",\"TonyPhipps\",\"Tornaco\",\"TotomInc\",\"Touchwonders\",\"ToyoDAdoubi\",\"TradeMe\",\"TranslucentTB\",\"Trixieapp\",\"TrustWallet\",\"Truth0906\",\"TruthHun\",\"TryCatchHCF\",\"TsingJyujing\",\"Tsume\",\"TuGengs\",\"TuSimple\",\"Tuhinshubhra\",\"Tw1ddle\",\"TwoWater\",\"Tylous\",\"Tyrrrz\",\"U039b\",\"UCodeUStory\",\"Ucer\",\"UltimateAngular\",\"UltimateHackers\",\"UltraDark\",\"UnaPibaGeek\",\"UndeadSec\",\"Unity-Technologies\",\"UnityTechnologies\",\"Unrepl\",\"VV-UI\",\"VV1LD\",\"Vagr9K\",\"ValdikSS\",\"ValeLint\",\"ValiantCat\",\"ValleyAudio\",\"ValveSoftware\",\"VamshiIITBHU14\",\"Varin6\",\"Veil-Framework\",\"VeinGuo\",\"VelcroPhysics\",\"VerizonDigital\",\"VernonVan\",\"Vexigon\",\"ViGrey\",\"VictDog\",\"VictorTzeng\",\"VincentChanX\",\"VinsonGuo\",\"Viralmaniar\",\"VisualComputingInstitute\",\"Vita3K\",\"Vitallium\",\"Vladkryvoruchko\",\"VoidSec\",\"Vonng\",\"Voulnet\",\"Vtrois\",\"Vuksa\",\"WAng91An\",\"WICG\",\"WVector\",\"WXGBridgeQ\",\"WanAndroid\",\"Wandmalfarbe\",\"WangGanxin\",\"WangShuo1143368701\",\"WangYihang\",\"WangYves\",\"WarBean\",\"WeTransfer\",\"Web-Sight\",\"WebReflection\",\"WeiChiaChang\",\"WellerV\",\"WenchaoD\",\"Werb\",\"WhenLamboMoon\",\"WhiteDG\",\"WhitestormJS\",\"WiPi-Hunter\",\"Wilfred\",\"Will-Ls\",\"WillKoehrsen\",\"WindowsExploits\",\"WireGuard\",\"Wisdom-Projects\",\"WittBulter\",\"Wizaron\",\"Wlada\",\"WolframHempel\",\"WolframResearch\",\"WordPress\",\"WorldBrain\",\"WorldDownTown\",\"WorldOfZero\",\"WrBug\",\"Wramberg\",\"WrenchDE\",\"Wrinth\",\"Wscats\",\"WuXiaolong\",\"XBT1\",\"XVimProject\",\"XXIIVV\",\"Xeoncross\",\"XiaoQiWen\",\"XifengGuo\",\"XingangPan\",\"Xion\",\"XiongJoJo\",\"XiqingLiu\",\"XndroidDev\",\"XuQibin\",\"XuYang8026\",\"Xudong-Huang\",\"YCG09\",\"YMFE\",\"YPLiang19\",\"YadiraF\",\"YaoZeyuan\",\"Yasic\",\"YeDaxia\",\"YePpHa\",\"YearOfProgramming\",\"Yelp\",\"YenYuHsuan\",\"Yfling\",\"YiiGuxing\",\"Yijunmaverick\",\"YinHangCode\",\"Yoctol\",\"Yonaba\",\"Yonkers\",\"Yorko\",\"You2php\",\"YoungBill\",\"Youpinadi\",\"Yuan-Yu\",\"YugaByte\",\"Yukinoshita47\",\"Yummypets\",\"YurkaninRyan\",\"YutHelloWorld\",\"YuvalNirkin\",\"YuyangZhangFTD\",\"YvesCheung\",\"Yvictor\",\"ZFTurbo\",\"ZHENFENG13\",\"ZZUTK\",\"Zane96\",\"Zaphyk\",\"Zardinality\",\"Zehaos\",\"ZenonHuang\",\"Zephery\",\"ZephrFish\",\"ZerBea\",\"ZeroDot1\",\"Zeta36\",\"ZevEisenberg\",\"ZhaofanQiu\",\"Zhaoss\",\"Zheng-Shaozhuo\",\"ZhengyaoJiang\",\"ZhuFaner\",\"Zhuinden\",\"ZijunDeng\",\"Zilliqa\",\"ZinggJM\",\"Zizzamia\",\"ZoomerAnalytics\",\"ZoranPandovski\",\"ZuYun\",\"Zulko\",\"Zweihui\",\"ZzXxL1994\",\"a4refillpad\",\"a8m\",\"aFrogleap\",\"aOrz\",\"aQuaYi\",\"aa65535\",\"aamini\",\"aantron\",\"aaossa\",\"aaron-xichen\",\"aaronamm\",\"aaronduino\",\"abacritt\",\"abadojack\",\"abaldwin88\",\"abatchy17\",\"abdulfatir\",\"abdullin\",\"abel533\",\"aben1188\",\"abforce\",\"abhiaiyer91\",\"abhiank\",\"abhinav272\",\"abhineet123\",\"abhisheksoni27\",\"abhiskk\",\"abisee\",\"abishekaditya\",\"abouolia\",\"abseil\",\"absinthe-graphql\",\"ac1235\",\"academind\",\"acarl005\",\"acbraith\",\"acdemiralp\",\"acekyd\",\"acelot\",\"acelwiker\",\"achiku\",\"achilleasa\",\"achillesrasquinha\",\"achow101\",\"acl-dev\",\"acomminos\",\"acquia\",\"actionless\",\"actions-on-google\",\"activewidgets\",\"actix\",\"adambielski\",\"adamcichy\",\"adamhaile\",\"adamkewley\",\"adamrybak9\",\"adamryman\",\"adamtait\",\"adamyala\",\"addy-dclxvi\",\"addyosmani\",\"ademilter\",\"adeptoas\",\"aderusha\",\"aderyabin\",\"adeshpande3\",\"adi0x90\",\"adib2149\",\"adieuadieu\",\"adilmoujahid\",\"adimango\",\"adityagohad\",\"adityapandey9\",\"adjoint-io\",\"adnanaziz\",\"adobe-fonts\",\"adonixis\",\"adpushup\",\"adrienjt\",\"adroitandroid\",\"ads1018\",\"adtac\",\"advanced-rest-client\",\"adventuresinML\",\"adw96\",\"aelassas\",\"aerian-studios\",\"aermin\",\"aerospike\",\"aerth\",\"af913337456\",\"affinelayer\",\"afollestad\",\"afourmy\",\"afshinm\",\"ageitgey\",\"agens-no\",\"agermanidis\",\"agiletechvn\",\"agilie\",\"agnusmaximus\",\"agoda-com\",\"agragregra\",\"aguinet\",\"agusibrahim\",\"ah-\",\"ahangchen\",\"ahirner\",\"ahmadawais\",\"ahmadudin\",\"ahmed-adel-said\",\"ahmedmigo\",\"ahmedraad\",\"ahmetb\",\"ahmetws\",\"ahnick\",\"aholstenson\",\"ahoppen\",\"ai\",\"ailias\",\"aimacode\",\"aino\",\"aiogram\",\"aionnetwork\",\"airbnb\",\"airbus-seclab\",\"aircrack-ng\",\"airsonic\",\"airtap\",\"aisummary\",\"aiyaapp\",\"ajayns\",\"ajbouh\",\"ajcr\",\"ajermakovics\",\"ajinabraham\",\"ajkis\",\"ajmwagar\",\"ajtoo\",\"ajusa\",\"akaita\",\"akameco\",\"akanazawa\",\"akarnokd\",\"akaunting\",\"akayn\",\"akirasosa\",\"akittana\",\"akrylysov\",\"akshay2211\",\"akshaypai\",\"aksnzhy\",\"akveo\",\"akxcv\",\"alainiamburg\",\"alanbsmith\",\"alangarf\",\"alanwangmodify\",\"alanzchen\",\"alash3al\",\"albanie\",\"albarqouni\",\"alberduris\",\"albertcht\",\"albertodebortoli\",\"alecmuffett\",\"alecthomas\",\"alefeans\",\"aleju\",\"alessiomaffeis\",\"alex-miller-0\",\"alex1504\",\"alexa\",\"alexander-rakhlin\",\"alexanderepstein\",\"alexanderjarvis\",\"alexanderkiel\",\"alexattia\",\"alexaubry\",\"alexbrillant\",\"alexcasalboni\",\"alexcrichton\",\"alexdrone\",\"alexeagle\",\"alexellis\",\"alexeymezenin\",\"alexeyraspopov\",\"alexgreene\",\"alexhillc\",\"alexiejmarckut\",\"alexis-jacq\",\"alexjlockwood\",\"alexjoverm\",\"alexkohler\",\"alexmacarthur\",\"alexmngn\",\"alexmojaki\",\"alexpate\",\"alexreardon\",\"alexruperez\",\"alexsasharegan\",\"alfa-laboratory\",\"alfathdirk\",\"alflennik\",\"algolia\",\"algomystic\",\"algorithmiaio\",\"aliab\",\"aliasmee\",\"alibaba\",\"alicanbatur\",\"alicin\",\"alickbass\",\"alidili\",\"alinebastos\",\"aliumujib\",\"alivebao\",\"aliyun\",\"allanzelener\",\"allenai\",\"allgamesallfree\",\"allisterb\",\"allmachinelearning\",\"alloyteamzy\",\"almandin\",\"almightycouch\",\"alpacaaa\",\"alpacahq\",\"alpcanaydin\",\"alphapapa\",\"alphasoc\",\"alphasp\",\"alphayang\",\"alsiola\",\"altairsix\",\"alvarcarto\",\"alvarotrigo\",\"alxrm\",\"amandaghassaei\",\"amanjeetsingh150\",\"amanusk\",\"amarofashion\",\"amatsuda\",\"amberframework\",\"ambv\",\"amcdnl\",\"amdegroot\",\"americanexpress\",\"amhoho\",\"amiechen\",\"amilajack\",\"amir-abdi\",\"amir32002\",\"amirbar\",\"amirzaidi\",\"amitmerchant1990\",\"amitshekhariitbhu\",\"amituidev\",\"amphp\",\"amplify-education\",\"amplitude\",\"amsul\",\"amuramoto\",\"amzn\",\"analysiscenter\",\"analyticalmonk\",\"anaskhan96\",\"anbai-inc\",\"anbox\",\"anchore\",\"and3rson\",\"andOTP\",\"andabi\",\"andmizi\",\"andreadelfante\",\"andreafioraldi\",\"andreia\",\"andreiapostoae\",\"andrejonasson\",\"andremion\",\"andresinaka\",\"andrew--r\",\"andrewchambers\",\"andrewgbruce\",\"andrewgordonwilson\",\"andrewliao11\",\"andrey-git\",\"android\",\"android-hacker\",\"android-notes\",\"android10\",\"androidstarters\",\"androidthings\",\"ands\",\"andyb129\",\"andyblueyo\",\"andydbc\",\"andyholmes\",\"andykamath\",\"anestisb\",\"anfederico\",\"anges244\",\"angular-medellin\",\"angular-pakistan\",\"anhkgg\",\"anhttran\",\"aniketpanjwani\",\"anilallewar\",\"anish000kumar\",\"anishathalye\",\"ankane\",\"ankurk91\",\"ankyra\",\"anpylar\",\"anshumanbh\",\"ansible\",\"ansjdnakjdnajkd\",\"ansleliu\",\"ansman\",\"ansumanshah\",\"answershuto\",\"ant-design\",\"ant4g0nist\",\"antalsz\",\"anteriovieira\",\"anthony-tuininga\",\"antirez\",\"antonioribeiro\",\"antonlindstrom\",\"antonmedv\",\"antoyo\",\"anttiviljami\",\"antvis\",\"anu0012\",\"anujshah1003\",\"anupcowkur\",\"anvaka\",\"anydream\",\"anzaizai\",\"aochagavia\",\"aoitofu\",\"aozhimin\",\"apache\",\"apachecn\",\"apanly\",\"apcode\",\"apertureless\",\"apex\",\"api0cradle\",\"apifytech\",\"apjs\",\"apollographql\",\"appalaszynski\",\"appbaseio\",\"appcypher\",\"apple\",\"appleple\",\"appnexus\",\"appscode\",\"appsecco\",\"appstract\",\"appteam-nith\",\"apptreesoftware\",\"appu1232\",\"appwise-labs\",\"aprice\",\"aptible\",\"aqlaboratory\",\"aquasecurity\",\"arackaf\",\"aragon\",\"arahusky\",\"aras-p\",\"arbox\",\"archagon\",\"archerysec\",\"archriss\",\"arcticicestudio\",\"arendst\",\"argman\",\"arguiot\",\"argyleink\",\"arismelachroinos\",\"arithran\",\"aritraroy\",\"arkadiyt\",\"armcha\",\"arminc\",\"armors\",\"arnaucode\",\"arnoweng\",\"arogozhnikov\",\"arrow-kt\",\"ars-ashuha\",\"arsan-official\",\"arschles\",\"artcg\",\"artemnovichkov\",\"artemsheludko\",\"artemsky\",\"artetxem\",\"arthchan2003\",\"arthurbergmz\",\"artiely\",\"artkond\",\"artpar\",\"arturbosch\",\"arunmallya\",\"arut\",\"arvinljw\",\"arxiv-vanity\",\"arzzen\",\"asanakoy\",\"asavinov\",\"asciidisco\",\"asciimoo\",\"asciinema\",\"asfktz\",\"ashfurrow\",\"ashleygwilliams\",\"ashleymcnamara\",\"ashnkumar\",\"ashubham\",\"ashwin153\",\"ashwin711\",\"asingh33\",\"askme765cs\",\"aslanyanhaik\",\"asn007\",\"aspnet\",\"asrp\",\"assafg\",\"asticode\",\"astorfi\",\"astronautlevel2\",\"asyncanup\",\"asyncphp\",\"atConf\",\"atech\",\"atgambardella\",\"athityakumar\",\"athkalia\",\"atiyo\",\"atlassian\",\"atom\",\"atomashpolskiy\",\"atomic14\",\"atomiks\",\"attaswift\",\"atulmy\",\"aturon\",\"audiolion\",\"aurelrybar\",\"auroua\",\"ausi\",\"austin-taylor\",\"auth0\",\"auth0-samples\",\"automerge\",\"autozimu\",\"avadhbsd\",\"avast-tl\",\"avatsaev\",\"avege\",\"aviabird\",\"aviaryan\",\"aviaviavi\",\"avinassh\",\"avito-tech\",\"avocode\",\"avramit\",\"awalterschulze\",\"aweary\",\"aweconf\",\"awfssv\",\"awjuliani\",\"awkward\",\"awnumar\",\"aws\",\"aws-samples\",\"aws4s\",\"awsdocs\",\"awslabs\",\"axept\",\"axetroy\",\"axiomhq\",\"axle-h\",\"axnsan12\",\"axzae\",\"ayman-ibrahim\",\"ayroblu\",\"ayush1997\",\"ayushsharma82\",\"azavea\",\"azchohfi\",\"azonov\",\"azz\",\"azzamsa\",\"b-mueller\",\"b3log\",\"b3rito\",\"babbleio\",\"babel\",\"babel-utils\",\"babluboy\",\"backtory\",\"bad-day\",\"badawe\",\"badoux\",\"bahlo\",\"bahmutov\",\"baidu\",\"baijunjie\",\"bailicangdu\",\"baku89\",\"balacode\",\"balajmarius\",\"balancap\",\"balance-io\",\"baldassarreFe\",\"ballercat\",\"balupton\",\"balzss\",\"bamarni\",\"bamlab\",\"bamos\",\"bancorprotocol\",\"bangumi\",\"banzaicloud\",\"barretlee\",\"barronalex\",\"baruchel\",\"basecamp\",\"basemkhirat\",\"basic-gongfu\",\"bastianallgeier\",\"batra-mlp-lab\",\"bats-core\",\"batzner\",\"bayesianio\",\"bazad\",\"bbb31\",\"bberak\",\"bboylin\",\"bcherny\",\"bcicen\",\"bcongdon\",\"bcoop713\",\"bcosorg\",\"bcrumbs\",\"be5invis\",\"beagleboard\",\"beakerbrowser\",\"bear63\",\"bearpaw\",\"beataschumska\",\"beauty-enjoy\",\"bee13oy\",\"beego\",\"beeth0ven\",\"begriffs\",\"beigirad\",\"beiliao-mobile\",\"benaadams\",\"benathi\",\"benawad\",\"benbjohnson\",\"benbrignell\",\"bendidi\",\"benfred\",\"benhoyt\",\"benjamindenboer\",\"benjaminp\",\"benjaminwilson\",\"benjojo\",\"benkrause\",\"benmarten\",\"benmarwick\",\"bennettfeely\",\"bennorth\",\"benstew\",\"benweet\",\"benzamin\",\"bepu\",\"berkeleydeeprlcourse\",\"bernhard2202\",\"bertinetto\",\"berzerk0\",\"berzniz\",\"bestmomo\",\"bestofjs\",\"bethgelab\",\"bettercap\",\"bevacqua\",\"beworker\",\"bfelbo\",\"bfirsh\",\"bfortuner\",\"bfred-it\",\"bfwg\",\"bhansconnect\",\"bharathgs\",\"bharatsingh430\",\"bhauman\",\"bhb\",\"bhdresh\",\"bheinzerling\",\"bichenkk\",\"biezhi\",\"bijij\",\"bilbof\",\"billcccheng\",\"billmalarky\",\"binance-exchange\",\"binast\",\"bincrafters\",\"bindecy\",\"binhnguyennus\",\"biodunalfet\",\"bioinf-jku\",\"bisqwit\",\"bit4woo\",\"bitcoinx-project\",\"bitdust\",\"bitjson\",\"bitnami-labs\",\"bitpressio\",\"bitrinjani\",\"bitwalker\",\"bizz84\",\"bjango\",\"bjarnel\",\"bjut-hz\",\"bkamins\",\"bkanber\",\"bkeepers\",\"bkerler\",\"bkhezry\",\"bkuhlmann\",\"bl4de\",\"blackbbc\",\"blacknbunny\",\"blackode\",\"blaze33\",\"bleenco\",\"blendin\",\"blendle\",\"blipinsk\",\"blkchain\",\"bloomberg\",\"blowdart\",\"blueapron\",\"blueberrymusic\",\"bluelocate\",\"bluscreenofjeff\",\"bluzi\",\"bminixhofer\",\"bmitch\",\"bmorelli25\",\"bmqb\",\"bnb\",\"bndr\",\"bntzio\",\"boazdejong\",\"bobbens\",\"bobiscool\",\"bodil\",\"bodokaiser\",\"bogerchan\",\"bojone\",\"bokub\",\"bolan9999\",\"bollu\",\"boltpkg\",\"bomberstudios\",\"bonzajplc\",\"booohumir\",\"boostcon\",\"boramalper\",\"borisf\",\"bosondata\",\"botui\",\"bougarfaoui\",\"bourdakos1\",\"box\",\"boxug\",\"boy-hack\",\"boylegu\",\"bpiel\",\"brade31919\",\"bradfitz\",\"bradjasper\",\"bradleyboy\",\"bradleyjkemp\",\"bradleypallen\",\"bradoyler\",\"bradtraversy\",\"brainblocks\",\"brakmic\",\"bramblex\",\"bramus\",\"brandonweiss\",\"brannondorsey\",\"braposo\",\"braulio94\",\"bravoborja\",\"braziljs\",\"breakdance\",\"breenmachine\",\"bref-Chan\",\"brendan-rius\",\"brendandburns\",\"brendangregg\",\"brendanzab\",\"brentsimmons\",\"brentvollebregt\",\"brh55\",\"briandowns\",\"brianegan\",\"bricaud\",\"brickspert\",\"brightmart\",\"brillout\",\"brndnmtthws\",\"broadinstitute\",\"broccolini\",\"brockwhittaker\",\"broidHQ\",\"brokenhandsio\",\"brompwnie\",\"brooke-watson\",\"brookshi\",\"browniefed\",\"browserify\",\"browserslist\",\"brpc\",\"brthor\",\"brucechou1983\",\"brucx\",\"bruhautomation\",\"brunnolou\",\"brunofacca\",\"brysgo\",\"bshao001\",\"bshaw19\",\"bstavroulakis\",\"btargac\",\"btgfw\",\"btholt\",\"buckyroberts\",\"budkin\",\"buefy\",\"bufferapp\",\"bugsafe\",\"builderbook\",\"buildkite\",\"bukinoshita\",\"bunnieabc\",\"buomsoo-kim\",\"buraksezer\",\"burhanrashid52\",\"burkeholland\",\"burningcl\",\"burningion\",\"burntmybagel\",\"bus1\",\"buzzfeed\",\"bvanhoekelen\",\"bvaughn\",\"bwasty\",\"bwentzloff\",\"bxcodec\",\"bxm0927\",\"by-syk\",\"bynil\",\"bystc\",\"byt3bl33d3r\",\"bz51\",\"c-Viorel\",\"c-bata\",\"c-rainstorm\",\"c0bra\",\"c4milo\",\"c8r\",\"c9s\",\"caffix\",\"cagataycali\",\"cai-lw\",\"caicloud\",\"caiobiodere\",\"caiya\",\"caiyue1993\",\"calclavia\",\"calebman\",\"calintat\",\"calirojas506\",\"callbag\",\"callmecavs\",\"callstack\",\"callum-oakley\",\"calvinwilliams\",\"cam-inc\",\"camel007\",\"cameronswinoga\",\"campfire-inc\",\"campoy\",\"camptocamp\",\"camwest\",\"canada-ca\",\"candlewill\",\"canfoo\",\"cantierecreativo\",\"caocuong0306\",\"caogang\",\"caoym\",\"capptivateco\",\"capslocktao\",\"capsule8\",\"captainsafia\",\"captbaritone\",\"carbon-design-system\",\"cardash\",\"carlSQ\",\"carla-simulator\",\"carld\",\"carlenlund\",\"carllerche\",\"carmelopullara\",\"caroso1222\",\"carpedm20\",\"carstenschaefer\",\"cartant\",\"casatwy\",\"casbin\",\"caspervonb\",\"cassidoo\",\"cassiobotaro\",\"castorini\",\"castwide\",\"catalinmiron\",\"catboost\",\"catc\",\"catid\",\"catpanda\",\"cazala\",\"cbeuw\",\"cbfinn\",\"cblgh\",\"cboard-org\",\"cbovis\",\"cbowdon\",\"ccforward\",\"cch123\",\"ccj659\",\"cclabsInc\",\"ccxt\",\"cd-dongzi\",\"cdflynn\",\"cdgriffith\",\"cdimascio\",\"cdonohue\",\"cdubz\",\"cedrickchee\",\"cefjoeii\",\"cehfisher\",\"cellardoor42\",\"celrenheit\",\"census-instrumentation\",\"cerclecrm\",\"cerebral\",\"certsimple\",\"certsocietegenerale\",\"cesarferreira\",\"cesarsouza\",\"ceshu\",\"cessen\",\"ceteio\",\"cferdinandi\",\"cgrok\",\"chaijunit\",\"chainer\",\"chainside\",\"chaitin\",\"chakhsu\",\"chakki-works\",\"changsanjiang\",\"changyuheng\",\"channg\",\"chaokunyang\",\"chaostoolkit\",\"chaozh\",\"char0n\",\"charlesBochet\",\"charlesq34\",\"chartjs\",\"chat-sdk\",\"chaychan\",\"checkly\",\"checkr\",\"checkymander\",\"chemicstry\",\"chenBingX\",\"chendotjs\",\"cheng-kang\",\"chengdedeng\",\"chengquan223\",\"chengstone\",\"chenhsuanlin\",\"chenjd\",\"chenjiandongx\",\"chenliangloveyou\",\"chenqingspring\",\"chentsulin\",\"chenxuan0000\",\"chenyuntc\",\"chenz24\",\"cherow\",\"cherryljr\",\"chesterhow\",\"chiefGui\",\"chilijung\",\"chinakook\",\"chinesedfan\",\"chineseocr\",\"chiphuyen\",\"chipto\",\"chitezh\",\"chkr1011\",\"chlec\",\"chockenberry\",\"choerodon\",\"choojs\",\"chr-hertel\",\"chr4\",\"chris-marsh\",\"chris-short\",\"chrisalbon\",\"chrisbolin\",\"chrisconlan\",\"chrisdone\",\"chriseidhof\",\"chrisfrank\",\"chrisjmccormick\",\"chrisjpatty\",\"chrislusf\",\"chrispsn\",\"chrisranderson\",\"chrisstroemel\",\"christ0ph3r\",\"christolliday\",\"christophM\",\"christopherwk210\",\"christophetd\",\"chrisvfritz\",\"chriswebb09\",\"chrizator\",\"chromedp\",\"chromium\",\"chromiumembedded\",\"chronaeon\",\"chronopolis5k\",\"chuan-yun\",\"chuanqi305\",\"chuanzh\",\"chubin\",\"chucklefish\",\"chuckyee\",\"chungchi300\",\"chxj1992\",\"chyh1990\",\"cinder92\",\"cinoliu\",\"cipchk\",\"cirocosta\",\"citizenfx\",\"citp\",\"cityofeden\",\"cjdowner\",\"ckb-next\",\"clarkeash\",\"clarketm\",\"clauderic\",\"claudiodangelis\",\"clauswilke\",\"claviska\",\"clcarwin\",\"cld378632668\",\"clearcontainers\",\"cliffordfajardo\",\"climate-mirror\",\"cloggy45\",\"clojupyter\",\"clojure-goes-fast\",\"clojurecademy\",\"clong\",\"closedevice\",\"cloudegg-tech\",\"cloudevents\",\"cloudflare\",\"cloudfoundry-incubator\",\"cloudframeworks-springcloud\",\"cloudnativelabs\",\"cloudoptlab\",\"cloudreach\",\"cloudroc\",\"cloudstax\",\"cloudwu\",\"cls1991\",\"clwater\",\"clyang\",\"cmcaine\",\"cmditch\",\"cmseaton42\",\"cmu-db\",\"cn0xroot\",\"cncf\",\"cnkuangshi\",\"cnnetarmy\",\"cnodejs\",\"cnswan\",\"coatue-oss\",\"cocoa-ai\",\"codahale\",\"coddec\",\"code-mc\",\"code-mcx\",\"code-terminator\",\"codebusking\",\"codecasts\",\"codectile\",\"codediodeio\",\"codeexpress\",\"codehz\",\"codeitlikemiley\",\"coderdiaz\",\"coderzzp\",\"codesandbox-app\",\"codezjx\",\"codilime\",\"codingapi\",\"codingforentrepreneurs\",\"codingo\",\"codingupastorm\",\"codrops\",\"codyseibert\",\"coel-lang\",\"coells\",\"cognitect-labs\",\"coinbase\",\"coinfoundry\",\"coinpride\",\"cokebar\",\"colin-kiegel\",\"colinmorris\",\"colmtuite\",\"comaeio\",\"commaai\",\"commandlineparser\",\"commercialhaskell\",\"commonsguy\",\"conal\",\"concept-to-clinic\",\"conclave-team\",\"concretesolutions\",\"cong5\",\"conradoqg\",\"container-storage-interface\",\"containerd\",\"containernetworking\",\"contentacms\",\"contribsys\",\"conversationai\",\"convoyinc\",\"cookeem\",\"cookieY\",\"cookiengineer\",\"cookpad\",\"coolsnowwolf\",\"coolstar\",\"coopermaruyama\",\"copperhead\",\"corbindavenport\",\"coreos\",\"cornellius-gp\",\"cornerAnt\",\"cosme12\",\"cosmtrek\",\"couchbase\",\"countercept\",\"cowchimp\",\"cpacm\",\"cquery-project\",\"cr-marcstevens\",\"cr0hn\",\"craftcms\",\"craftship\",\"craigbuckler\",\"craigh411\",\"cranklin\",\"crazychicken\",\"crazysunj\",\"creactiviti\",\"creafz\",\"creativetimofficial\",\"creditease-sec\",\"creeperyang\",\"creotip\",\"cretueusebiu\",\"cretz\",\"crillab\",\"crisadamo\",\"cristaloleg\",\"cristianbote\",\"cristijora\",\"crocs-muni\",\"cronoh\",\"croqaz\",\"crossbeam-rs\",\"crossoverJie\",\"crownpku\",\"crozone\",\"crsftw\",\"cruisediary\",\"cryptape\",\"cryptolok\",\"cryptonoter\",\"cs109\",\"csarron\",\"csepulv\",\"csharad\",\"cslarsen\",\"cssinjs\",\"cstack\",\"csujedihy\",\"csurfer\",\"ctallec\",\"ctf-wiki\",\"ctf0\",\"ctfs\",\"ctgk\",\"ctrlplusb\",\"ctubio\",\"cube-ui\",\"cucygh\",\"cuijun123\",\"cuinjune\",\"cuishark\",\"cujanovic\",\"cure53\",\"cuttlebelle\",\"cw1997\",\"cwdegidio\",\"cweagans\",\"cwenao\",\"cwensley\",\"cwickham\",\"cwjfeifei\",\"cyanzhong\",\"cyberark\",\"cybercog\",\"cyberheartmi9\",\"cybermaggedon\",\"cydonia999\",\"cynthiablee\",\"cypw\",\"cyrus-and\",\"cytle\",\"czater\",\"czero1995\",\"czhen09\",\"czheo\",\"cznic\",\"czue\",\"czy1121\",\"d0k3\",\"d3\",\"d3vr\",\"d4rkr00t\",\"d8ahazard\",\"da2x\",\"dabbott\",\"dafarry\",\"dafthack\",\"dag10\",\"dahall\",\"dakshshah96\",\"daleroberts\",\"daliansky\",\"damienlethiec\",\"damln\",\"damoqiongqiu\",\"danburkert\",\"dangbo\",\"dani-gavrilov\",\"danicuestasuarez\",\"danidee10\",\"daniel-lundin\",\"danielbayerlein\",\"danielbohannon\",\"danielfsousa\",\"danielhavir\",\"danielireson\",\"danielkunin\",\"danielquinn\",\"danielsaidi\",\"danielwestendorf\",\"danigargu\",\"danilopolani\",\"danilowoz\",\"danimahardhika\",\"danni-m\",\"dannvix\",\"dannyvankooten\",\"dansbits\",\"danslo\",\"dantaki\",\"danthareja\",\"danxfisher\",\"danxinzhicheng\",\"daochouwangu\",\"daoliker\",\"dapperlabs\",\"dapphub\",\"daquexian\",\"daranzolin\",\"darcyclarke\",\"darkerk\",\"darkonhub\",\"darkoperator\",\"darrenscerri\",\"das-labor\",\"das2017\",\"dasguptar\",\"dashee87\",\"dashvlas\",\"dask\",\"daspinola\",\"dastergon\",\"databricks\",\"datacamp\",\"datalogue\",\"datascienceinc\",\"dataversioncontrol\",\"datawire\",\"datitran\",\"dattn\",\"dauxio\",\"dave\",\"davecremins\",\"davedelong\",\"daveearley\",\"daveverwer\",\"davewasmer\",\"david-gpu\",\"david942j\",\"davidbrai\",\"davidgf\",\"davidgilbertson\",\"davidhalter\",\"davidhu2000\",\"davidjesusacu\",\"davidjpeacock\",\"davidmarkclements\",\"davidmascharka\",\"davidsawyer\",\"davisonio\",\"davydovanton\",\"dawenl\",\"dawnlabs\",\"daxeel\",\"daxiongYang\",\"daxliar\",\"dbcli\",\"dbjsdev\",\"dbmrq\",\"dbohdan\",\"dbrizov\",\"dc0d\",\"dchrastil\",\"dcloudio\",\"dcodeIO\",\"ddd-by-examples\",\"ddddxxx\",\"ddiakopoulos\",\"ddqre12345\",\"ddtm\",\"deadPix3l\",\"deadpixi\",\"deanishe\",\"dearplain\",\"decentralion\",\"decoder-it\",\"decred\",\"decrypto-org\",\"dee1024\",\"deepcs233\",\"deepfabric\",\"deepfakes\",\"deepinsight\",\"deepkolos\",\"deeplearningturkiye\",\"deepmind\",\"deepmipt\",\"deeponion\",\"deeppomf\",\"deepsound-project\",\"deepsweet\",\"deepthan\",\"deeptools\",\"deepwn\",\"defndaines\",\"dehun\",\"dekuNukem\",\"delcypher\",\"delfrrr\",\"delicious-monster\",\"delight-im\",\"delvedor\",\"demopark\",\"dempfi\",\"denandz\",\"denar90\",\"dengbaoling\",\"dengdan\",\"denisraslov\",\"denji\",\"denysdovhan\",\"dependabot\",\"depjs\",\"deralexxx\",\"derhuerst\",\"derogab\",\"derrekr\",\"desertbit\",\"deskmen\",\"dest4\",\"dev-labs-bg\",\"devCrossNet\",\"devSchacht\",\"developer-shivam\",\"developit\",\"developmentseed\",\"devendrachaplot\",\"devingray\",\"devio\",\"devjin0617\",\"devlinkcn\",\"devnag\",\"devonestes\",\"devops-israel\",\"devrsi0n\",\"devsisters\",\"devtranslate\",\"devunt\",\"devxoul\",\"dexteryy\",\"dfaker\",\"dgiese\",\"dgonzalez\",\"dgraph-io\",\"dgriff777\",\"dgrubelic\",\"dgryski\",\"dhall-lang\",\"dhammack\",\"dhanishgajjar\",\"dharmaprotocol\",\"dharness\",\"dhax\",\"dhellmann\",\"dherges\",\"dhhAndroid\",\"di2pra\",\"dianbaer\",\"dicallc\",\"dicarlo236\",\"didi\",\"didierfranc\",\"didinj\",\"didrio\",\"diegoalejogm\",\"diegohaz\",\"diegomura\",\"dielduarte\",\"digikey\",\"diit\",\"dillidon\",\"dimgel\",\"dimmg\",\"dimonomid\",\"dimorinny\",\"dingjikerbo\",\"dinhviethoa\",\"dino\",\"dinuscxj\",\"dipanjanS\",\"dipanshukr\",\"diracdeltas\",\"dirkam\",\"discordapp\",\"discountry\",\"disintegration\",\"district0x\",\"dizballanze\",\"dizitart\",\"djirdehh\",\"djstein\",\"djyde\",\"dkhuuthe\",\"dkozlov\",\"dkzwm\",\"dleitee\",\"dlemmermann\",\"dlew\",\"dli\",\"dlsys-course\",\"dlunion\",\"dmallcott\",\"dmarnerides\",\"dmbee\",\"dmesquita\",\"dmitriydligach\",\"dmitry-lavrik\",\"dmtrKovalenko\",\"dmtrbrl\",\"dmytrostriletskyi\",\"dnote-io\",\"dnouri\",\"dobjs\",\"docker\",\"dockeron\",\"dockersamples\",\"dodie\",\"doe300\",\"doficia\",\"doitsujin\",\"dokun1\",\"dollarshaveclub\",\"domenic\",\"dominator88\",\"dominikh\",\"donavon\",\"dongb5\",\"donglua\",\"dongweiming\",\"donnemartin\",\"donutloop\",\"donwa\",\"dooboolab\",\"doodyparizada\",\"dot-osk\",\"dotMorten\",\"dotboris\",\"doterlin\",\"dotmesh-io\",\"dotnet\",\"dotnet-architecture\",\"dotnetcore\",\"douglasjunior\",\"dpc761218914\",\"dradtke\",\"dragen1860\",\"dragonite-network\",\"draios\",\"drakeet\",\"drawthink\",\"drcmda\",\"dreadl0ck\",\"dream2023\",\"dreamans\",\"dremio\",\"drethage\",\"drew-y\",\"dreymonde\",\"drish\",\"driusan\",\"drminnaar\",\"drmly\",\"droope\",\"dropbox\",\"droptheplot\",\"drzel\",\"ds300\",\"dsasmblr\",\"dselsam\",\"dsherret\",\"dsmelon\",\"dsmurrell\",\"dsopas\",\"dspinellis\",\"dsternlicht\",\"dswah\",\"dtcooper\",\"dthree\",\"dtinth\",\"dtube\",\"duckduckgo\",\"ducksoupdev\",\"dudeonthehorse\",\"duheng\",\"dukebw\",\"duliodenis\",\"dunbarcyber\",\"dundalek\",\"dunglas\",\"duo-labs\",\"dupadhyaya\",\"dushao103500\",\"dustinvtran\",\"duzexu\",\"dvdciri\",\"dvf\",\"dvoiss\",\"dvtng\",\"dwavesystems\",\"dweidenfeld\",\"dwhitena\",\"dword4\",\"dwrensha\",\"dxa4481\",\"dxflatline\",\"dyc87112\",\"dylanaraps\",\"dylanbai8\",\"dyne\",\"dyq086\",\"dzaytsev91\",\"dzonerzy\",\"dzt\",\"dzwillia\",\"e-oj\",\"eBTCCommunityTrustToken\",\"eBay\",\"eKoopmans\",\"eXMRcoin\",\"eXeC64\",\"eaplatanios\",\"earthchie\",\"easy-mock\",\"easy-swoole\",\"easychen\",\"easysoft\",\"easyworld\",\"eawsy\",\"ebanx\",\"ebidel\",\"eboda\",\"ebruneton\",\"eclipse-ee4j\",\"ecomfe\",\"econti\",\"ecthros\",\"edbizarro\",\"eddiemf\",\"eddyerburgh\",\"edent\",\"edouardoyallon\",\"edwardz246003\",\"edwinb\",\"edwingeng\",\"ee227c\",\"efc2\",\"efexen\",\"efortuna\",\"efremidze\",\"eggjs\",\"eggplanetio\",\"eggsyntax\",\"egmoll7\",\"egoist\",\"egojump\",\"egyptian-geeks\",\"ehsunshine\",\"eibrahim\",\"eidonlon\",\"eigenteam\",\"eladhoffer\",\"eladshamir\",\"elaineo\",\"elastic\",\"elbywan\",\"eldar\",\"electrode-io\",\"electron-userland\",\"eleme\",\"elgris\",\"elibensasson\",\"eliukblau\",\"elixir-cn\",\"elixir-lang\",\"elizond0\",\"elkokc\",\"ellimilial\",\"elliotchance\",\"ellisdg\",\"elmasse\",\"elpassion\",\"elrumordelaluz\",\"elsewhencode\",\"emacs-evil\",\"ematvey\",\"emazzotta\",\"embedi\",\"ember-best-practices\",\"emedvedev\",\"emeeks\",\"emgucv\",\"emilbayes\",\"emilwallner\",\"emluque\",\"emmericp\",\"emmjaykay\",\"emonney\",\"emotion-js\",\"emreler\",\"encode\",\"endernewton\",\"enggen\",\"enigmampc\",\"enkidevs\",\"enkomio\",\"enocom\",\"enricofoltran\",\"entria\",\"enzet\",\"eoger\",\"eolinker\",\"epfml\",\"epickrram\",\"epicmaxco\",\"epiqueras\",\"epsagon\",\"ept\",\"eqblog\",\"eqrion\",\"equinusocio\",\"eragonruan\",\"erdewit\",\"erezsh\",\"ergenekonyigit\",\"erhwenkuo\",\"ericelliott\",\"ericfreese\",\"ericjjj\",\"ericmaxwell2003\",\"ericmjl\",\"ericvicenti\",\"eridgd\",\"erikcaffrey\",\"eriklindernoren\",\"erilyth\",\"erinxocon\",\"erlanglab\",\"ermongroup\",\"ernoaapa\",\"ernw\",\"errbufferoverfl\",\"errorception\",\"ertugrulyilmaz\",\"esbenp\",\"esemplastic\",\"esimov\",\"esl\",\"espnet\",\"espressif\",\"essandess\",\"essentialbooks\",\"essentials4j\",\"esy\",\"eterrao\",\"eth0izzle\",\"ethanent\",\"ethanfetaya\",\"ethanhua\",\"ethantran\",\"ethereum\",\"ethereum-mining\",\"ethz-asl\",\"etiennepinchon\",\"eumji025\",\"euvl\",\"evait-security\",\"evenchange4\",\"eveningglow\",\"eveningkid\",\"eventtus\",\"everdrone\",\"everettjf\",\"evernote\",\"evertramos\",\"everyleaf\",\"everythingwillbetakenaway\",\"eveybcd\",\"evilcos\",\"evilgix\",\"evilsocket\",\"evnm\",\"evrencoskun\",\"evykassirer\",\"exAspArk\",\"exevil\",\"exonum\",\"expectocode\",\"experdot\",\"experiencor\",\"exploitagency\",\"explosion\",\"exthereum\",\"exyte\",\"eyebluecn\",\"ezyang\",\"f\",\"f0rb1dd3n\",\"f1xpl\",\"fa-ge\",\"faaslang\",\"fabiomcosta\",\"fabiospampinato\",\"fabriciovergal\",\"fabrimagic72\",\"faceair\",\"facebesidewyj\",\"facebook\",\"facebook-atom\",\"facebookarchive\",\"facebookexperimental\",\"facebookincubator\",\"facebookresearch\",\"facert\",\"faceyspacey\",\"fahidattique55\",\"faiface\",\"faizann24\",\"falconre\",\"famavott\",\"fanchaoo\",\"fand\",\"faneshion\",\"fangchangma\",\"fangpenlin\",\"fangxiaopeng\",\"fangyangdexingxing999\",\"fanhua1994\",\"fanout\",\"fantix\",\"fardog\",\"farice\",\"farmingyard\",\"faruktoptas\",\"farzaa\",\"fashare2015\",\"fashiontec\",\"fastai\",\"fastlane\",\"fastpack\",\"fastred\",\"fatchord\",\"fate0\",\"fateleak\",\"fathyb\",\"fatih\",\"fatihacet\",\"fatiherikli\",\"fbeline\",\"fbessez\",\"fbsamples\",\"fcannizzaro\",\"fchollet\",\"fd0\",\"fdiskyou\",\"feathericons\",\"feathersjs\",\"featurecat\",\"federicodotta\",\"feexd\",\"feflow\",\"feichtenhofer\",\"feicong\",\"feiskyer\",\"felipe-augusto\",\"felixfbecker\",\"felixgr\",\"felixlaumon\",\"fempire\",\"fendouai\",\"fenetikm\",\"fengari-lua\",\"fengjiyuan\",\"fengzhizi715\",\"fergarrui\",\"fernandodelrio\",\"feross\",\"ferreiradaselva\",\"ferreirasc\",\"fewtime\",\"fhinkel\",\"fiatjaf\",\"fiber-god\",\"fiberphp\",\"fico7489\",\"fideliscyber\",\"fifyrio\",\"filamentgroup\",\"filangel\",\"filiph\",\"filletofish\",\"final-form\",\"finchalyzer\",\"fingdo\",\"finixbit\",\"firebase\",\"fireeye\",\"fireflyc\",\"fireice-uk\",\"fireworq\",\"fishme\",\"fishtrip\",\"fitzgen\",\"fiveagency\",\"flaggo\",\"flant\",\"flexdinesh\",\"flexport\",\"flipkart-incubator\",\"floating\",\"floatinghotpot\",\"flomlo\",\"floodsung\",\"floooh\",\"florent37\",\"floveluy\",\"flowing\",\"flowtype\",\"floyd-fuh\",\"floyernick\",\"flplv\",\"fluent\",\"flutter\",\"flxbe\",\"flyou\",\"flyyufelix\",\"fmo91\",\"fnproject\",\"fnzv\",\"fo40225\",\"fogleman\",\"folkswhocode\",\"fomenyesu\",\"foolcage\",\"foolchen\",\"foolsong\",\"foolwood\",\"foonathan\",\"forest-lang\",\"foreversmart\",\"forezp\",\"form-for\",\"formschema\",\"formsy\",\"forter\",\"forward-blockchain\",\"forwardbob\",\"foss-project\",\"fossas\",\"fossasia\",\"fosskers\",\"fourbrother\",\"fourlastor\",\"fox-it\",\"fpass\",\"fractalwrench\",\"fragworks\",\"franccesco\",\"francisrstokes\",\"frank-tan\",\"frankcash\",\"frankdilo\",\"frappe\",\"frdnrdb\",\"free-electrons\",\"free46000\",\"freeCodeCamp\",\"freeciv\",\"fregu856\",\"freshOS\",\"freshbitsweb\",\"frewsxcv\",\"frichti\",\"fridays\",\"friends-of-freeswitch\",\"frizb\",\"froala\",\"frogermcs\",\"frogg\",\"froggey\",\"frontendbr\",\"frontsideair\",\"fs0c131y\",\"fsprojects\",\"fstpackage\",\"fuchsia-mirror\",\"fucongcong\",\"fulcrologic\",\"fullstackreact\",\"fullstorydev\",\"fully-forged\",\"funfix\",\"fungos\",\"furey\",\"furioussoul\",\"futuresimple\",\"futuretap\",\"fuzzbunch\",\"fvgs\",\"fwhappy\",\"fwon\",\"fxia22\",\"fython\",\"fyu\",\"fzerorubigd\",\"fzxa\",\"g-plane\",\"g3n\",\"gaasedelen\",\"gabrielilharco\",\"gabrieloc\",\"gabrielrcouto\",\"gadenbuie\",\"gajus\",\"galeone\",\"galex\",\"galiboo\",\"galnetwen\",\"gameboyVito\",\"gametimesf\",\"ganderzz\",\"ganigeorgiev\",\"gao0122\",\"gaohuang\",\"gaojiuli\",\"gaojunquan\",\"garbear\",\"garbles\",\"gardncl\",\"garethr\",\"gasche\",\"gavin66\",\"gbevin\",\"gboeing\",\"gcanti\",\"gcarq\",\"gchaincl\",\"gcp\",\"gcpug\",\"gdedrouas\",\"gdg-tangier\",\"gdkchan\",\"gdnmobilelab\",\"gee1k\",\"geek-ai\",\"geekplux\",\"geekwolf\",\"geerlingguy\",\"geffzhang\",\"gejiaheng\",\"gekkowarez\",\"geky\",\"gellin\",\"gen0cide\",\"gen2brain\",\"gencebay\",\"general-mobile\",\"geniusforapp\",\"geniusgordon\",\"genkgo\",\"gentilkiwi\",\"genuinetools\",\"geolessel\",\"george518\",\"georgemandis\",\"georgesung\",\"geosenna\",\"geraldoramos\",\"gergo-\",\"gernest\",\"getdnsapi\",\"getfider\",\"getify\",\"getnelson\",\"getsentry\",\"gfw-breaker\",\"ggambetta\",\"ggomaeng\",\"ggravlingen\",\"ghacksuserjs\",\"ghosh\",\"ghostery\",\"ghuiii\",\"ghwatson\",\"giMini\",\"gianarb\",\"gibbed\",\"gicentre\",\"gicheonkang\",\"gigobyte\",\"gigya\",\"gijit\",\"gijsroge\",\"giladaya\",\"gildor\",\"gin-contrib\",\"giraffQL\",\"giraffe-fsharp\",\"git-chglog\",\"git-sgmoore\",\"git-xuhao\",\"gitalk\",\"gitcoinco\",\"github\",\"github-beta\",\"github-for-unity\",\"github-pengge\",\"github-serendipity\",\"github1586\",\"githubhaohao\",\"githubsaturn\",\"gitlimlab\",\"gitpoint\",\"gitsummore\",\"giveMeHug\",\"giving-a-fuck-about-climate-change\",\"gjcarneiro\",\"gjiazhe\",\"gkaindl\",\"gkajs\",\"gkdr\",\"gkngkc\",\"gkopel\",\"gkovacs\",\"gl-transitions\",\"glaand\",\"glample\",\"gledos\",\"glennglennglenn\",\"glennsl\",\"glimmerjs\",\"glinscott\",\"globocom\",\"glomadrian\",\"glouw\",\"gluon-api\",\"glushchenko\",\"gmarik\",\"gmarull\",\"gmattie\",\"gmontard\",\"gnif\",\"gnormal\",\"gnuns\",\"gnzlbg\",\"go-commons\",\"go-ego\",\"go-functional\",\"go-ignite\",\"go-interpreter\",\"go-saloon\",\"go-siris\",\"go-task\",\"go-test\",\"gobitfly\",\"gobuffalo\",\"gobwas\",\"goby-lang\",\"gocn\",\"gocolly\",\"godaddy\",\"godarch\",\"godlyranchdressing\",\"godotengine\",\"godrm\",\"goessner\",\"gogooing\",\"gohouse\",\"goiiot\",\"gojektech\",\"gojuno\",\"gokrazy\",\"golang\",\"golang-standards\",\"golangci\",\"golangtw\",\"golanlevin\",\"golbin\",\"goldenlynx\",\"goldmoment\",\"goldsborough\",\"goldze\",\"gomods\",\"gonum\",\"gonzalonunez\",\"goodfeli\",\"goodnesskay\",\"goodrahstar\",\"goodrain\",\"google\",\"google-aai\",\"google-ar\",\"google-developer-training\",\"googlecreativelab\",\"googlemaps\",\"googlesamples\",\"googlevr\",\"gopcp\",\"gophercon\",\"gopro\",\"goquiz\",\"goreleaser\",\"goreliu\",\"gostor\",\"gotham-rs\",\"gothinkster\",\"gotpl\",\"gouthampradhan\",\"govau\",\"govolution\",\"gowebexamples\",\"goyourfly\",\"gozman\",\"gpleiss\",\"gplibs\",\"gpuopenanalytics\",\"grab\",\"gradle\",\"gragrance\",\"grailbio\",\"gram-ai\",\"gramework\",\"grammarly\",\"gramps-graphql\",\"graniet\",\"grantathon\",\"grantcarthew\",\"graphcool\",\"graphile\",\"graphql-boilerplates\",\"graphql-cli\",\"graphql-compose\",\"graphql-java\",\"greenboxal\",\"greglobinski\",\"gremlin-orm\",\"greshake\",\"greymd\",\"gribnoysup\",\"griegler\",\"gringoireDM\",\"grofers\",\"groupon\",\"grpc-ecosystem\",\"gruns\",\"grycap\",\"gs3170981\",\"gshigeto\",\"gstt\",\"gturedi\",\"guahsu\",\"guanchao\",\"guangqiang-liu\",\"guardianproject\",\"guardicore\",\"guaxiao\",\"guedou\",\"guerrerocarlos\",\"guidovranken\",\"guigrpa\",\"guillaume-chevalier\",\"guillaumegenthial\",\"guiying712\",\"gulzar1996\",\"gunthercox\",\"guowilling\",\"guoxiaoxing\",\"guptarohit\",\"gurugio\",\"guyecode\",\"guyskk\",\"guyueyingmu\",\"guzhigang001\",\"gwuhaolin\",\"gy-games\",\"gyoisamurai\",\"gytai\",\"gzuidhof\",\"h4h13\",\"hH39797J\",\"haarnoja\",\"haccer\",\"hacking-code\",\"hackl\",\"hacktoberfest17\",\"hadiidbouk\",\"hadley\",\"hadrienj\",\"haegul\",\"hafen\",\"haifenghuang\",\"hajimehoshi\",\"hak5\",\"hakobast\",\"half0wl\",\"halfrost\",\"halhen\",\"halower\",\"hamburgscleanest\",\"hamed-ehtesham\",\"hamedbaatour\",\"hamelsmu\",\"hamger\",\"hammadshaikhha\",\"hana-group\",\"handsomecode\",\"handsontable\",\"hanford\",\"hangzhaomit\",\"hank-whu\",\"hankchizljaw\",\"hankcs\",\"hanks-zyh\",\"hankzhuo\",\"hanleyweng\",\"hannob\",\"hannw\",\"hansemannn\",\"hantsy\",\"hanxiansen\",\"haoking\",\"hapijs\",\"happi\",\"happynear\",\"happyyangyuan\",\"hardikbansal\",\"hardmaru\",\"harjot-oberai\",\"harksys\",\"harleyQu1nn\",\"harpocrates\",\"harrain\",\"harveyslash\",\"harvitronix\",\"has2k1\",\"hasherezade\",\"hashicorp\",\"hasib32\",\"hasinhayder\",\"haskell-perf\",\"haskellcamargo\",\"hasura\",\"hatRiot\",\"hateonion\",\"hawk0620\",\"hawku\",\"haya14busa\",\"hboon\",\"hbxywdk\",\"hc0d3r\",\"hchasestevens\",\"hcy1996\",\"hdm\",\"headsetapp\",\"healthfinch\",\"hectahertz\",\"hedgehogqa\",\"hefuyicoder\",\"hegusung\",\"heimashi\",\"helantao\",\"helfer\",\"helio-fm\",\"heliojuniorkroger\",\"hellerve\",\"hellocassiell\",\"hellochick\",\"helloworlde\",\"hemanth\",\"hencoder\",\"hengyuan-hu\",\"henrichjahoda\",\"henripal\",\"henrymorgen\",\"henson\",\"heppu\",\"heptio\",\"heptiolabs\",\"herber\",\"hernandev\",\"heroiclabs\",\"heroku\",\"herozhou\",\"heruijun\",\"hetelek\",\"hetznercloud\",\"hex007\",\"hexacta\",\"hexiangnan\",\"hexiaoyun128\",\"hexojs\",\"heyitsanthony\",\"hezi\",\"hfiref0x\",\"hfslyc\",\"hgDendi\",\"hgarrereyn\",\"hh23485\",\"hhfa008\",\"hhrutter\",\"hhxsv5\",\"hibayesian\",\"hieuvp\",\"higgsfield\",\"hihozhou\",\"hillstreetlabs\",\"hilongjw\",\"hindupuravinash\",\"hinesboy\",\"hiproxy\",\"hiroharu-kato\",\"hitvoice\",\"hiveml\",\"hiwonjoon\",\"hjl19911127\",\"hkbakke\",\"hkk595\",\"hkpeterpeter\",\"hlldz\",\"hluhovskyi\",\"hmemcpy\",\"hminaya\",\"hmontazeri\",\"hnarayanan\",\"hng\",\"hobby-kube\",\"hollance\",\"hollobit\",\"hollodotme\",\"holyhao\",\"holzschu\",\"honeytrap\",\"hongyangAndroid\",\"honraytech\",\"hooram\",\"hootsuite\",\"hoovercj\",\"horitaku46\",\"horizon-games\",\"hoshsadiq\",\"housenkui\",\"houshanren\",\"howardwu\",\"howtographql\",\"hpi-xnor\",\"hql287\",\"hrbrmstr\",\"hrvach\",\"hs-web\",\"hse-aml\",\"hshoff\",\"hsllany\",\"hsnaydd\",\"hsoft\",\"hss01248\",\"hszhao\",\"hteso\",\"htruong\",\"http4k\",\"httpimp\",\"hua1995116\",\"hualin95\",\"huangdali\",\"huanghaibin-dev\",\"huanghe\",\"huanghoujing\",\"huanghua581\",\"huanglizhuo\",\"huangyanbin\",\"huanxsd\",\"huazhouwang\",\"hubcarl\",\"huextrat\",\"hufan-akari\",\"hugeterry\",\"huggingface\",\"hugmanrique\",\"hugomd\",\"hugozap\",\"huiyan-fe\",\"hujiulong\",\"hulab\",\"hulizhen\",\"humanmade\",\"hundeva\",\"hundredblocks\",\"hundredrabbits\",\"hunkim\",\"huntergregal\",\"hunterloftis\",\"huntsman-li\",\"hunzaboy\",\"huobiapi\",\"hussien89aa\",\"hustcc\",\"huwb\",\"huwwp\",\"huyingjie\",\"huytd\",\"huzenan\",\"hvanbakel\",\"hwalsuklee\",\"hwayne\",\"hwwang55\",\"hy-freedom\",\"hyb1996\",\"hybridgroup\",\"hydrogen-dev\",\"hyln9\",\"hypeapps\",\"hypebeast\",\"hyperapp\",\"hyperia-sk\",\"hyperium\",\"hyperledger\",\"hyperoslo\",\"hypertrack\",\"hypnoglow\",\"hyy1115\",\"hzfengjian\",\"hzlshen\",\"hzqst\",\"hzw1199\",\"hzy46\",\"hzzly\",\"i-schuetz\",\"i0natan\",\"i3arnon\",\"i5ting\",\"iCloudys\",\"iCrawl\",\"iOS-Strikers\",\"iOS-Swift-Developers\",\"iOS-Tips\",\"iOSDevLog\",\"iRaul\",\"iTXTech\",\"iZeroer\",\"iabem97\",\"iafan\",\"iam4x\",\"iamakulov\",\"iamatypeofwalrus\",\"iammert\",\"iampawan\",\"iamshaunjp\",\"iamtodor\",\"iamvdo\",\"iamxjb\",\"ianstormtaylor\",\"iawia002\",\"ibm-functions\",\"iboB\",\"icarusion\",\"ice1000\",\"icing\",\"ico-check\",\"icons8\",\"icoxfog417\",\"icymind\",\"idea4good\",\"idibidiart\",\"idic779\",\"idoideas\",\"idyll-lang\",\"ierror\",\"ifedapoolarewaju\",\"igalata\",\"iglaweb\",\"ignacio-chiazzo\",\"ignacio-rocco\",\"ignoreintuition\",\"igorkasyanchuk\",\"igorkulman\",\"igorpavlov\",\"igul222\",\"ihack4falafel\",\"ihacklog\",\"ihaolin\",\"ihebski\",\"ihodev\",\"ihsanbal\",\"iiitv\",\"iipc\",\"ijoshsmith\",\"ikalchev\",\"ikcamp\",\"ikhlestov\",\"ikostrikov\",\"ilanyu\",\"ildoonet\",\"iliakan\",\"ilivans\",\"illinoisjackson\",\"ilourt\",\"ilyapuchka\",\"ilyashubin\",\"im-js\",\"imablanco\",\"imanghafoori1\",\"imbal\",\"imbaniac\",\"imdada\",\"imdrasil\",\"imflyn\",\"imlifengfeng\",\"imolorhe\",\"improbable-eng\",\"imroc\",\"imsnif\",\"imsun\",\"imuhao\",\"imurray\",\"imwcl\",\"in66-dev\",\"inamiy\",\"inconvergent\",\"indiejoseph\",\"indiespirit\",\"indradb\",\"indrajithi\",\"indutny\",\"inejc\",\"ines\",\"infection\",\"infinitbyte\",\"infinitered\",\"infinum\",\"influxdata\",\"infobyte\",\"infokiller\",\"inforian\",\"infotech-group\",\"ing-bank\",\"ingesolvoll\",\"initstring\",\"inklabsfoundation\",\"inkle\",\"inloco\",\"insidegui\",\"inspector-repl\",\"insprintorob\",\"instacart\",\"instagrambot\",\"integrii\",\"intel\",\"intel-go\",\"intellij-solidity\",\"intelygenz\",\"intercellular\",\"interference-security\",\"internet5\",\"intezer\",\"intmain\",\"intoli\",\"intuit\",\"inueni\",\"inurlx\",\"invertase\",\"ioRekz\",\"iogf\",\"ionescu007\",\"ionic-team\",\"iosre\",\"iostreamer-X\",\"iosyaowei\",\"iotacss\",\"iovxw\",\"ipfs\",\"ipfs-shipyard\",\"iqiyi\",\"iravid\",\"ircmaxell\",\"ireade\",\"irfansener\",\"iridakos\",\"irisli\",\"ironmussa\",\"isellsoap\",\"iserdmi\",\"ishaan1995\",\"isht7\",\"isofew\",\"isometric\",\"israelss\",\"istio\",\"itdependsnetworks\",\"iterate-ch\",\"itfsw\",\"itmeo\",\"itmuch\",\"itrump\",\"itsdalmo\",\"ittianyu\",\"ityouknow\",\"iutbay\",\"ivanceras\",\"ivanilves\",\"ivanseidel\",\"ivelum\",\"ivetakovac\",\"iview\",\"ivoras\",\"ivy-lang\",\"iwantooxxoox\",\"izhangzhihao\",\"j-min\",\"j2kao\",\"jD91mZM2\",\"jMavarez\",\"jVirus\",\"jaaksi\",\"jaap-karssenberg\",\"jacekschae\",\"jack-team\",\"jackdoe\",\"jackfranklin\",\"jackrugile\",\"jackschaedler\",\"jackschultz\",\"jacobbogers\",\"jacobgil\",\"jacquelinekay\",\"jadjoubran\",\"jadore801120\",\"jaesik817\",\"jaggedsoft\",\"jahirfiquitiva\",\"jaimehgb\",\"jainsahab\",\"jajoosam\",\"jakebian\",\"jakebonk\",\"jakedeichert\",\"jakemarsh\",\"jakesnell\",\"jakevdp\",\"jakewmeyer\",\"jakezhaojb\",\"jakubgarfield\",\"jakzal\",\"jalola\",\"jamesisaac\",\"jamesknelson\",\"jamesmontemagno\",\"jamesplease\",\"jamiebuilds\",\"jamiehannaford\",\"jamis\",\"janishar\",\"janlelis\",\"janpaul123\",\"janten\",\"japaric\",\"jaredly\",\"jaredpalmer\",\"jaredreich\",\"jarek-foksa\",\"jarrekk\",\"jarulraj\",\"jarv\",\"jasnell\",\"jason718\",\"jasonl99\",\"jasonrohrer\",\"jaungiers\",\"javaSwing\",\"javaee\",\"javaexception\",\"javafxports\",\"javascript-machine-learning\",\"javebratt\",\"javierbyte\",\"javivelasco\",\"javonleee\",\"jawache\",\"jaweii\",\"jawil\",\"jaxony\",\"jaybosamiya\",\"jaybutera\",\"jaychang0917\",\"jaydenseric\",\"jayleicn\",\"jaystack\",\"jaywcjlove\",\"jbaileyh\",\"jbtronics\",\"jcc\",\"jcesarstef\",\"jchambers\",\"jcjohnson\",\"jcmoraisjr\",\"jcodeing\",\"jcs\",\"jcsalterego\",\"jcupitt\",\"jd\",\"jdesbonnet\",\"jdisho\",\"jdkato\",\"jdormit\",\"jeaye\",\"jedisct1\",\"jeff-1amstudios\",\"jeffijoe\",\"jeffmer\",\"jeffreybergier\",\"jeffreyguenther\",\"jeffreyshen19\",\"jegumhon\",\"jekyller\",\"jellybeansoup\",\"jendrikseipp\",\"jeneser\",\"jenil\",\"jenkins-x\",\"jenkinsci\",\"jenly1314\",\"jenniferlynparsons\",\"jenniferthompson\",\"jennybc\",\"jeroen\",\"jeromedalbert\",\"jeromeetienne\",\"jerpint\",\"jerry-git\",\"jerry9022\",\"jessekorzan\",\"jessfraz\",\"jest-community\",\"jetstack\",\"jettan\",\"jevakallio\",\"jez\",\"jf3096\",\"jfilter\",\"jfkirk\",\"jgamblin\",\"jgierer12\",\"jgilfelt\",\"jgranstrom\",\"jgraph\",\"jgreenemi\",\"jgthms\",\"jhabdas\",\"jhjacobsen\",\"jhoenicke\",\"jhogan4288\",\"jhspetersson\",\"jhurray\",\"jiajunhuang\",\"jiajunwu\",\"jiang111\",\"jiangdongguo\",\"jiangmin168168\",\"jiangwenyuan\",\"jiangzhonglian\",\"jiasenlu\",\"jiaxiaogang\",\"jiayihu\",\"jimersylee\",\"jimmerioles\",\"jimmy201602\",\"jimmysong\",\"jimmywangheng\",\"jindongwang\",\"jindulys\",\"jineshfrancs\",\"jinfagang\",\"jingweiz\",\"jingweno\",\"jinmingjian\",\"jinyb09017\",\"jiqizhixin\",\"jirfag\",\"jiulongw\",\"jiyfeng\",\"jkchao\",\"jkpang\",\"jkrup\",\"jkup\",\"jlaine\",\"jm33-m0\",\"jmcarpenter2\",\"jmiller656\",\"jntass\",\"joanbruna\",\"joaomatosf\",\"joaomilho\",\"joaoventura\",\"joarleymoraes\",\"joarwilk\",\"jobertabma\",\"jochemin\",\"jodosha\",\"joe-shenouda\",\"joeddav\",\"joedicastro\",\"joekendal\",\"joeldg\",\"joelgriffith\",\"joelparkerhenderson\",\"joerez\",\"joerick\",\"joeynelson42\",\"johannesjo\",\"johndatserakis\",\"johngrib\",\"johnkorzhuk\",\"johnlui\",\"johnno1962\",\"johnpapa\",\"johnpaulada\",\"johnpolacek\",\"johnsonchak\",\"johntitus\",\"joho\",\"jojoldu\",\"jokermonn\",\"jolestar\",\"jollheef\",\"joltup\",\"jonas-koehler\",\"jonashackt\",\"jonasschmedtmann\",\"jonatan1024\",\"jonathanharrell\",\"jonathantneal\",\"jonathontoon\",\"jonbruner\",\"jondot\",\"jongallant\",\"jongold\",\"jonlabelle\",\"jonluca\",\"jonmosco\",\"jonnyasmar\",\"joom\",\"joonhocho\",\"jordanmerrick\",\"jordanpotti\",\"jorgebucaran\",\"joric\",\"josephernest\",\"joshavanier\",\"joshbetz\",\"joshua-wu\",\"joshuathompson\",\"joshwcomeau\",\"jostbr\",\"jostmey\",\"jovotech\",\"joyieldInc\",\"joyread\",\"joyrun\",\"jpantunes\",\"jpignata\",\"jplhomer\",\"jpmorganchase\",\"jqqqqqqqqqq\",\"jquense\",\"jrainlau\",\"jrasell\",\"jremillard\",\"jrobchin\",\"jrothrock\",\"jrvansuita\",\"js-choi\",\"jscomplete\",\"jscottsmith\",\"jshanson7\",\"jshvarts\",\"jsntjinjin\",\"jsomers\",\"jsonlines\",\"jstoxrocky\",\"jstpcs\",\"jsuarez5341\",\"jsuarezruiz\",\"jszwec\",\"jt827859032\",\"jtanwk\",\"jtesta\",\"jtomori\",\"juanpablofernandez\",\"juefeix\",\"juhakivekas\",\"juliandewit\",\"juliangaal\",\"juliangruber\",\"juliaqiuxy\",\"julienrf\",\"jullrich\",\"junhyukoh\",\"junneyang\",\"junxiaosong\",\"junyanz\",\"jupeter\",\"jupyterhub\",\"jupyterlab\",\"jurajkabackov\",\"jussihi\",\"just-team\",\"justadudewhohacks\",\"justdoit0823\",\"justdotJS\",\"justeat\",\"justjavac\",\"justsml\",\"justwatchcom\",\"jvns\",\"jweinst1\",\"jwkvam\",\"jwpttcg66\",\"jwwb681232\",\"jwyang\",\"jxnblk\",\"jxshunqiziran\",\"jxv\",\"k-takata\",\"k-tamura\",\"k-water\",\"k0keoyo\",\"k0kubun\",\"k0shk0sh\",\"k3170makan\",\"k4m4\",\"kLike\",\"kabirvirji\",\"kacperszurek\",\"kactus-io\",\"kadira-open\",\"kaeyleo\",\"kagux\",\"kailashahirwar\",\"kakao\",\"kalbhor\",\"kallewoof\",\"kalymos\",\"kamikat\",\"kamranahmedse\",\"kan-bayashi\",\"kanflo\",\"kanishka-linux\",\"kannan-anbu\",\"kannonboy\",\"kantord\",\"kaonashi-tyc\",\"karlhorky\",\"karllhughes\",\"karntrehan\",\"karthikraj-duraisamy\",\"kashyap32\",\"kasketis\",\"kata-containers\",\"kaushikgopal\",\"kawoou\",\"kayanouriko\",\"kayru\",\"kaz-Anova\",\"kazuhiro4949\",\"kbelter\",\"kbrsh\",\"kbsecret\",\"kcastellano\",\"kciter\",\"kcloze\",\"kdexd\",\"kdn251\",\"kedgeproject\",\"kee-org\",\"keel-hq\",\"keepassxreboot\",\"keets2012\",\"kefirski\",\"keijiro\",\"keitaoouchi\",\"keith\",\"keith-turner\",\"keithamus\",\"keithito\",\"kekingcn\",\"kellyselden\",\"kelseyhightower\",\"kelvinau\",\"kelvinguu\",\"kenangundogan\",\"kendricktan\",\"kennethreitz\",\"kennetpostigo\",\"kensanata\",\"kensho-technologies\",\"kenshohara\",\"kentcdodds\",\"kentsommer\",\"kentsyx\",\"keon\",\"keraf\",\"keras-team\",\"keratin\",\"keredson\",\"kesar\",\"keshiim\",\"keskival\",\"ketchuphq\",\"kevalpatel2106\",\"kevin-montrose\",\"kevin28520\",\"kevinburke\",\"kevingo\",\"kevinschoon\",\"kevinzakka\",\"kevlar1818\",\"kevll\",\"kevthehermit\",\"kevva\",\"kevzettler\",\"kewitz\",\"keyboardsurfer\",\"keyuls\",\"keyvanakbary\",\"kgretzky\",\"khan4019\",\"khanrc\",\"khaosdoctor\",\"khenidak\",\"khuangaf\",\"kiddyuchina\",\"kieranmv95\",\"kihosuh\",\"kilimchoi\",\"killercup\",\"killmymates\",\"killthekitten\",\"kilroyweb\",\"kimhc6028\",\"kingcos\",\"kingfengji\",\"kingreza\",\"kingsic\",\"kingston-csj\",\"kingvid-chan\",\"kinvolk\",\"kiok46\",\"kirill-konshin\",\"kirtan403\",\"kishikawakatsumi\",\"kitech\",\"kitetail\",\"kitian616\",\"kitten\",\"kitze\",\"kiwiz\",\"kizitonwose\",\"kjaisingh\",\"kjdion84\",\"kjempelodott\",\"kjk\",\"kk121\",\"kkemple\",\"kkokosa\",\"kkroening\",\"klauscfhq\",\"klesh\",\"klinker24\",\"kmaninis\",\"kmather73\",\"kmcallister\",\"kmhofmann\",\"kmvan\",\"knightmare2600\",\"knightsj\",\"knitmesh\",\"knowbody\",\"knqyf263\",\"kocsis1david\",\"kodera2t\",\"kodie\",\"koekeishiya\",\"kokjo\",\"kollerlukas\",\"komposable\",\"konifar\",\"konnected-io\",\"kootenpv\",\"korfuri\",\"korywakefield\",\"kosenko\",\"kosmos\",\"kossnocorp\",\"kotcity\",\"kotobukki\",\"kottans\",\"kountable\",\"koute\",\"kovidgoyal\",\"koz4k\",\"kozistr\",\"kpcyrd\",\"kpwn\",\"kradio3\",\"kragen\",\"kragniz\",\"krakenjs\",\"krasevych\",\"krasimir\",\"krasserm\",\"kratzert\",\"kren1\",\"kriadmin\",\"krimpedance\",\"krishnakumarsekar\",\"krisk\",\"kristate\",\"kristian-lange\",\"kristoferbaxter\",\"kromtech\",\"kryptxy\",\"krystalcampioni\",\"krystianity\",\"krzysztofzablocki\",\"ksassnowski\",\"kshvakov\",\"kshvmdn\",\"ksmandersen\",\"ksonnet\",\"kt3k\",\"kth-competitive-programming\",\"ktiOSz\",\"ktr0731\",\"ktsn\",\"kuaikuaikim\",\"kuangliu\",\"kubeapps\",\"kubeflow\",\"kubeless\",\"kubernetes\",\"kubernetes-client\",\"kubernetes-helm\",\"kubernetes-incubator\",\"kubernetes-up-and-running\",\"kubicorn\",\"kujason\",\"kukushi\",\"kulakowka\",\"kunjee17\",\"kuoa\",\"kuoruan\",\"kusti8\",\"kutoga\",\"kuyawa\",\"kvfrans\",\"kyb3r\",\"kylebebak\",\"kylemcdonald\",\"kyoshidajp\",\"kz26\",\"l-hammer\",\"l-passer\",\"l0ss\",\"l465659833\",\"laanlabs\",\"labzero\",\"ladderlife\",\"ladyleet\",\"lafikl\",\"laie\",\"laike9m\",\"lainsce\",\"laixintao\",\"laizimo\",\"lakshayg\",\"lakshyaranganath\",\"lalongooo\",\"lando\",\"lanpa\",\"lanux\",\"lao-siji\",\"laobubu\",\"laoqiren\",\"laotan7237\",\"lapcat\",\"lapfelix\",\"laracademy\",\"larahogan\",\"laravel-enso\",\"laravel-frontend-presets\",\"laravel-zero\",\"laravelbrasil\",\"laravelnews\",\"larkery\",\"larsenwork\",\"larsjanssen6\",\"larsp\",\"larvalabs\",\"lassjs\",\"lastming\",\"latex3\",\"lattebank\",\"laurent22\",\"lauthieb\",\"layoutBox\",\"layumi\",\"lazarljubenovic\",\"lbighetti\",\"lbryio\",\"lbugnion\",\"lc-ui\",\"lcatro\",\"lclarkmichalek\",\"ldlood\",\"leandromoreira\",\"learn-anything\",\"learnbyexample\",\"learning-rust\",\"leavesC\",\"leboncoin\",\"leehomeok\",\"leehomyc\",\"leerme\",\"leerob\",\"leesoh\",\"leetenki\",\"leewp14\",\"legitbs\",\"leitbogioro\",\"lelandrichardson\",\"lemon-lang\",\"lemoz\",\"lenadroid\",\"lengseling\",\"lensh\",\"lenve\",\"leo\",\"leo9960\",\"leohotfn\",\"leonHua\",\"leonardovilarinho\",\"leonardvandriel\",\"leopiney\",\"leopoldjoy\",\"leostat\",\"leovoel\",\"leportella\",\"lepture\",\"lestcape\",\"letsvalidate\",\"lettier\",\"leviathan-framework\",\"leviswind\",\"lewissbaker\",\"lexburner\",\"lexfridman\",\"lexiross\",\"lfz\",\"lgeek\",\"lgeiger\",\"lh3\",\"lhartikk\",\"li-xiaojun\",\"li24361\",\"liangdahong\",\"liangklfangl\",\"liangxiaojuan\",\"liantian-cn\",\"liaoziyang\",\"liberodark\",\"libexpat\",\"libobjc\",\"libp2p\",\"librespot-org\",\"licc168\",\"lichengunc\",\"lidarr\",\"lief-project\",\"lieff\",\"lifenautjoe\",\"lifengsofts\",\"lifepillar\",\"lifrordi\",\"ligershark\",\"liggitt\",\"lightbend\",\"lightninglabs\",\"lihancong\",\"lihaoyi\",\"lihengming\",\"lihongxun945\",\"liiight\",\"lijiankun24\",\"lijinma\",\"lileio\",\"lilianweng\",\"limdauto\",\"limeng32\",\"limneos\",\"lin-xin\",\"linasmnew\",\"line\",\"lingdublog\",\"lingochamp\",\"lingui\",\"linhua55\",\"linkedin\",\"linlianmin\",\"linlinjava\",\"linroid\",\"linsir6\",\"linuxboot\",\"linuxerwang\",\"linuxkit\",\"linuxserver\",\"linw7\",\"linweiwei123\",\"lionsharecapital\",\"liormarga\",\"lipp\",\"liquidweb\",\"lisidi\",\"listenzz\",\"listsfordesign\",\"lit-forest\",\"littlewin-wang\",\"liu-nlper\",\"liu-peiyu\",\"liu-zhuang\",\"liubobo\",\"liuchengxu\",\"liudf0716\",\"liugangios\",\"liugaolian\",\"liuguangqiang\",\"liulei01\",\"lium-lst\",\"liunian1004\",\"liupeijun\",\"liutao\",\"liuzeminismy\",\"liuziwei7\",\"livechat\",\"lixiaoshaxing\",\"liyuechun\",\"lizadaly\",\"lizhichao\",\"lizixian18\",\"lizrice\",\"lj74txys\",\"lkeme\",\"lkzhao\",\"llSourcell\",\"llens\",\"lllyasviel\",\"llogiq\",\"llvm-hs\",\"llvm-swift\",\"lmatteis\",\"lmb-freiburg\",\"lmcinnes\",\"lmgonzalves\",\"loboris\",\"localheinz\",\"localhost02\",\"locuslab\",\"loftylabs\",\"loicdescotte\",\"loklak\",\"lokyoung\",\"longcw\",\"longfeizheng\",\"longhowlam\",\"loomnetwork\",\"loopeer\",\"lopuhin\",\"lorabv\",\"lord\",\"loregr\",\"loretoparisi\",\"lorisleiva\",\"loudinthecloud\",\"louietan\",\"louisabraham\",\"louiscenter\",\"louisdh\",\"loup-brun\",\"lovefc\",\"lovelyCoder\",\"lovoo\",\"lowlevel86\",\"lpan\",\"lpereira\",\"lpil\",\"lprhodes\",\"lqs469\",\"lquixada\",\"lrannn\",\"lrlna\",\"lrwinx\",\"lsds\",\"lsjwzh\",\"lss5270\",\"luanfujun\",\"luangjokaj\",\"luanpotter\",\"lubuntu-dev\",\"lubusIN\",\"lucabecchetti\",\"lucaong\",\"lucasg\",\"lucasgruwez\",\"lucduong\",\"lucidsoftware\",\"luckybilly\",\"luckyframework\",\"ludios\",\"lufinkey\",\"luiguild\",\"luisvinicius167\",\"luk4z7\",\"lukakerr\",\"lukalabs\",\"lukaszflorczak\",\"lukecav\",\"lukechampine\",\"lukechilds\",\"lukeed\",\"lukehorvat\",\"lukejacksonn\",\"lukewestby\",\"lunaryorn\",\"luogu-dev\",\"luosijie\",\"luozhanming\",\"lupoDharkael\",\"luqinmao\",\"lurbas\",\"lusakasa\",\"lusaxweb\",\"luxas\",\"luyilin\",\"luyishisi\",\"lvarayut\",\"lvleihere\",\"lvs1974\",\"lyakaap\",\"lybenson\",\"lyft\",\"lynaghk\",\"lyonlai\",\"lytforgood\",\"lzjun567\",\"m-reda\",\"m0l1ce\",\"m2dsupsdlclass\",\"m4b\",\"m4ll0k\",\"mac-s-g\",\"machinebox\",\"machinomy\",\"maciejkula\",\"maciejtreder\",\"macku\",\"macmade\",\"madaoCN\",\"maddevsio\",\"maddiestone\",\"madskristensen\",\"maekawatoshiki\",\"mafintosh\",\"magefile\",\"maheshmurthy\",\"mahyarnajibi\",\"maicki\",\"maidishike\",\"maierfelix\",\"mailinneberg\",\"maintainers\",\"makaroni4\",\"makegirlsmoe\",\"makomori\",\"malcommac\",\"maldevel\",\"malikshubham827\",\"malisit\",\"malja\",\"malkouz\",\"malsapp\",\"maltsugar\",\"malwareinfosec\",\"mamboer\",\"mame82\",\"mandatoryprogrammer\",\"mandubian\",\"manfredsteyer\",\"mangoszero\",\"manifoldco\",\"manojpramesh\",\"manoloide\",\"manton\",\"manu354\",\"manuels\",\"manuelsc\",\"maomao1996\",\"maoruibin\",\"mapbox\",\"mapd\",\"mapillary\",\"mappmechanic\",\"marcan\",\"marcbelmont\",\"marcdacosta\",\"marcintreder\",\"marcobambini\",\"marcosfede\",\"marcosgriselli\",\"marcosscriven\",\"marcotcr\",\"marcusvolz\",\"mari-linhares\",\"marin-m\",\"mariodev12\",\"mariomka\",\"marionebl\",\"mariusandra\",\"mariusmotea\",\"mark-gerarts\",\"markclayton\",\"markdaws\",\"markdtw\",\"markerikson\",\"markhorgan\",\"markhuot\",\"markodelka\",\"markriedl\",\"marktext\",\"markuplint\",\"marmelab\",\"mars\",\"marsauto\",\"martellaj\",\"martijn00\",\"martin-danelljan\",\"martin-gorner\",\"martin90s\",\"martingallagher\",\"martinklepsch\",\"martinruenz\",\"martius-lab\",\"martoreto\",\"marty-suzuki\",\"marvis\",\"masonicGIT\",\"master-atul\",\"masternodes\",\"matcornic\",\"matecode\",\"matejkriz\",\"materialx\",\"mateusz-brainhub\",\"mateuszk87\",\"mathematical-tours\",\"mathieudutour\",\"mathisonian\",\"maticzav\",\"matoous\",\"matrix-org\",\"matrixxun\",\"matryer\",\"matryx\",\"matsune\",\"mattallty\",\"mattbrailsford\",\"mattdesl\",\"mattermost\",\"matterport\",\"mattfinnell\",\"mattgathu\",\"mattharrison\",\"matthew-sochor\",\"matthewconstantine\",\"matthewgonzalez\",\"matthewmueller\",\"matthiasnoback\",\"mattiasgustavsson\",\"mattifestation\",\"mattjj\",\"mattkol\",\"mattmacy\",\"mattmurray\",\"mattn\",\"mattrothenberg\",\"mattzeunert\",\"mauricius\",\"max2max\",\"maxbbraun\",\"maxchehab\",\"maxfong\",\"maximegris\",\"maximkulkin\",\"maxogden\",\"maxritter\",\"maxwellito\",\"maxwellkoh\",\"maxyou\",\"mayswind\",\"mayubao\",\"mayuki\",\"mazen160\",\"mbadry1\",\"mbasso\",\"mbbill\",\"mbeaudru\",\"mbeyeler\",\"mblondel\",\"mbrochh\",\"mburakerman\",\"mckinziebrandon\",\"mcollina\",\"mcuadros\",\"mdbootstrap\",\"mdibaiee\",\"mdn\",\"mdsecactivebreach\",\"mdsecresearch\",\"mdx-js\",\"medbenali\",\"mediaelement\",\"medyo\",\"medz\",\"meereeum\",\"meetalva\",\"meetfranz\",\"meetmore\",\"meetshah1995\",\"mehdidc\",\"mehrdadn\",\"mehulj94\",\"meibin08\",\"meijieru\",\"meili\",\"meitar\",\"meliot\",\"mellinoe\",\"melonproject\",\"memo\",\"memoiry\",\"mengxianliang\",\"meodai\",\"meowtec\",\"meqaio\",\"meqio\",\"merantix\",\"mercari\",\"merchedhq\",\"mercyblitz\",\"merlinschumacher\",\"mermaidjs\",\"merrychap\",\"merrymercy\",\"mesalock-linux\",\"mescroll\",\"metabase\",\"metachris\",\"metalbubble\",\"metaparticle-io\",\"meth-meth-method\",\"metowolf\",\"metrue\",\"mewo2\",\"mezod\",\"mfigurnov\",\"mfitzp\",\"mfix22\",\"mfosse\",\"mfrachet\",\"mgattozzi\",\"mgbq\",\"mgechev\",\"mhagiwara\",\"mhammond\",\"mharizanov\",\"mhausenblas\",\"mhelwig\",\"mherrmann\",\"mhink\",\"mholt\",\"miaoyongjun\",\"michael-rapp\",\"michaelampr\",\"michaelkiros\",\"michaelwayman\",\"michal-z\",\"michalfaber\",\"michalmuskala\",\"michalsnik\",\"michalyao\",\"michelelacorte\",\"michelpereira\",\"micku7zu\",\"micle-fm\",\"micro\",\"micro-analytics\",\"microlinkhq\",\"micrometer-metrics\",\"microo8\",\"microzz\",\"midwayjs\",\"miedzinski\",\"migueldeicaza\",\"miguelgrinberg\",\"mikalv\",\"mikeal\",\"mikeerickson\",\"mikemintang\",\"mikepound\",\"mikesart\",\"mikker\",\"mikkokotila\",\"mil-tokyo\",\"milLearningGroup\",\"mila-udem\",\"milaptank\",\"milesrichardson\",\"milgra\",\"miliPolo\",\"miloyip\",\"milroyfraser\",\"mind\",\"mindedsecurity\",\"mineral-ui\",\"minexew\",\"ming1016\",\"mingrammer\",\"mingyuliutw\",\"minibugdev\",\"miniers\",\"miniflux\",\"minimaxir\",\"minio\",\"minipli\",\"minodes\",\"minsangkim142\",\"miranthajayatilake\",\"mirceamironenco\",\"mirego\",\"mirko\",\"mirrajabi\",\"mirrorjs\",\"miscreant\",\"mishudark\",\"misterch0c\",\"mit-dci\",\"mitchellh\",\"mitchhymel\",\"mitchtabian\",\"mithi\",\"miti0\",\"mitnk\",\"mitre\",\"mitsuhiko\",\"mitul45\",\"miukimiu\",\"mixuala\",\"miyuchina\",\"mjavascript\",\"mjg59\",\"mjohnsullivan\",\"mjswensen\",\"mkchoi212\",\"mkearney\",\"mkfreeman\",\"mkiser\",\"mkulesh\",\"ml5js\",\"mlabouardy\",\"mli\",\"mlouielu\",\"mlreview\",\"mludowise\",\"mm-mansour\",\"mmacneil\",\"mmazzarolo\",\"mmcloughlin\",\"mmistakes\",\"mmmwhy\",\"mmoaay\",\"mmozeiko\",\"mnapoli\",\"mnielsen\",\"mniip\",\"mobingi\",\"moby\",\"mobz\",\"mochixuan\",\"modern-go\",\"modestyachts\",\"modulz\",\"mohak1712\",\"mohd-isa\",\"mohebifar\",\"mojoaxel\",\"mojocn\",\"mokemokechicken\",\"moleculerjs\",\"moneyDboat\",\"mongodb\",\"monicahq\",\"monirz\",\"monkeyWangs\",\"monkeyWie\",\"monkeywiiu\",\"mono\",\"mono0926\",\"monoxgas\",\"monsta-hd\",\"moove-it\",\"moovel\",\"mooz\",\"mor10\",\"morajabi\",\"morishitter\",\"moroshko\",\"mortie\",\"mosesoak\",\"moskomule\",\"moszinet\",\"motcwang\",\"moul\",\"mourner\",\"movio\",\"mozilla\",\"mozilla-iot\",\"mozilla-neutrino\",\"mpangburn\",\"mplewis\",\"mpvue\",\"mqyqingfeng\",\"mrakgr\",\"mratsim\",\"mrbigmouth\",\"mre\",\"mrharicot\",\"mricon\",\"mrkgnao\",\"mrmartineau\",\"mrmekon\",\"mrmrs\",\"mrsegev\",\"mrshawnho\",\"mrsimonfletcher\",\"mrvautin\",\"msesma\",\"msqrt\",\"msracver\",\"mssun\",\"msys2\",\"mthbernardes\",\"mthli\",\"mtojek\",\"mtsmfm\",\"mubix\",\"muellan\",\"muicss\",\"mujx\",\"mullerhai\",\"mumuy\",\"mun3\",\"munificent\",\"munki\",\"music4kid\",\"muzuiget\",\"mvdan\",\"mvirgo\",\"mvpzx\",\"mwajeeh\",\"mweststrate\",\"mwrlabs\",\"mxbi\",\"mxstbr\",\"mybatis-book\",\"mycoralhealth\",\"myheritage\",\"myinnos\",\"myliang\",\"myopenresources\",\"mythkiven\",\"myxingke\",\"myxvisual\",\"mzgoddard\",\"mzomparelli\",\"mzp\",\"n1try\",\"n26\",\"n4kz\",\"naco-siren\",\"nadoo\",\"nadrane\",\"nahamsec\",\"nakating\",\"nakiostudio\",\"nakosung\",\"naltun\",\"nanchen2251\",\"nanohop\",\"nanoninja\",\"nanqinlang\",\"nanqinlang-tcp\",\"narendrashetty\",\"nareshbhatia\",\"narimiran\",\"narrowfail\",\"nashamri\",\"nashaofu\",\"nashcontrol\",\"nashory\",\"natanielruiz\",\"natario1\",\"nate-parrott\",\"nategri\",\"natemcmaster\",\"nathan-osman\",\"nathanlopez\",\"nathanpeck\",\"nathanreyes\",\"nations\",\"nativescript-vue\",\"natjs\",\"naturomics\",\"naver\",\"nayafia\",\"nbp\",\"ncase\",\"nccgroup\",\"ncullen93\",\"ndabAP\",\"ndelvalle\",\"ndmitchell\",\"nea\",\"neal1991\",\"nearform\",\"neargle\",\"nebulasio\",\"nebulet\",\"neculaesei\",\"ned0flanders\",\"neithernut\",\"nekocode\",\"nelson-liu\",\"nem0\",\"nem035\",\"nemanja-m\",\"nemanjavlahovic\",\"nemild\",\"nemosminer\",\"nenadg\",\"neo4j-contrib\",\"neo4j-graphql\",\"neptune-ml\",\"nerdycat\",\"nesaulov\",\"nesbox\",\"nestjs\",\"netguru\",\"netromdk\",\"netshoes\",\"networked-aframe\",\"networknt\",\"networkprotocol\",\"netxfly\",\"netyouli\",\"neuecc\",\"neugram\",\"neuland\",\"newsboat\",\"nex3z\",\"next-browser\",\"nextcloud\",\"nezza\",\"nfrechette\",\"ng-seed\",\"ng-select\",\"nghialv\",\"nginx\",\"ngrx\",\"ngtcp2\",\"ngxs\",\"nh0007\",\"nh2\",\"nicehash\",\"nicejade\",\"nicinabox\",\"nickbutcher\",\"nickcolley\",\"nicklockwood\",\"nickypatson\",\"nickzuber\",\"nicolaerusan\",\"nicolasdelfino\",\"nieheyong\",\"nieroda\",\"nigayo\",\"nightrome\",\"nightsense\",\"nihgwu\",\"nii236\",\"nik01010\",\"nikgraf\",\"nikita36078\",\"niksmr\",\"nilboy\",\"niloofarkheirkhah\",\"nimiq-network\",\"ningskyer\",\"ninijay\",\"ninja33\",\"ninjaprawn\",\"ninjaprox\",\"nioperas06\",\"niorgai\",\"nirsky\",\"nishnik\",\"nitin42\",\"nitish24p\",\"nitsnets\",\"niw\",\"nixzhu\",\"nize1989\",\"njhartwell\",\"nkkollaw\",\"nkolban\",\"nmaro\",\"nmdias\",\"nmikhailov\",\"nnamon\",\"nneonneo\",\"nnngu\",\"nntuyen\",\"no-stack-dub-sack\",\"noborus\",\"node-on-mobile\",\"node-pinus\",\"nodefluent\",\"nodeful\",\"nodejs\",\"nodejscn\",\"nodejsjp\",\"nodemailer\",\"nomeata\",\"nomemory\",\"nondanee\",\"noneymous\",\"nopara73\",\"nopernik\",\"normandipalo\",\"northwesternmutual\",\"norvig\",\"not-yet-awesome-rust\",\"notadd\",\"noties\",\"notohiro\",\"notrab\",\"nottombrown\",\"notwaldorf\",\"nowandfurure\",\"nozzle\",\"nrandecker\",\"nrc\",\"nrkbeta\",\"ns2250225\",\"nshalabi\",\"nstack\",\"nswbmw\",\"nteract\",\"ntrippar\",\"nuclearcat\",\"nucleartide\",\"nuclio\",\"nudibranchrecords\",\"nukc\",\"nuke-build\",\"nullobject\",\"numerai\",\"nunomaduro\",\"nuriel77\",\"nurkiewicz\",\"nurupo\",\"nushackers\",\"nutzam\",\"nuxt\",\"nuxt-community\",\"nvbn\",\"nvdla\",\"nvlad\",\"nvpro-pipeline\",\"nwojke\",\"nyaadevs\",\"nyavramov\",\"nylas-mail-lives\",\"nystudio107\",\"nyxgeek\",\"nzambello\",\"nzoschke\",\"o1-labs\",\"o1egl\",\"o1lab\",\"o2team\",\"oakes\",\"oakmound\",\"oaksong\",\"oarriaga\",\"objcio\",\"objectbox\",\"objective-see\",\"oblador\",\"observablehq\",\"ocaml-ppx\",\"ocharles\",\"oci-pronghorn\",\"oclif\",\"octref\",\"oddcod3\",\"odensc\",\"odranoelBR\",\"oeway\",\"ofek\",\"offensive-security\",\"oguzhaninan\",\"oh-bear\",\"ohanhi\",\"ojasookert\",\"ojkelly\",\"okaychen\",\"okbob\",\"okcoin-okex\",\"okgrow\",\"okhanokbay\",\"oklog\",\"olacabs\",\"olafhartong\",\"olahallengren\",\"olddonkey\",\"ole\",\"olefirenko\",\"oleg-agapov\",\"olegberman\",\"oleghnidets\",\"oleksiyp\",\"oliviaguest\",\"ollef\",\"olliecoleman\",\"ollyxar\",\"olmallet81\",\"olstenlarck\",\"olucurious\",\"ome450901\",\"omergulcicek\",\"omergunal\",\"omersiar\",\"omidh28\",\"omikun\",\"omisego\",\"oncode\",\"ondrejbudai\",\"oneclick\",\"onejgordon\",\"onekeyshell\",\"onevcat\",\"onezens\",\"online-go\",\"onlurking\",\"onmyway133\",\"onnx\",\"onqtam\",\"onthecodepath\",\"ontio\",\"ooade\",\"oodesign\",\"oooldking\",\"oott123\",\"open-android\",\"open-bot\",\"open-korean-text\",\"open-source-flash\",\"openai\",\"openatx\",\"openblockchains\",\"opencode18\",\"openfaas\",\"openfresh\",\"openmessaging\",\"openshift-evangelists\",\"openstack\",\"openstyles\",\"opentracing-contrib\",\"openzfsonwindows\",\"operatorequals\",\"opieters\",\"opooc\",\"opsnull\",\"opsxcq\",\"oracle\",\"orcproject\",\"orgzly\",\"origingroup\",\"orium\",\"orizens\",\"orkunkaraduman\",\"orobix\",\"orppra\",\"orsinium\",\"ortuman\",\"orucanil\",\"oscarmlage\",\"ossfriendly\",\"ostrolucky\",\"otakustay\",\"otale\",\"otem\",\"otobus\",\"oubowu\",\"oukingtim\",\"oun111\",\"ouqiang\",\"out0fmemory\",\"ouzhrm\",\"ovenslove\",\"overdodactyl\",\"overshard\",\"overtake\",\"overtrue\",\"owenliang\",\"oxequa\",\"oxford-cs-deepnlp-2017\",\"oyxhust\",\"ozkriff\",\"p-e-w\",\"p3nt4\",\"p410n3\",\"pFarb\",\"pRoy24\",\"pa-bru\",\"pabloariasal\",\"pablohpsilva\",\"paboldin\",\"pacxx\",\"paf31\",\"pagarme\",\"pagehelper\",\"palantir\",\"paliari\",\"palkan\",\"panacena\",\"pandaGao\",\"panghaijiao\",\"panxl6\",\"paphonb\",\"paraboul\",\"paragonie\",\"paralax\",\"paramsen\",\"parasdahal\",\"parcel-bundler\",\"pardeike\",\"paritytech\",\"parkerdan\",\"parkingwang\",\"parrt\",\"pascalbaljetmedia\",\"pascalw\",\"pastapojken\",\"pastelsky\",\"pat-coady\",\"pathak22\",\"patrickdavey\",\"patrickjquinn\",\"patrickmichalina\",\"patrickyin\",\"patrikeh\",\"patrikx3\",\"patrys\",\"paularmstrong\",\"paulcollett\",\"paulgb\",\"paulgclark\",\"paulhodel\",\"paulirish\",\"pauljamescleary\",\"paulogr\",\"pauloromeira\",\"paulrouget\",\"pavanjadhaw\",\"pavelkuligin\",\"pavopax\",\"pawelgrzybek\",\"pawelsalawa\",\"payatu\",\"paypal\",\"pbiecek\",\"pcdack\",\"pch\",\"pchmn\",\"pcwalton\",\"pd4d10\",\"pedroSG94\",\"pedrocr\",\"pedronauck\",\"pedrozath\",\"peekler\",\"peewpw\",\"peggyrayzis\",\"peikexin9\",\"pelotom\",\"pender\",\"peng8350\",\"pengwei1024\",\"pengyuantao\",\"penincillin\",\"pentester-io\",\"peperunas\",\"pepibumur\",\"perrysmotors\",\"pervognsen\",\"perwendel\",\"peteanderson80\",\"peterbourgon\",\"peterjc123\",\"peterpt\",\"peterwilli\",\"petewarden\",\"petriw\",\"petterheterjag\",\"pfalcon\",\"pfnet\",\"pfnet-research\",\"pgjones\",\"pgorzelany\",\"phanan\",\"philchia\",\"phildini\",\"philferriere\",\"philipperemy\",\"philipphecht\",\"philipwalton\",\"phillfarrugia\",\"philnash\",\"phishai\",\"phiste\",\"phodal\",\"phoenix104104\",\"photofallapp\",\"photonstorm\",\"photopea\",\"php-censor\",\"phpstan\",\"phw198\",\"phynet\",\"pia-foss\",\"pichillilorenzo\",\"picturepan2\",\"pierluigiferrari\",\"pierricgimmig\",\"pigfly\",\"pigigaldi\",\"pigworker\",\"pikachu987\",\"pikacode\",\"pinecreativelabs\",\"ping\",\"pingcap\",\"pinguo\",\"pinguo-zhouwei\",\"pingyhq\",\"pinterest\",\"piotrmurach\",\"piotrwitek\",\"pippy360\",\"pirapira\",\"pirate\",\"pissang\",\"pixelspark\",\"pixielabs\",\"pixlpa\",\"pkamenarsky\",\"pkmital\",\"pkozul\",\"pkuvcl\",\"plaitpy\",\"plangrid\",\"planttheidea\",\"plasticityai\",\"plataformatec\",\"playwithblockchain\",\"plokhotnyuk\",\"pluosi\",\"pmaji\",\"po10cio\",\"poanetwork\",\"poetries\",\"pointfreeco\",\"pojala\",\"polyak01\",\"polygamma\",\"poppinss\",\"pornin\",\"portsmouth\",\"posener\",\"posenhuang\",\"postlight\",\"postmarketOS\",\"posva\",\"potato4d\",\"poteto\",\"pouyadarabi\",\"povils\",\"ppaanngggg\",\"pplux\",\"pqina\",\"pqpo\",\"prabirshrestha\",\"praeclarum\",\"pragmagic\",\"pranaygp\",\"prasathmani\",\"prateekbh\",\"prathik\",\"pratik-123\",\"praveenweb\",\"prayasht\",\"prescottprue\",\"presstube\",\"prettier\",\"pridiltal\",\"primitiv\",\"prkumar\",\"proYang\",\"probot\",\"probtorch\",\"progrmoiz\",\"projectacrn\",\"projectatomic\",\"projectchicago\",\"projectriff\",\"prolic\",\"promosis\",\"propellant\",\"propelml\",\"propensive\",\"propervillain\",\"propublica\",\"prouast\",\"prscX\",\"pschlan\",\"pshah123\",\"pshihn\",\"psi-4ward\",\"pszklarska\",\"ptabriz\",\"ptelad\",\"pthtc\",\"ptrblck\",\"ptresearch\",\"pubkey\",\"pudongqi\",\"puikinsh\",\"pulp-platform\",\"pulsardev\",\"puppetlabs\",\"purplebamboo\",\"pusher\",\"pvdlg\",\"pwalsh\",\"pwntester\",\"px3303\",\"pyaesone17\",\"pybites\",\"pyecharts\",\"pygame\",\"pyk\",\"pylablanche\",\"pypa\",\"pyrogram\",\"python\",\"python-mechanize\",\"python-trio\",\"pytorch\",\"pzhaonet\",\"qazbnm456\",\"qb0C80aE\",\"qbeon\",\"qbittorrent\",\"qcer\",\"qdxxxx\",\"qfdk\",\"qhutch\",\"qicosmos\",\"qinci\",\"qiniu\",\"qintong91\",\"qiu8310\",\"qiubaiying\",\"qiuxiang\",\"qkxyjren\",\"qlik-oss\",\"qmk\",\"qoli\",\"qor\",\"qq542391099\",\"qstumn\",\"qtumproject\",\"quangctkm9207\",\"quanke\",\"quantumlib\",\"quarkslab\",\"quasarframework\",\"qubole\",\"queckezz\",\"quentinhardy\",\"quickbirdstudios\",\"quicktype\",\"quiet\",\"quii\",\"quiltdata\",\"qwerty472123\",\"r-a-w\",\"r-lib\",\"r-lyeh\",\"r-spacex\",\"r-spatial\",\"r00t-3xp10it\",\"r0oth3x49\",\"r0zetta\",\"r24y\",\"r26zhao\",\"r9y9\",\"rShetty\",\"ra1028\",\"rachelandrew\",\"radareorg\",\"radi-js\",\"radianttap\",\"radical-dreamers\",\"radiegtya\",\"rafaelmotta\",\"raff\",\"rage8885\",\"rageudream\",\"raghur\",\"ragingwind\",\"ragulpr\",\"rails\",\"rails-engine\",\"rainglow\",\"rainx\",\"raja\",\"rajeshmajumdar\",\"rak8s\",\"rakshakhegde\",\"raksly\",\"rakyll\",\"rameshvarun\",\"ramon82\",\"ramonsaraiva\",\"ramsaylanier\",\"ranaroussi\",\"rancher\",\"randaller\",\"randomvariable\",\"randy3k\",\"randyrants\",\"ranesr\",\"rangle\",\"rani-i\",\"raphael-ernaelsten\",\"raphaelsc\",\"raphamorim\",\"rapid7\",\"rapidjs\",\"rapidloop\",\"raptorjit\",\"rasbt\",\"rasmusbarr\",\"rasta-mouse\",\"rastapasta\",\"raulriera\",\"ravibpatel\",\"raviqqe\",\"rawrmaan\",\"rawrtc\",\"raxod502\",\"raymestalez\",\"raynesio\",\"rayonCheng\",\"rbro112\",\"rcaferati\",\"rcasero\",\"rcmaehl\",\"rcmalli\",\"rdkmaster\",\"react-brasil\",\"react-community\",\"react-everywhere\",\"react-mdc\",\"react-native-ar\",\"react-native-community\",\"react-native-kit\",\"react-native-training\",\"react-navigation\",\"react-tools\",\"react-translate-team\",\"reactide\",\"reactions\",\"reactjs\",\"reactkr\",\"reactopt\",\"reactos\",\"reactql\",\"realdennis\",\"realityenhanced\",\"realm\",\"ream\",\"reasonml\",\"reasonml-community\",\"reborg\",\"rectorphp\",\"redacademy\",\"redblobgames\",\"redcanaryco\",\"reddit\",\"redhat-developer-demos\",\"redhuntlabs\",\"redox-os\",\"reduction-admin\",\"redux-offline\",\"refscn\",\"reg-viz\",\"regexident\",\"reiinakano\",\"reinforceio\",\"reinink\",\"reinterpretcat\",\"relativty\",\"releasy\",\"relentless-warrior\",\"rematch\",\"remember17\",\"rememberber\",\"remigiusz-suwalski\",\"remirobert\",\"remkop\",\"renatoathaydes\",\"renatomarinho\",\"renatorib\",\"renjianan\",\"renjie1996\",\"renjinkui2719\",\"renmengye\",\"rep-movsd\",\"repi\",\"requests\",\"resamplr\",\"reshamas\",\"resilar\",\"resonance-audio\",\"reswitched\",\"retroryan\",\"revely-inc\",\"reversebias\",\"revsys\",\"rexdex\",\"reyronald\",\"rezaali\",\"rfidtool\",\"rgbkrk\",\"rgburke\",\"rgommezz\",\"rgov\",\"rguthrie3\",\"rhysd\",\"ribice\",\"ricequant\",\"richox\",\"richtabor\",\"richzhang\",\"rickyhan\",\"ridhwaans\",\"rigetticomputing\",\"riggaroo\",\"rikschennink\",\"riktar\",\"rimorsoft\",\"ring04h\",\"rinov\",\"riolet\",\"riophae\",\"rishabh-bansal\",\"rishabhbhatia\",\"rishizek\",\"rit-public\",\"ritchieng\",\"riteshhgupta\",\"rithvikvibhu\",\"ritwickdey\",\"rivermont\",\"riverrun\",\"rivo\",\"rjsvieira\",\"rk700\",\"rkcosmos\",\"rlcode\",\"rlee0525\",\"rlguy\",\"rlindskog\",\"roamanalytics\",\"roatienza\",\"robbiebarrat\",\"robcowart\",\"robdmc\",\"robert-stuttaford\",\"robertfoss\",\"robertgonzales\",\"roberthein\",\"robertlevonyan\",\"robertsimoes\",\"robi56\",\"robinhowlett\",\"robinmanuelthiel\",\"robinmoisson\",\"robinmonjo\",\"robinpowered\",\"robisim74\",\"roblaszczak\",\"roboryantron\",\"robotattackorg\",\"roboticcam\",\"robotlolita\",\"robwormald\",\"roccomuso\",\"rochacbruno\",\"rocket-pool\",\"rockita\",\"rockyzhengwu\",\"rodrigogs\",\"roecrew\",\"roelandjansen\",\"rofrischmann\",\"roglew\",\"rohan20\",\"rohitgirdhar\",\"rokups\",\"rollup\",\"rolyatmax\",\"rom4ek\",\"romainguy\",\"roman01la\",\"romandanylyk\",\"romannurik\",\"romansorochak\",\"ronal2do\",\"ronanrodrigo\",\"ronghanghu\",\"ronsavage\",\"rook\",\"rookLab\",\"rootclay\",\"rootkiwi\",\"rootsongjc\",\"ropensci\",\"ropenscilabs\",\"rossumai\",\"rougeth\",\"roxma\",\"roytornado\",\"rportugal\",\"rrdelaney\",\"rroylance\",\"rrrfff\",\"rs\",\"rsc\",\"rse\",\"rshaghoulian\",\"rsksmart\",\"rsms\",\"rspeele\",\"rsrbk\",\"rstudio\",\"rtCamp\",\"rtavenar\",\"rtfeldman\",\"rtivital\",\"rubensousa\",\"ruby-formatter\",\"rubytoolbox\",\"ruiminshen\",\"ruiqimao\",\"rulebook-rules\",\"rumlang\",\"runatlantis\",\"runconduit\",\"ruotianluo\",\"rushisangani\",\"russelarms\",\"russellgoldenberg\",\"rust-bitcoin\",\"rust-fuzz\",\"rust-lang-nursery\",\"rustindia\",\"ruzhan123\",\"rweber7912\",\"rwieruch\",\"rwu823\",\"rxwx\",\"ryanburgess\",\"ryanflorence\",\"ryanlijianchang\",\"rycee\",\"rykov\",\"rytilahti\",\"ryu577\",\"s-gv\",\"s-heisler\",\"s-macke\",\"s0lst1c3\",\"s57445560\",\"sa7mon\",\"saadq\",\"saantiaguilera\",\"saaramar\",\"saarraz\",\"sacmehta\",\"sadeepj\",\"safetysystemtechnology\",\"saft-project\",\"sagishahar\",\"sahilm\",\"saintedlama\",\"saintplay\",\"sakaki-\",\"sakurity\",\"saleel\",\"saleemrashid\",\"salesforce\",\"salls\",\"salomonelli\",\"salvadordf\",\"sam-b\",\"sambaiz\",\"samccone\",\"samdenty99\",\"samdroid-apps\",\"samhocevar\",\"samkhawse\",\"samoshkin\",\"samtap\",\"samuelcolvin\",\"san-kumar\",\"sangaline\",\"sangcomz\",\"sanity-io\",\"santi-pdp\",\"santomegonzalo\",\"sanyam5\",\"saoudrizwan\",\"sapegin\",\"sarahdayan\",\"saranyan\",\"sararob\",\"sartaj\",\"saschagrunert\",\"saschajullmann\",\"saschpe\",\"sashs\",\"satorufujiwara\",\"satoshiiizuka\",\"satoshin21\",\"satya164\",\"saulmm\",\"saurabhmathur96\",\"sausheong\",\"savan77\",\"saysky\",\"sbaresearch\",\"sc0tfree\",\"scaelles\",\"scalacenter\",\"scalalang2\",\"scalameta\",\"scana\",\"schibir\",\"schibsted\",\"schn4ck\",\"schnerd\",\"schollz\",\"schteppe\",\"schukin\",\"scienceetonnante\",\"scihant\",\"scikit-learn-contrib\",\"scipag\",\"scniro\",\"scofield7419\",\"scopsy\",\"scotchfield\",\"scottcgi\",\"scoutapp\",\"scwang90\",\"scylladb\",\"sdaschner\",\"sdgluck\",\"sdispater\",\"sdmg15\",\"sdras\",\"sdrausty\",\"sdsmdg\",\"sdwolfe32\",\"seagreen\",\"sean-perkins\",\"seanjameshan\",\"seasonstar\",\"seathiefwang\",\"sebashwa\",\"sebastiaanluca\",\"sebastianbergmann\",\"sebastianharko\",\"sebastianheinz\",\"sebastiencs\",\"secrary\",\"secretsquirrel\",\"securas\",\"securingsam\",\"securisec\",\"securityclippy\",\"securitywithoutborders\",\"seeingtheory\",\"seek-oss\",\"seekerliu\",\"seeleteam\",\"seemoo-lab\",\"seenaburns\",\"segmentio\",\"seiflotfy\",\"seiginonakama\",\"selfrefactor\",\"sellmair\",\"semaaJ\",\"sembozdemir\",\"semlinker\",\"senlinuc\",\"sense-of-security\",\"sensepost\",\"sergdort\",\"serge-sans-paille\",\"sergey-pronin\",\"sergeyklay\",\"sergeytulyakov\",\"sergiandreplace\",\"sergiiz\",\"sergiodxa\",\"serhii-londar\",\"serverless\",\"service-bot\",\"sessionCh\",\"sessionboy\",\"setchi\",\"sevagas\",\"sevenshal\",\"sfzhang15\",\"sgayou\",\"sghall\",\"sgreben\",\"shadow-1\",\"shadowfaxtech\",\"shadowhand\",\"shadowsocks\",\"shadowsocksr-backup\",\"shahariarrabby\",\"shakee93\",\"shamadee\",\"shankariyerr\",\"shanren7\",\"shanselman\",\"shaoanlu\",\"shaohua0116\",\"shaohuihu\",\"shardingjdbc\",\"sharewire\",\"sharkdp\",\"shaunlebron\",\"shawnwun\",\"shaypal5\",\"shazam\",\"shbow\",\"sheerun\",\"shekhargulati\",\"shekkizh\",\"shelleylowe\",\"shellljx\",\"shellster\",\"shen100\",\"shenliyang\",\"shentao\",\"shenwei356\",\"shenweichen\",\"shepherdwind\",\"sheredom\",\"shershen08\",\"shiburagi\",\"shicai\",\"shichaohui\",\"shieldfy\",\"shiffman\",\"shima11\",\"shime\",\"shin8484\",\"shinima\",\"shinseung428\",\"shinyscorpion\",\"shioyama\",\"shivasiddharth\",\"shivasurya\",\"shivylp\",\"shixzie\",\"shiyafeng\",\"shiyanhui\",\"shiyybua\",\"shmilylbelva\",\"shoheiyokoyama\",\"shomali11\",\"shooterRao\",\"shopnilsazal\",\"shoutem\",\"shovanch\",\"shprink\",\"shrikanth7698\",\"shts\",\"shu223\",\"shubhnik\",\"shuhart\",\"shuhei\",\"shuiRong\",\"shuihuadx\",\"shunFSKi\",\"shunfei\",\"shurcooL\",\"shystruk\",\"siboehm\",\"sibtc\",\"sid88in\",\"siddharthkp\",\"sidoh\",\"sigtm\",\"simecek\",\"simon-v\",\"simon987\",\"simonbs\",\"simonepri\",\"simonw\",\"simpleapples\",\"simplezhli\",\"simurai\",\"sina-al\",\"sindresorhus\",\"sinedied\",\"singe\",\"singlasahil14\",\"sirredbeard\",\"sit-it\",\"sitetent\",\"siwalikm\",\"six-ddc\",\"sjchoi86\",\"sjkaliski\",\"sjsyrek\",\"sjvasquez\",\"skalavala\",\"skanmera\",\"skarupke\",\"skcript\",\"skeeto\",\"skiselkov\",\"sklivvz\",\"skx926\",\"skyFi\",\"skydoves\",\"skygear-demo\",\"skysider\",\"skyvow\",\"skyweb07\",\"skywind3000\",\"slashiee\",\"slince\",\"slorber\",\"smakosh\",\"smallhadroncollider\",\"smallwins\",\"smartcontractkit\",\"smartdone\",\"smartloli\",\"smdls\",\"smeso\",\"smkplus\",\"smooth-code\",\"smpio\",\"smrtyvz\",\"snail-z\",\"snail007\",\"snakeztc\",\"snaptoken\",\"sniklaus\",\"snipcart\",\"snipsco\",\"snooze6\",\"snyderp\",\"sobolevn\",\"sobri909\",\"social-manager-tools\",\"socketry\",\"sodium-friends\",\"soeaver\",\"soffes\",\"softprops\",\"softvar\",\"softwaremill\",\"softwareunderground\",\"solarrust\",\"solkimicreb\",\"solo-io\",\"solobat\",\"solodynamo\",\"solrex\",\"sonarwhal\",\"sonaye\",\"songhanghang\",\"songixan\",\"songjiayang\",\"songkuixi\",\"songtianyi\",\"songxiaoliang\",\"songzhixiang\",\"sonicether\",\"sonm-io\",\"sonnylazuardi\",\"sony\",\"soobinseo\",\"soskek\",\"sosout\",\"sourcerer-io\",\"soutaro\",\"souvik1997\",\"souyunku\",\"soveran\",\"sozu-proxy\",\"spacehuhn\",\"spacejam\",\"spacekookie\",\"sparkfunX\",\"sparrow007\",\"spatie\",\"spawpaw\",\"spearow\",\"spectresystems\",\"speed47\",\"speedracer\",\"spencerdodd\",\"spicyShrimp\",\"spiegelp\",\"spieglt\",\"spiral\",\"spite\",\"splitinfinities\",\"spolu\",\"spotahome\",\"spotify\",\"spring-petclinic\",\"spritejs\",\"spro\",\"spymastermatt\",\"sqlcollaborative\",\"sqlkata\",\"square\",\"src-d\",\"srcecde\",\"srigalibe\",\"srijs\",\"sroze\",\"srtucker22\",\"sruda\",\"ssola\",\"ssooking\",\"ssrbackup\",\"stackblitz\",\"stackhou\",\"stackimpact\",\"stackjie\",\"stacygohyunsi\",\"stalniy\",\"staltz\",\"stamparm\",\"standard-things\",\"standardnotes\",\"standupmaths\",\"stanford-futuredata\",\"stanfordnlp\",\"stangri\",\"stanislaw\",\"stardothosting\",\"stardustjs\",\"stared\",\"starekrow\",\"stark-contrast\",\"starkwang\",\"stas-semeniuta\",\"stasm\",\"stasson\",\"status-im\",\"ste-vg\",\"steadicat\",\"stedolan\",\"steelkiwi\",\"steeply\",\"stefanzweifel\",\"steffendx\",\"steinbergmedia\",\"stella3d\",\"stellarchat\",\"stephencookdev\",\"steponteam\",\"stepstone-tech\",\"stereobooster\",\"steveKapturowski\",\"stevegrunwell\",\"steven-michaud\",\"stevengj\",\"stevenroose\",\"stfalcon-studio\",\"sthalles\",\"stil4m\",\"stkent\",\"stkevintan\",\"stockmind\",\"stojanovic\",\"stom79\",\"stoneWeb\",\"stormraiser\",\"stormstone\",\"stormzhang\",\"storybooks\",\"strangeparts\",\"stratiformltd\",\"stratospark\",\"stream-labs\",\"streamich\",\"stripe\",\"strizhechenko\",\"strongloop\",\"strongself\",\"strudeljs\",\"studioml\",\"studygolang\",\"stuffrabbit\",\"stulzq\",\"stupotmcdoodlepip\",\"styled-components\",\"stylefeng\",\"suaefar\",\"suarasaur\",\"substack\",\"subzerocloud\",\"sudotoons\",\"sugarac\",\"suissa\",\"sujithkanna\",\"sujitpal\",\"sukeesh\",\"summerblue\",\"sumnow\",\"sun8911879\",\"sunainapai\",\"sunday1990\",\"sundy-li\",\"sunesimonsen\",\"sunhapper\",\"sunjay\",\"sunkuo\",\"sunnyelf\",\"sunnyxibei\",\"sunshineatnoon\",\"sunysen\",\"superman66\",\"superwf\",\"supyrb\",\"suragnair\",\"surebot\",\"sureskumar\",\"surmon-china\",\"susam\",\"susanli2016\",\"susiai\",\"susielu\",\"suweiteng\",\"svbl\",\"sveltejs\",\"sw-yx\",\"swapagarwal\",\"swarmpit\",\"swaywm\",\"swift-server\",\"swiftdemand\",\"swimlane\",\"switchbrew\",\"swlkr\",\"swnb\",\"swoft-cloud\",\"swoole\",\"sx1989827\",\"sxei\",\"sxjscience\",\"syanbo\",\"syhsyh9696\",\"syjdev\",\"sylefeb\",\"symfony\",\"symisc\",\"symphonyoss\",\"synacor\",\"synhack\",\"systemd\",\"szagoruyko\",\"szokodiakos\",\"szq0214\",\"szzhiyang\",\"t-hong\",\"ta4j\",\"tabixio\",\"tabler\",\"tadejmagajna\",\"tadfisher\",\"taehoonlee\",\"taggon\",\"tagomoris\",\"tahnik\",\"tailwindcss\",\"taipan-scanner\",\"takahirom\",\"takecian\",\"takeoff-env\",\"taki0112\",\"talkpython\",\"talolard\",\"talyssonoc\",\"tamamu\",\"tameemsafi\",\"tamiat\",\"tamim\",\"tandasat\",\"tangbc\",\"tangdiforx\",\"tangrela\",\"tangzhenyu\",\"taniman\",\"tanling8334\",\"tanrenjie\",\"taobataoma\",\"taokong\",\"taravancil\",\"tarek360\",\"targetcloud\",\"tartanguru\",\"tarunon\",\"tastejs\",\"tastphp\",\"tatsuyah\",\"tattn\",\"taurusai\",\"taverntesting\",\"taviso\",\"tawnkramer\",\"taylorham\",\"tbfleming\",\"tbrand\",\"tbroadley\",\"tc39\",\"tcodina\",\"tdietert\",\"tdlib\",\"tdpetrou\",\"tdscientist\",\"teacheraio\",\"team-supercharge\",\"teambit\",\"teamsudocode\",\"technology-ebay-de\",\"technopagan\",\"techstar-cloud\",\"tedconf\",\"teejee2008\",\"teesloane\",\"teh-cmc\",\"teivah\",\"tengj\",\"tensor-yu\",\"tensorboy\",\"tensorfire\",\"tensorflow\",\"tensorlang\",\"tensorlayer\",\"tenta-browser\",\"terezka\",\"terkelg\",\"ternaus\",\"terraform-providers\",\"terrillo\",\"testerSunshine\",\"tevelee\",\"textileio\",\"tf-coreml\",\"tfeldmann\",\"tg12\",\"tgomilar\",\"tgxhx\",\"thanhtungdp\",\"tharina\",\"the-Infected-Drake\",\"the-deep-learners\",\"the-little-typer\",\"the-road-to-learn-react\",\"theKashey\",\"thePsguy\",\"theam\",\"theankurkedia\",\"thecb4\",\"thecreazy\",\"thedaviddias\",\"thedevs-network\",\"thedevsaddam\",\"thedmd\",\"theflofly\",\"thegamenicorus\",\"theia-ide\",\"theislab\",\"thekirankumar\",\"theloopkr\",\"theme-next\",\"themsaid\",\"thenativeweb\",\"thenickdude\",\"theori-io\",\"therealsaumil\",\"theseer\",\"thestrukture\",\"thewhitetulip\",\"thi-ng\",\"thiagoalessio\",\"thiagorossener\",\"thibo73800\",\"thingsboard\",\"thinkcmf\",\"thirtybees\",\"tholman\",\"thomasj02\",\"thomasnield\",\"thomasp85\",\"thomaspark\",\"thompsonate\",\"thoughtbot\",\"thousandetherhomepage\",\"threatexpress\",\"three-rs\",\"threema-ch\",\"threepointone\",\"thstkdgus35\",\"thumphries\",\"thundernet8\",\"thunlp\",\"thx\",\"thymikee\",\"tiagoad\",\"tiagohm\",\"tiagomartinho\",\"tiagorlampert\",\"tianliangyihou\",\"tianmingyun\",\"tiann\",\"tidwall\",\"tiepvupsu\",\"tigerneil\",\"tiglabs\",\"tigrawap\",\"tihmstar\",\"tilltue\",\"timberio\",\"timebusker\",\"timescale\",\"timest\",\"timgaripov\",\"timgrossmann\",\"timholy\",\"timlindquist\",\"timofurrer\",\"timomeh\",\"timomernick\",\"timonus\",\"timusus\",\"tindzk\",\"tinghuiz\",\"tingxins\",\"tingyik90\",\"tinyfpga\",\"tinylcy\",\"tinysec\",\"tion126\",\"tipoqueno\",\"tipsy\",\"tirthajyoti\",\"titu1994\",\"tj\",\"tkarras\",\"tkh44\",\"tkipf\",\"tmc\",\"tmm\",\"tmobile\",\"tmthyjames\",\"tmulc18\",\"tobegit3hub\",\"tobiaslins\",\"tobloef\",\"toddmotto\",\"todogroup\",\"togiberlin\",\"togie6\",\"toineheuvelmans\",\"toji\",\"tolstikhin\",\"tom0li\",\"tomastrajan\",\"tomazy\",\"tombenner\",\"tombowditch\",\"tomepel\",\"tomhodgins\",\"tomialagbe\",\"tommikaikkonen\",\"tompave\",\"tomwimmenhove\",\"tonerdo\",\"toniov\",\"toniqsystems\",\"tonybeltramelli\",\"tonylins\",\"tonyofrancis\",\"toolkito\",\"toolness\",\"toolswatch\",\"toomuchdesign\",\"tootsuite\",\"topisani\",\"topjohnwu\",\"toplan\",\"toplap\",\"topper-123\",\"torralba-lab\",\"torrvision\",\"torvalds\",\"toshi0383\",\"totond\",\"totzcc\",\"tower-rs\",\"tower1229\",\"toyakula\",\"tpetricek\",\"tpolecat\",\"tpope\",\"tpoulsen\",\"tpunt\",\"tpys\",\"trailofbits\",\"training-center\",\"trainline\",\"tralves\",\"traneio\",\"tranleduy2000\",\"transform-it\",\"travisgoodspeed\",\"trazyn\",\"trek10inc\",\"trekhleb\",\"trekjs\",\"trent-dev\",\"treshugart\",\"trezm\",\"trojan-gfw\",\"tronprotocol\",\"troxler\",\"trstringer\",\"truedread\",\"truffle-box\",\"trufflesuite\",\"truskovskiyk\",\"trustable-code\",\"trustedsec\",\"tryolabs\",\"tscanlin\",\"tsherif\",\"tuan3w\",\"tuchk4\",\"tucnak\",\"tuhdo\",\"tukkek\",\"tumblr\",\"tumobi\",\"turbo\",\"turicas\",\"turkenh\",\"turtlecoin\",\"tuskyapp\",\"tuvtran\",\"tvaneerd\",\"tvkhoa\",\"tweag\",\"twelvesec\",\"twinkle77\",\"twitchdev\",\"twitchtv\",\"twitchyliquid64\",\"twitter\",\"twoscoops\",\"twostraws\",\"twtrubiks\",\"twtygqyy\",\"twz915\",\"txthinking\",\"tylersuehr7\",\"typeintandem\",\"typelevel\",\"typicode\",\"typwr\",\"tyranid\",\"tyrchen\",\"tzef\",\"uNetworking\",\"uTensor\",\"uanders\",\"uartois\",\"uavorg\",\"ubeeri\",\"uber\",\"uber-common\",\"uber-go\",\"ubisoftinc\",\"ubports\",\"uccmawei\",\"uclaacmai\",\"uclatommy\",\"ucsb-seclab\",\"udacity\",\"udhos\",\"ue4plugins\",\"ufoym\",\"ugik\",\"uias\",\"uiw-react\",\"ukncsc\",\"ulule\",\"umarF\",\"umbrellabeach\",\"umich-vl\",\"umijs\",\"umputun\",\"umutisik\",\"una-dinosauria\",\"unadlib\",\"unamer\",\"unbug\",\"unity3d-jp\",\"unix121\",\"unixpickle\",\"unlayer\",\"unruledboy\",\"unsky\",\"unsplash\",\"unterstein\",\"updivision\",\"uport-project\",\"uptechteam\",\"uptop\",\"urbainvaes\",\"urbint\",\"urish\",\"usernameyangyan\",\"usmanhalalit\",\"ustayready\",\"ustbhuangyi\",\"utilForever\",\"utiso\",\"utkuozbulak\",\"utopian-io\",\"utterance\",\"uulucky\",\"uzh-rpg\",\"v1tal3\",\"v2-dev\",\"v8\",\"vadimdemedes\",\"vadimkantorov\",\"vaguileradiaz\",\"vaheqelyan\",\"vaidehijoshi\",\"valderman\",\"valenting\",\"valentinogagliardi\",\"valentinxxx\",\"valeriansaliou\",\"valit-stack\",\"valorin\",\"vanhuyz\",\"vanila-io\",\"vanishcode\",\"vanniktech\",\"vanshg\",\"vapor-ware\",\"vaporz\",\"vasile-peste\",\"vasiloglou\",\"vector4wang\",\"vedetta-com\",\"vedhavyas\",\"vektah\",\"velopert\",\"veltman\",\"vene\",\"venits\",\"venshine\",\"venusteam\",\"vert-x3\",\"vesche\",\"vesparny\",\"vestrel00\",\"veu\",\"veyon\",\"vfr\",\"vhesener\",\"vi3k6i5\",\"viabtc\",\"viacreative\",\"vibertthio\",\"vicariousinc\",\"vicpinm\",\"victordibia\",\"victoresque\",\"victorporof\",\"vicwang163\",\"videolan\",\"viest\",\"viewscreen\",\"vigneshshanmugam\",\"vigzmv\",\"viljamis\",\"vin-ni\",\"vinayakkulkarni\",\"vinceliuice\",\"vincent-pradeilles\",\"vincentcox\",\"vincenth520\",\"vincentherrmann\",\"vinceumo\",\"vinhkhuc\",\"vinkdong\",\"vintasoftware\",\"vipulasri\",\"viraintel\",\"virajkulkarni14\",\"viralsolani\",\"viromedia\",\"virtual-kubelet\",\"viserjs\",\"visipedia\",\"vit9696\",\"vitalets\",\"vitaly-kamluk\",\"vitalysim\",\"vithursant\",\"vivchar\",\"vividvilla\",\"vivint\",\"vlad1m1r990\",\"vladaverin24\",\"vladgolubev\",\"vladimirvivien\",\"vladmihalcea\",\"vladmunteanu\",\"vladocar\",\"vmasto\",\"vmavromatis\",\"vmbrasseur\",\"vmchale\",\"vmcreative\",\"vmikhav\",\"vmware\",\"voerro\",\"voghDev\",\"volodymyrprokopyuk\",\"vonovak\",\"voten-co\",\"vouill\",\"vozlt\",\"vpaliyX\",\"vraa\",\"vrdse\",\"vue-land\",\"vue-perf-devtool\",\"vue-styleguidist\",\"vueact\",\"vuegg\",\"vuejs\",\"vuejs-br\",\"vuejs-templates\",\"vuejs-tips\",\"vuetifyjs\",\"vuetwo\",\"vuex-orm\",\"vulgo\",\"vulhub\",\"vulnersCom\",\"vusec\",\"vutran\",\"vvanders\",\"vvvvalvalval\",\"vyraun\",\"vysec\",\"w3h\",\"w3tecch\",\"w568w\",\"wabg\",\"wabyking\",\"wacossusca34\",\"wagamamaz\",\"wagenaartje\",\"wagoodman\",\"wahyd4\",\"waiting-for-dev\",\"wajahatkarim3\",\"wal-g\",\"walid1992\",\"walidshaari\",\"walkable-server\",\"walleth\",\"walmartlabs\",\"wang542413041\",\"wangdicoder\",\"wangdoc\",\"wangfupeng1988\",\"wanglimin\",\"wangrui460\",\"wangshijun\",\"wangshub\",\"wangsongyan\",\"wangweianger\",\"wangyu-\",\"wangzailfm\",\"wangzhenjjcn\",\"wanqizhu\",\"wansir\",\"warchildmd\",\"wardbradt\",\"warkiz\",\"warmspringwinds\",\"warpcgd\",\"warrenm\",\"wasdk\",\"wasidennis\",\"waterlink\",\"watson\",\"watson-developer-cloud\",\"watzon\",\"wavebox\",\"wavesoft\",\"wayaai\",\"waylau\",\"waylybaye\",\"waymonad\",\"waynecz\",\"wb14123\",\"wbenbihi\",\"wcandillon\",\"wclimb\",\"wdfe\",\"wdjungst\",\"wdlhao\",\"we-plugin\",\"wealthfront\",\"wearethescenery\",\"weaveworks\",\"webcpp\",\"webflow\",\"webfolderio\",\"webkul\",\"webosose\",\"webpack\",\"webpack-china\",\"webpack-contrib\",\"webpackmonitor\",\"websiddu\",\"webslides\",\"wecodexyz\",\"weeezes\",\"weiboad\",\"weibocom\",\"weichsel\",\"weidian-inc\",\"weilaihui\",\"weinman\",\"wellguimaraes\",\"welliamcao\",\"wen-fei\",\"wenbihan\",\"wende\",\"wendux\",\"wenguonideshou\",\"wenkeShi\",\"wenqin-231\",\"wensefu\",\"wenwenwen888\",\"weprovide\",\"werkamsus\",\"wesbos\",\"wesharehoodies\",\"west-east\",\"westy92\",\"wetw0rk\",\"whatyouhide\",\"whawker\",\"wheat7\",\"wheybags\",\"whid-injector\",\"whitedogg13\",\"whizzzkid\",\"whvcse\",\"whywhy898\",\"wi-fi-analyzer\",\"wickwirew\",\"widget-\",\"wikift\",\"wilfreddesert\",\"wilfredinni\",\"wilfredwee\",\"will8211\",\"williamFalcon\",\"williambout\",\"williamleif\",\"williamngan\",\"williballenthin\",\"willitscale\",\"willnewii\",\"willowtreeapps\",\"wind2412\",\"windlany\",\"wingify\",\"wireapp\",\"wirecube\",\"wiselyman\",\"withspectrum\",\"wix\",\"wizardforcel\",\"wizgrav\",\"wjbKimberly\",\"wkentaro\",\"wkeyuan\",\"wmhilton\",\"wmui\",\"wmurphyrd\",\"woaielf\",\"woguan\",\"wohlert\",\"woj-ciech\",\"wojteklu\",\"wolfboys\",\"wolfeidau\",\"wolfgangfengel\",\"wolfking0608\",\"wonday\",\"wookayin\",\"woolition\",\"worawit\",\"wordplat\",\"workanator\",\"worldmodels\",\"worldsong\",\"worrydream\",\"wotermelon\",\"woxihuannisja\",\"woxingxiao\",\"wpcfan\",\"wrseward\",\"wsdjeg\",\"wspl\",\"wsvincent\",\"wtsxDev\",\"wu-lang\",\"wuYinBest\",\"wuhuikai\",\"wulabing\",\"wupeixuan\",\"wurde\",\"wuseal\",\"wustor\",\"wutongke\",\"wuxianlin\",\"wuxudong\",\"wuyouzhuguli\",\"wuziheng\",\"wwdc\",\"wwdc-family\",\"wwmm\",\"www0wwwjs1\",\"wwwtyro\",\"wxs\",\"wxs77577\",\"wxsms\",\"wxyyxc1992\",\"wy1iu\",\"wylok\",\"wzjgn\",\"wzqcongcong\",\"x-cold\",\"x0rz\",\"x25\",\"x41sec\",\"x90skysn3k\",\"xFFFFF\",\"xaksis\",\"xamarin\",\"xanf\",\"xapax\",\"xat\",\"xbresson\",\"xcatliu\",\"xceedsoftware\",\"xcg340122\",\"xcodeswift\",\"xcp-ng\",\"xczh\",\"xd009642\",\"xd4rker\",\"xdavidhu\",\"xdever\",\"xenomachina\",\"xerub\",\"xetys\",\"xfernando\",\"xfumihiro\",\"xgastaldi\",\"xhujoy\",\"xiadd\",\"xiadingZ\",\"xiamx\",\"xiangsudian\",\"xianlubird\",\"xiaobinwu\",\"xiaobocser\",\"xiaohanyu\",\"xiaohaoChen\",\"xiaojue\",\"xiaolai\",\"xiaolonw\",\"xiaonanln\",\"xiaoshun007\",\"xiaosimao\",\"xiaoxiangyeyuHeaven\",\"xiaoyanger0825\",\"xiaoyao1991\",\"xiaweizi\",\"xichen744\",\"ximsfei\",\"xinghaochen\",\"xinglie\",\"xiong-it\",\"xiph\",\"xitongsys\",\"xitu\",\"xiyouMc\",\"xjh22222228\",\"xkeshi\",\"xliiv\",\"xlzd\",\"xm0625\",\"xmartlabs\",\"xmcp\",\"xmrig\",\"xmuSistone\",\"xmyqsh\",\"xo\",\"xoofx\",\"xoreaxeaxeax\",\"xori\",\"xorrior\",\"xorshine\",\"xoseperez\",\"xotahal\",\"xqwzts\",\"xratzh\",\"xreader\",\"xrr2016\",\"xslittlegrass\",\"xtal8\",\"xtuJSer\",\"xtuc\",\"xtyxtyx\",\"xu42\",\"xubinux\",\"xudjx\",\"xuechiyaobai\",\"xuexb\",\"xujeff\",\"xujiaji\",\"xujiajun\",\"xulayen\",\"xunhuang1995\",\"xuningjack\",\"xunleif2e\",\"xupefei\",\"xuqiang521\",\"xurongzhong\",\"xurxodev\",\"xushuangle\",\"xuuhaoo\",\"xuxueli\",\"xvortex\",\"xvw\",\"xwc520\",\"xwhan\",\"xwjdsh\",\"xwjie\",\"xxczaki\",\"xxhomey19\",\"xyxiao001\",\"y-taka-23\",\"yTakkar\",\"yacy\",\"yahoo\",\"yale8848\",\"yallajs\",\"yandex\",\"yandexdataschool\",\"yangchaojiang\",\"yangfeicheung\",\"yangfuhai\",\"yangli-dev\",\"yangmillstheory\",\"yangqihua\",\"yangshun\",\"yangxiaobinhaoshuai\",\"yangxue0827\",\"yangyiLTS\",\"yanm1ng\",\"yannayl\",\"yannecer\",\"yansern\",\"yanwii\",\"yanxiu0614\",\"yanzhenjie\",\"yaoleiliu\",\"yaphone\",\"yapstudios\",\"yaringal\",\"yarolegovich\",\"yasharpm\",\"yasinkuyu\",\"yatoooon\",\"ycjing\",\"ycszen\",\"yczeng\",\"ydcss\",\"ydtg1993\",\"yedincisenol\",\"yeephycho\",\"yegor256\",\"yellowbyte\",\"yelouafi\",\"yeszao\",\"yewei02538\",\"yeyintminthuhtut\",\"yeyuqiudeng\",\"yezihaohao\",\"yhaolpz\",\"yhyu13\",\"yi-ge\",\"yichengchen\",\"yidao620c\",\"yihui\",\"yingDev\",\"yingLanNull\",\"yippee-ki-yay\",\"yixiangboy\",\"yixianle\",\"yiyibb\",\"yize\",\"yizhiwazi\",\"yjose\",\"yjxiong\",\"ykloveyxk\",\"ykob\",\"ymgaq\",\"ymgve\",\"yo-op\",\"yogaboll\",\"yogkin\",\"yokyak\",\"yonaskolb\",\"yonasstephen\",\"yongyehuang\",\"yoosan\",\"yorkie\",\"yoshuawuyts\",\"youansheng\",\"youaremyall\",\"youknowriad\",\"younatics\",\"youngkaaa\",\"yourjs\",\"yourtion\",\"yous\",\"youseries\",\"youxin11544\",\"youzan\",\"yoyiyi\",\"ysh329\",\"yu199195\",\"yu4u\",\"yuanchuan\",\"yuanfengyun\",\"yuanming-hu\",\"yuantailing\",\"yuantiku\",\"yubo725\",\"yucccc\",\"yue\",\"yujinjin\",\"yujiosaka\",\"yuk7\",\"yuki540net\",\"yukinying\",\"yulingtianxia\",\"yun-liu\",\"yunabe\",\"yunit-io\",\"yunjey\",\"yunzaifei\",\"yuq\",\"yuqirong\",\"yura505\",\"yuri2peter\",\"yurishkuro\",\"yusufcakmak\",\"yutiansut\",\"yuuki\",\"yuzd\",\"yuzu-emu\",\"yuzushioh\",\"yy1193889747\",\"yy9306\",\"yysijie\",\"yysskk\",\"yyued\",\"yyx990803\",\"yzcjtr\",\"z-song\",\"z7zmey\",\"zacharycarter\",\"zachcurry\",\"zachflower\",\"zachgibson\",\"zachleat\",\"zack-bitcoin\",\"zack24q\",\"zackchase\",\"zackthoutt\",\"zadr\",\"zagum\",\"zalando-incubator\",\"zalandoresearch\",\"zanderxyz\",\"zaneCC\",\"zangqilong198812\",\"zarunbal\",\"zavolokas\",\"zawadz88\",\"zawawawa\",\"zaxlct\",\"zboxfs\",\"zc95\",\"zcreativelabs\",\"zczhangchao51\",\"zdenkohenkotss\",\"zdevito\",\"zdharma\",\"zdhxiong\",\"zedxpp\",\"zeeshanu\",\"zeffy\",\"zehfernandes\",\"zeit\",\"zeleven\",\"zenangst\",\"zendesk\",\"zenglingchao\",\"zenorocha\",\"zeplin\",\"zero-to-mastery\",\"zerobias\",\"zeroheight\",\"zerosum0x0\",\"zerotier\",\"zetavm\",\"zeusees\",\"zeux\",\"zgordon\",\"zhangchenchen\",\"zhanghang1989\",\"zhangjie000\",\"zhangke3016\",\"zhangkun-Jser\",\"zhangliangming\",\"zhangxd1989\",\"zhangyd-c\",\"zhansingsong\",\"zhanyongsheng\",\"zhanziyang\",\"zhao94254\",\"zhaohaihao\",\"zhaohaodang\",\"zhaojh329\",\"zhaotoday\",\"zhedongzheng\",\"zhengguorong\",\"zhenglibao\",\"zhengyang-wang\",\"zhezhaoa\",\"zhiguowang\",\"zhihaozhang\",\"zhihu\",\"zhisheng17\",\"zhixuhao\",\"zhnnnnn\",\"zhongjie-chen\",\"zhongzhong0505\",\"zhou-you\",\"zhoubear\",\"zhouchaoyuan\",\"zhoujie123\",\"zhoujingjie\",\"zhoujunjiang\",\"zhoushengmufc\",\"zhovner\",\"zhreshold\",\"zhunzhong07\",\"zhuweiyou\",\"zhuyingda\",\"zhuzhuyule\",\"ziaochina\",\"zigomir\",\"zikes\",\"zimplexing\",\"ziwenxie\",\"zixia\",\"zixun\",\"zjupure\",\"zjy-ucas\",\"zk-phi\",\"zkat\",\"zldww2011\",\"zlpure\",\"zntfdr\",\"znuh\",\"znxlwm\",\"zodiacon\",\"zotroneneis\",\"zouhir\",\"zoujingli\",\"zpao\",\"zricethezav\",\"zsmb13\",\"zsolt-nagy\",\"zthxxx\",\"zuoge85\",\"zuopf769\",\"zuoxingdong\",\"zverok\",\"zwwill\",\"zyao89\",\"zybieku\",\"zycfj\",\"zyfworks\",\"zygmuntz\",\"zymseo\",\"zyra\",\"zz85\",\"zznop\",\"zzsza\",\"zzuu666\",\"zzw922cn\",\"zzzprojects\"],\"author_sizes\":[1,1,1,1,2,4,1,4,1,2,1,1,1,1,1,1,1,1,1,1,1,2,1,1,2,1,2,2,1,1,2,3,4,1,1,4,1,1,1,1,2,1,1,1,2,1,2,1,1,1,3,1,1,1,1,1,1,1,1,2,1,2,1,1,1,2,1,1,1,2,1,1,1,1,1,1,1,1,1,1,1,1,2,1,1,1,1,1,1,1,1,1,2,1,1,1,2,1,1,1,1,1,1,2,1,2,1,1,1,1,1,1,1,2,1,1,1,1,1,1,2,4,4,1,1,1,1,1,1,1,1,1,1,1,2,1,1,1,1,3,1,1,1,1,1,1,1,1,4,2,1,1,2,4,1,1,1,1,1,3,1,1,1,1,1,1,1,1,1,1,2,1,2,1,1,1,1,1,1,1,1,1,1,1,1,6,1,1,1,1,1,1,2,1,1,1,1,1,2,1,1,1,4,1,1,1,1,1,1,1,1,1,1,1,1,1,1,1,1,2,1,1,1,1,1,1,1,1,3,1,1,2,1,2,1,1,1,1,5,1,2,1,1,1,1,1,1,1,2,1,2,1,1,1,1,1,1,1,1,1,1,1,1,1,1,1,1,1,1,1,1,1,1,1,1,1,1,1,1,1,1,1,1,1,1,2,2,1,3,1,1,1,1,3,1,1,1,1,1,1,1,1,1,1,1,1,1,1,1,1,1,1,1,1,1,2,1,1,1,1,1,1,2,1,1,1,1,3,1,1,1,1,1,1,1,2,1,1,1,1,1,1,1,1,1,1,1,1,2,3,1,2,1,2,1,1,1,1,1,2,3,1,1,1,1,1,1,1,1,1,1,4,1,2,1,1,1,1,1,1,1,1,1,2,1,1,1,1,1,1,1,1,1,1,1,1,3,1,1,3,3,1,1,1,1,2,1,1,1,2,1,1,2,1,3,1,1,1,1,1,2,1,1,1,1,1,1,2,1,2,1,2,1,1,1,1,1,1,1,1,1,1,3,1,1,1,1,1,1,1,1,1,1,1,1,1,1,1,2,1,1,1,1,2,1,2,1,1,1,1,1,1,1,1,1,3,1,2,1,1,1,1,1,2,1,1,1,1,1,1,1,1,1,2,3,1,1,1,1,1,1,1,2,1,1,2,1,1,1,1,1,5,2,1,2,2,1,3,1,1,6,2,1,2,1,1,1,1,2,1,1,1,1,1,1,1,1,1,4,1,1,1,1,1,1,1,1,1,1,1,2,1,1,1,3,4,1,1,2,1,1,1,1,1,1,1,1,1,1,2,1,2,1,1,2,1,1,1,1,1,1,1,1,1,5,1,1,1,1,1,1,1,7,1,1,1,1,2,1,1,2,1,1,1,1,1,1,1,1,2,2,1,1,2,1,1,1,1,2,1,1,1,1,1,1,1,1,4,1,1,1,1,1,1,2,1,1,1,1,2,1,1,1,1,1,1,1,2,1,1,2,1,1,1,1,3,1,1,1,1,1,3,2,10,9,1,1,1,1,1,1,1,1,1,1,1,2,1,1,1,1,2,1,1,1,1,2,1,1,1,1,1,1,1,1,1,1,1,1,1,4,1,2,1,1,1,1,1,1,1,3,1,1,1,1,1,1,1,1,2,1,1,1,1,1,1,1,1,1,1,1,1,1,1,2,2,1,1,1,1,1,1,1,3,1,6,1,1,1,1,1,2,1,1,2,1,1,1,1,1,1,2,1,1,3,1,1,1,1,1,1,1,1,2,1,2,3,1,1,1,1,1,2,1,1,1,2,1,1,1,1,1,1,1,1,1,1,1,1,1,1,1,1,1,3,1,1,1,1,1,1,1,1,1,1,1,1,1,1,1,1,2,1,1,1,1,2,1,2,2,1,1,1,5,1,4,1,1,1,1,2,1,1,3,1,1,1,1,1,1,2,1,1,1,1,1,8,1,2,1,2,1,1,1,1,1,3,1,2,1,1,1,1,1,1,1,1,1,2,1,2,1,1,1,1,1,3,1,1,1,2,1,1,1,1,1,1,1,1,2,1,1,1,1,1,3,2,2,1,2,1,1,1,1,3,1,1,1,1,1,1,1,5,1,3,1,1,1,1,1,1,1,1,1,1,1,2,1,2,9,1,1,1,1,1,1,1,1,6,1,4,1,1,1,1,2,1,1,1,1,1,1,2,1,1,1,1,1,2,1,1,1,1,2,1,1,1,2,1,1,1,1,1,1,1,1,1,1,1,1,2,1,1,2,1,1,1,1,1,1,1,1,1,1,1,1,1,1,1,1,1,1,1,1,1,1,2,1,1,1,1,1,3,1,1,1,1,1,1,1,1,1,1,3,1,1,1,1,1,1,3,1,1,1,1,1,1,1,1,1,1,1,2,1,1,1,1,1,1,1,1,1,1,2,1,1,2,1,1,1,1,3,3,1,2,1,1,1,1,1,1,1,1,1,2,4,1,1,1,1,1,3,1,1,1,1,1,1,1,1,1,1,1,1,1,1,42,1,1,1,1,10,5,1,2,1,1,1,1,1,1,1,1,1,1,1,3,2,1,4,1,1,2,1,1,1,1,1,1,4,1,1,1,1,2,1,1,1,1,2,1,1,1,1,1,1,1,1,1,1,1,7,1,1,1,2,1,1,1,1,8,2,1,1,1,1,4,1,1,1,1,1,1,1,2,1,1,1,1,2,1,2,1,2,4,1,1,3,1,1,1,1,1,1,1,1,1,1,1,1,2,1,1,1,1,1,1,1,1,1,1,1,1,1,1,1,2,2,1,1,3,1,1,1,1,1,6,1,1,1,3,1,1,1,6,2,1,1,1,14,1,1,1,1,1,1,1,1,1,1,2,1,2,1,1,1,1,1,2,1,3,3,1,1,1,1,1,1,1,1,1,2,2,1,1,1,1,1,1,1,1,1,1,1,1,1,1,1,1,1,1,1,1,1,1,2,1,1,1,1,1,1,1,1,1,1,4,3,1,1,1,1,1,1,1,1,1,1,1,1,2,1,1,1,1,2,2,1,1,1,1,1,3,1,1,5,1,1,1,1,2,1,1,1,1,1,1,1,1,1,1,1,1,3,2,2,1,1,1,1,1,10,1,1,1,1,1,1,1,1,1,1,2,1,1,1,1,1,1,1,1,1,2,1,1,1,1,3,2,1,1,1,1,2,1,1,1,1,1,1,1,1,1,1,2,1,1,1,1,1,1,1,1,1,1,4,2,1,1,1,2,1,1,1,1,1,1,1,1,1,1,1,1,1,2,1,1,1,4,1,1,1,1,1,1,1,1,2,1,2,1,1,1,1,4,1,1,1,1,1,1,2,1,1,1,2,1,1,1,1,1,1,1,4,1,3,1,1,1,8,1,1,1,1,1,2,1,1,4,1,1,2,1,1,2,1,1,1,2,1,1,1,1,1,1,1,1,1,1,1,1,1,1,1,1,1,1,1,1,1,2,1,1,1,1,1,1,1,1,2,3,1,1,1,1,1,2,3,1,1,1,6,1,1,1,1,1,1,1,1,1,1,1,2,1,1,1,1,1,1,1,1,1,2,1,1,3,1,1,1,1,1,1,1,1,1,1,1,1,1,1,1,1,2,1,3,1,1,1,1,1,1,1,1,2,1,1,1,2,1,1,1,2,1,1,1,1,1,13,1,1,1,1,3,1,1,1,1,1,1,3,1,1,3,1,1,1,1,1,1,1,1,1,1,1,1,1,1,1,4,1,1,1,2,1,1,1,1,1,1,1,6,1,1,1,1,1,1,1,1,1,1,1,1,1,1,3,2,1,2,1,1,1,1,2,1,4,12,1,2,3,11,1,1,1,1,1,1,1,1,1,3,1,1,1,1,1,1,1,1,1,1,1,1,1,3,1,1,1,1,1,2,1,1,1,2,1,1,1,1,1,1,1,1,3,1,1,1,2,3,1,1,2,1,1,1,3,1,2,1,1,1,1,1,1,1,1,1,1,1,2,1,1,1,1,1,6,1,2,1,1,1,1,1,1,1,1,2,1,1,1,1,1,2,1,1,1,1,1,1,1,1,1,1,1,1,1,3,1,1,1,1,3,1,1,1,1,1,1,1,2,1,1,1,1,3,1,1,1,1,1,1,1,2,1,1,1,1,1,1,3,1,1,1,1,1,1,1,1,1,1,1,1,1,1,1,1,1,1,1,1,1,1,1,1,1,1,1,1,1,2,1,1,1,1,1,1,1,1,1,1,2,1,1,2,1,1,1,1,1,1,1,1,2,1,1,1,1,1,1,1,1,1,1,2,2,1,1,1,1,1,1,1,2,1,1,1,1,2,3,1,1,1,1,1,1,1,1,1,1,2,1,1,1,1,3,1,1,1,1,1,2,1,1,1,1,2,1,1,1,1,1,1,4,1,1,1,2,1,1,1,1,2,1,1,1,1,4,1,1,1,1,2,1,1,1,1,1,8,2,1,1,1,2,2,1,1,1,1,1,1,1,1,1,2,2,1,1,2,1,1,1,2,2,1,1,2,1,1,1,1,1,1,1,1,1,2,1,1,1,1,1,1,1,1,2,3,1,2,1,1,1,1,1,2,2,1,1,3,1,1,1,1,1,2,2,3,1,1,1,1,1,1,1,1,1,1,1,4,1,1,1,1,29,1,1,1,1,1,2,1,2,1,3,1,1,1,1,1,1,1,1,2,1,1,1,1,1,1,1,1,1,1,2,1,1,1,1,1,1,1,2,1,2,1,1,1,1,1,2,1,1,1,1,1,2,1,1,2,1,1,3,1,1,1,1,2,1,1,1,1,1,1,3,1,2,1,1,1,1,1,3,2,1,1,1,2,2,1,1,1,1,1,1,3,1,1,1,1,2,1,1,1,3,4,1,1,1,1,1,1,1,1,1,1,2,2,1,1,1,1,3,1,2,1,1,1,1,1,2,7,1,1,1,1,5,8,8,1,1,1,6,1,1,1,10,1,1,2,5,3,1,2,2,2,1,1,1,1,1,1,1,1,2,2,1,1,2,1,1,1,1,1,1,1,1,1,1,2,1,3,2,1,2,1,2,1,1,1,1,1,2,1,2,1,1,1,1,1,1,1,1,1,1,1,1,2,1,2,1,1,3,1,1,1,1,1,1,1,1,1,1,1,5,2,1,4,6,1,1,1,1,1,1,1,1,1,2,7,1,1,2,1,1,1,1,1,1,1,1,1,1,2,1,1,2,2,1,2,3,1,1,1,1,1,1,2,1,1,2,1,1,12,9,1,2,7,1,2,2,1,1,1,1,1,1,1,1,1,1,2,1,1,2,1,1,3,1,1,1,1,1,1,1,1,6,1,3,1,1,2,1,1,1,2,1,1,1,1,2,1,1,1,2,1,1,3,1,1,1,1,1,1,1,1,1,1,1,2,1,1,1,1,1,1,1,4,1,2,1,1,1,1,1,1,1,1,2,1,1,1,1,1,1,1,1,1,1,1,1,1,1,1,1,1,1,1,1,1,1,1,1,2,1,1,1,2,1,1,1,2,2,1,1,1,1,1,1,1,2,1,1,4,1,1,1,2,1,1,1,1,1,1,2,1,3,1,1,1,2,1,1,1,1,2,1,1,1,1,2,1,1,1,1,1,2,1,1,1,1,1,1,1,2,1,2,1,1,1,1,1,1,1,1,2,1,1,1,1,1,1,1,1,2,2,1,1,1,1,2,1,1,1,1,1,1,1,2,1,1,1,2,1,1,1,1,1,1,1,1,1,1,1,1,1,1,4,1,1,1,1,1,1,1,1,2,1,1,3,1,2,2,1,1,1,1,1,1,1,1,1,1,1,1,1,1,2,2,1,2,2,1,1,1,1,1,1,1,1,1,1,1,2,3,1,1,4,1,1,1,1,1,1,1,1,1,1,2,1,1,1,1,1,1,1,1,1,1,1,1,1,1,1,1,1,1,1,4,1,1,1,1,1,1,1,3,1,1,1,1,1,1,4,1,1,1,1,1,1,4,1,1,1,1,1,1,1,1,1,1,4,1,4,1,3,1,1,1,1,1,1,1,1,4,1,1,1,12,1,1,1,1,1,1,1,1,1,2,3,1,2,1,1,1,1,1,1,1,1,1,2,2,1,1,1,1,1,1,1,1,1,1,1,1,1,1,3,1,2,1,1,1,1,1,4,1,1,1,3,4,1,1,1,1,2,1,1,2,1,1,2,1,1,1,1,1,1,1,2,1,1,1,1,1,1,2,1,1,3,1,1,2,1,1,1,1,1,1,1,1,1,1,1,1,1,4,1,1,1,1,1,1,1,1,1,1,1,1,1,1,1,1,1,1,1,1,3,1,1,1,1,1,1,1,1,1,1,1,3,1,1,1,2,1,1,3,1,1,1,2,1,1,1,1,1,1,1,2,1,3,1,1,1,1,1,1,1,1,1,1,5,1,2,1,1,2,1,1,1,1,1,2,1,1,1,1,1,1,1,2,1,1,1,1,1,2,1,1,1,1,1,2,1,1,1,1,1,1,1,1,1,2,1,1,3,3,1,17,1,1,1,1,2,1,1,1,1,1,1,2,2,1,1,1,1,1,1,1,1,1,1,1,1,1,2,1,1,1,1,1,1,1,1,1,1,1,3,1,1,1,1,1,2,1,1,2,1,2,1,1,1,1,1,1,2,2,1,3,1,1,1,2,2,1,1,2,1,4,1,1,1,1,2,3,1,1,2,1,3,1,1,1,1,1,1,3,1,1,4,1,1,2,1,1,1,1,1,3,1,1,1,1,1,1,1,1,1,1,1,2,1,2,2,1,1,1,1,1,1,1,1,1,1,2,1,2,1,1,1,2,1,1,1,1,2,1,1,1,1,1,1,1,1,1,1,1,1,1,1,1,1,1,3,1,1,1,1,1,1,1,1,1,3,1,1,1,1,1,1,1,1,1,1,1,1,1,1,1,1,1,1,1,1,1,1,1,1,1,1,1,1,2,3,1,1,1,1,3,3,1,1,2,1,1,1,1,1,1,2,1,2,1,1,1,1,1,1,1,1,1,1,1,2,1,1,1,1,1,1,1,1,1,1,1,1,1,1,1,1,1,1,1,1,1,1,1,1,1,1,1,1,1,1,1,1,7,2,1,1,1,1,1,1,1,1,1,1,1,1,1,1,1,3,1,1,1,2,1,1,3,2,1,1,1,1,1,1,1,1,1,1,1,1,1,15,1,1,1,1,1,1,1,1,1,1,1,1,2,7,1,1,1,1,2,2,1,1,1,1,1,1,1,1,1,1,1,2,2,1,1,4,2,1,1,1,5,1,1,1,1,1,1,1,1,2,5,1,1,1,1,1,1,1,7,1,1,1,1,1,2,1,1,1,1,1,1,1,1,1,1,1,1,1,1,1,1,1,1,1,1,1,1,1,3,1,1,1,1,1,1,1,2,2,1,1,3,1,1,2,1,1,1,1,1,1,1,1,1,1,2,3,2,1,1,2,1,1,1,4,1,4,1,1,2,1,1,1,4,1,2,1,1,1,1,1,1,2,1,1,1,1,1,1,1,1,1,1,2,1,1,2,1,1,1,1,1,1,1,2,4,1,3,1,1,1,1,2,1,1,1,1,1,1,1,1,1,1,1,1,1,1,1,1,1,1,1,1,1,1,1,1,1,1,1,2,1,1,1,1,2,1,1,1,2,1,1,1,1,1,2,1,1,1,1,1,1,1,1,5,4,1,1,1,11,1,1,1,1,1,1,1,1,1,3,3,1,1,1,1,1,1,1,1,1,3,1,1,1,1,1,1,1,1,2,1,1,1,1,1,1,1,1,1,1,1,1,1,2,1,2,1,1,1,1,1,1,1,1,1,1,1,1,1,2,1,1,1,1,1,1,1,1,1,1,1,3,1,1,1,1,2,1,1,3,1,1,1,1,1,1,1,1,1,1,1,2,1,1,1,1,1,1,1,1,1,1,1,1,1,2,1,1,1,1,3,1,1,1,1,2,1,2,1,1,1,1,1,1,1,8,1,1,1,2,1,1,1,1,1,1,2,1,2,3,1,2,1,2,1,1,2,1,1,1,1,1,7,1,1,3,9,24,1,4,2,1,1,1,1,1,1,1,1,1,1,1,2,1,1,1,1,1,1,1,2,3,2,1,1,2,1,3,1,1,2,1,1,2,1,2,1,1,1,1,1,1,1,1,1,1,1,3,2,1,1,1,1,1,4,1,1,1,2,1,1,3,1,1,1,1,3,2,1,1,1,2,2,1,1,1,2,1,1,2,4,3,1,4,1,1,1,2,1,1,1,2,1,1,1,1,1,2,1,17,1,1,1,1,1,1,1,1,1,1,1,1,1,1,1,2,1,1,1,1,1,1,1,1,1,1,1,1,1,1,1,1,1,1,58,1,2,1,3,1,2,1,1,1,1,1,1,1,1,1,1,1,1,1,1,1,1,1,1,1,1,1,1,1,1,1,1,1,1,1,1,1,1,1,1,1,1,1,1,2,1,1,1,1,1,1,1,1,1,1,1,2,1,1,1,1,1,2,4,1,1,1,1,1,1,1,1,1,1,4,1,1,1,1,2,2,1,1,1,2,1,1,1,1,1,1,1,1,1,3,1,1,1,1,1,1,1,1,1,6,1,1,1,1,1,2,2,1,1,1,1,1,2,1,1,1,1,3,1,2,1,1,2,1,1,1,1,1,1,1,1,1,1,1,1,1,1,1,1,1,1,1,1,1,1,1,1,1,9,1,1,1,1,1,2,1,2,1,1,1,1,1,1,1,1,1,1,1,1,1,1,1,1,1,1,1,1,1,1,3,1,1,1,1,1,1,1,1,1,1,1,2,1,1,1,1,1,1,1,2,1,1,1,2,1,1,1,1,1,1,1,1,1,1,1,2,1,1,1,1,1,1,2,1,1,1,1,1,1,1,1,1,1,1,50,1,2,1,6,1,6,1,1,1,1,1,1,1,1,1,7,1,1,1,1,1,1,1,1,1,1,1,1,1,1,2,1,1,2,1,1,1,9,1,1,1,1,2,1,1,1,1,1,1,1,2,1,1,1,1,1,1,1,1,1,1,1,1,1,1,1,1,1,1,1,1,1,1,1,1,1,3,1,1,1,1,1,1,1,1,1,3,1,1,3,1,2,1,1,1,1,2,1,1,1,1,2,2,1,1,2,1,4,1,1,1,1,2,1,1,2,1,1,1,2,1,3,2,1,2,2,1,1,1,1,1,1,1,3,1,1,2,3,1,1,1,1,1,2,1,3,2,1,1,1,2,2,1,1,1,1,2,1,1,1,2,1,1,1,1,2,1,1,1,1,1,1,1,1,1,1,1,1,1,3,1,1,1,1,1,1,2,1,1,1,1,1,1,1,1,2,1,1,1,1,1,1,1,1,1,1,1,1,1,1,1,1,1,3,1,1,1,2,1,1,1,1,2,1,1,1,1,1,2,1,1,1,1,1,1,1,4,1,1,1,1,1,2,1,1,1,1,1,1,1,1,1,1,1,1,1,1,1,1,2,1,1,1,1,1,1,1,1,1,1,2,1,2,1,1,1,1,1,1,2,1,3,1,1,1,2,1,1,1,1,3,2,1,2,1,1,1,4,1,2,1,1,1,2,2,1,1,2,1,1,1,1,1,1,1,2,1,1,1,1,1,2,1,1,5,1,2,1,1,1,9,1,1,1,2,1,1,1,1,2,1,1,1,1,1,2,1,1,4,1,1,1,1,6,1,1,1,1,1,1,2,1,1,1,1,1,1,1,2,1,2,1,1,1,1,1,1,1,1,1,1,1,1,2,1,1,1,1,1,1,1,2,1,1,1,1,2,1,1,1,1,2,1,1,1,1,1,1,2,1,1,1,1,1,1,2,1,2,1,1,1,1,1,1,1,1,1,1,1,1,1,2,1,1,1,1,3,1,2,1,1,1,1,1,1,1,1,1,1,2,1,1,1,1,1,2,1,1,1,1,1,1,1,1,1,1,1,1,3,1,2,1,5,1,1,1,1,1,1,1,1,1,1,1,1,1,1,1,1,1,1,1,1,1,1,1,1,1,1,1,1,1,1,1,1,1,1,1,2,1,1,2,1,1,1,1,1,1,1,1,1,1,1,1,1,1,1,1,1,1,1,3,1,2,1,2,2,2,1,1,1,1,1,1,1,1,1,2,1,1,1,1,1,1,1,2,6,1,1,1,2,1,1,2,3,7,1,1,1,1,1,1,1,1,1,1,1,5,1,1,1,1,2,1,1,1,1,1,1,1,1,4,2,1,1,2,1,2,1,1,1,1,1,2,1,1,1,1,1,1,1,1,1,2,1,1,1,1,1,1,1,1,1,1,1,2,1,2,2,1,1,1,1,2,1,1,1,1,1,3,5,2,1,1,1,1,2,1,2,1,1,1,1,1,1,1,1,1,1,1,1,1,1,2,2,1,1,1,1,1,4,1,1,1,1,1,1,1,1,3,2,2,1,1,1,1,1,1,2,3,1,2,1,1,1,1,1,1,1,1,1,1,1,2,1,1,1,1,1,1,1,2,1,1,1,1,1,1,2,1,1,2,3,1,1,1,1,1,1,2,1,1,1,1,1,1,1,1,2,1,1,1,1,2,1,1,1,1,1,1,1,1,2,1,1,1,1,1,1,2,1,1,1,1,1,1,1,1,1,1,1,1,1,1,1,1,1,1,1,1,1,1,2,1,1,1,1,1,1,2,1,1,1,1,1,1,1,1,1,1,1,1,1,1,1,1,1,5,1,2,1,1,1,1,1,1,1,2,2,1,1,1,1,1,1,1,1,7,2,1,1,1,1,1,1,1,1,2,1,2,1,1,1,1,1,1,1,1,1,1,1,3,1,1,1,1,1,1,1,1,1,1,1,1,1,1,1,2,1,1,1,1,1,1,1,1,1,1,1,1,1,1,1,1,1,1,18,1,1,1,1,1,1,1,7,1,1,1,3,15,1,1,2,1,6,1,1,2,1,2,1,1,1,3,1,1,1,1,1,2,1,1,2,1,2,1,1,1,1,1,1,1,1,1,1,1,1,1,1,1,1,1,1,1,1,1,2,1,1,1,1,1,1,1,2,2,1,7,1,1,1,2,1,1,4,1,1,1,1,1,2,1,1,5,1,2,1,1,1,1,1,1,1,2,1,1,1,1,1,1,1,1,1,1,1,1,1,1,1,1,1,1,1,1,1,2,1,1,1,1,1,1,1,1,1,1,1,1,1,1,1,1,1,1,1,1,2,1,1,1,1,4,1,1,3,1,3,1,1,1,1,1,1,2,1,2,1,4,1,1,3,2,1,1,1,1,1,1,1,1,1,1,1,1,1,2,1,1,1,1,1,1,1,1,1,1,2,1,1,1,1,1,1,1,1,1,1,1,1,1,2,1,1,1,1,1,2,1,1,1,1,1,1,1,1,1,1,1,1,1,1,1,1,2,1,1,1,1,1,2,1,1,2,6,1,1,1,1,1,1,1,1,1,1,1,1,1,2,1,1,1,4,1,1,2,1,1,1,1,1,1,1,1,1,1,1,1,1,1,1,1,1,1,1,1,1,1,1,1,2,1,1,1,1,1,1,5,1,1,1,1,1,1,1,1,1,1,1,1,1,1,1,1,1,1,1,1,1,1,1,1,1,1,1,1,1,1,3,1,1,1,1,1,1,4,2,1,1,1,1,1,1,1,1,1,2,1,1,1,1,1,1,1,1,1,1,1,1,1,1,1,1,1,1,1,8,1,1,1,4,1,1,1,1,1,1,1,1,1,1,28,1,1,1,1,1,1,3,2,3,1,1,1,3,1,1,2,1,3,2,1,1,2,1,1,1,1,1,1,1,1,1,1,7,1,1,1,1,1,1,1,1,1,1,1,1,1,1,1,1,1,1,1,1,1,2,1,1,1,1,1,1,3,1,1,1,1,2,1,1,1,1,1,1,4,9,1,1,1,1,1,3,1,1,1,2,1,1,1,1,1,1,3,1,1,1,5,1,1,1,1,1,1,1,1,4,1,3,1,2,1,1,3,1,1,1,1,1,6,1,1,1,1,1,3,1,1,1,1,1,3,2,1,1,1,2,1,1,1,1,1,2,1,1,1,1,1,1,1,1,1,1,1,2,5,2,1,1,2,1,1,1,1,1,2,1,1,1,1,1,1,1,1,1,1,1,1,1,2,1,1,1,1,1,1,1,1,1,1,1,1,1,1,1,1,1,1,1,1,3,4,1,1,1,1,1,1,1,1,1,1,1,1,2,1,1,1,2,1,1,1,1,3,1,1,1,1,1,1,1,1,1,1,1,1,1,1,1,1,4,1,1,1,1,1,2,1,1,1,1,1,1,1,1,1,1,1,2,2,3,1,1,1,1,1,2,1,1,1,2,1,3,4,1,1,1,1,1,1,1,1,1,1,1,1,1,1,1,1,2,1,1,1,1,1,1,1,1,1,1,1,1,2,1,2,1,1,1,1,1,1,1,1,2,1,1,2,1,1,1,1,1,1,1,1,2,1,4,1,1,1,1,1,2,1,1,1,1,1,1,1,1,1,1,2,1,1,1,1,1,2,1,1,1,1,3,1,1,2,1,1,5,1,1,1,1,1,1,1,1,2,1,1,1,1,3,1,1,1,1,1,1,3,1,1,1,1,3,2,1,1,1,1,1,1,1,1,1,1,1,1,1,2,1,1,1,1,1,2,2,1,1,1,1,1,1,1,1,1,1,1,1,1,1,1,1,1,1,1,1,1,1,1,1,2,1,3,1,1,1,1,1,1,1,1,1,1,1,1,1,1,1,1,1,1,1,1,1,2,1,1,1,1,1,1,1,1,1,1,1,1,1,1,1,1,1,1,1,1,1,7,1,2,1,1,1,1,1,2,1,1,1,1,1,1,1,1,1,1,1,2,1,1,3,1,1,2,1,1,1,1,1,1,1,1,1,1,1,1,2,1,4,1,1,1,1,1,1,1,1,1,1,2,1,1,1,1,1,1,1,1,1,1,3,1,1,1,2,1,1,1,1,5,1,1,1,1,1,1,1,1,1,1,1,2,1,2,1,1,1,1,1,1,1,1,2,1,2,3,1,1,4,6,1,1,1,1,1,1,2,1,1,1,1,1,1,5,1,1,1,1,1,1,1,1,1,1,2,2,1,1,5,1,1,1,1,1,1,3,3,2,1,1,1,1,1,1,1,1,1,1,1,1,1,1,1,1,2,2,2,1,1,1,2,1,1,1,1,1,1,1,2,1,1,1,1,1,1,1,1,1,1,2,1,1,1,1,1,1,1,1,9,1,1,1,1,1,1,1,1,1,1,1,1,1,1,1,1,1,1,1,1,1,1,1,1,1,1,1,1,1,1,2,1,1,2,1,1,1,1,1,1,2,1,1,1,1,1,1,1,1,1,1,1,1,1,1,1,1,1,1,1,2,1,1,1,1,1,3,9,1,2,1,1,1,1,1,1,1,1,1,1,1,1,1,1,2,1,1,2,1,1,1,2,1,1,1,1,1,2,1,1,1,1,3,1,1,1,1,1,1,7,1,1,1,1,1,1,1,1,1,1,1,1,1,1,1,1,1,1,1,1,1,1,1,1,1,1,1,1,1,1,1,1,1,1,4,1,1,1,8,5,1,1,1,2,1,1,1,1,1,2,1,9,2,3,1,3,1,1,1,1,1,1,1,1,2,1,1,1,5,1,1,1,1,1,1,1,1,1,1,1,1,1,1,1,1,1,1,1,1,2,1,1,2,1,1,1,1,2,1,1,2,1,1,1,1,1,1,1,1,1,1,1,1,1,4,1,4,1,5,1,1,1,1,1,1,4,1,1,1,1,1,2,1,1,1,1,1,1,1,1,1,1,1,1,1,1,1,1,1,1,1,1,1,1,1,1,1,1,1,1,1,1,1,1,2,1,1,1,1,1,2,1,1,2,1,1,2,2,1,1,1,1,1,1,1,1,1,1,1,1,1,1,1,1,1,1,1,1,1,1,1,3,1,1,1,1,1,1,5,1,2,1,1,1,1,5,1,1,1,1,1,1,1,1,1,1,2,1,1,2,1,1,1,1,1,1,3,2,2,1,4,1,1,1,1,2,1,1,1,1,2,1,1,1,1,1,2,1,2,1,1,1,1,1,1,1,3,2,1,1,1,1,1,1,1,2,1,2,2,1,1,1,1,1,2,2,1,1,1,1,1,1,1,1,1,1,1,1,11,1,1,1,1,2,1,1,1,1,1,1,1,1,1,1,1,1,1,1,8,1,1,1,1,1,1,1,1,1,1,1,1,3,1,1,1,1,1,1,1,1,1,1,2,2,1,1,1,1,1,1,1,1,2,1,2,1,1,1,1,1,1,2,3,1,1,1,1,1,1,1,1,1,1,1,1,1,1,1,1,1,1,1,1,1,1,1,2,1,1,1,1,1,1,2,1,1,3,1,1,1,1,3,1,1,1,1,1,1,1,1,2,1,1,2,1,1,1,1,1,6,1,1,2,1,2,1,1,1,1,1,1,1,2,1,1,1,1,1,1,1,1,1,2,1,1,3,1,2,1,1,1,1,1,1,1,1,2,1,1,1,1,2,1,1,1,1,2,4,1,1,1,3,1,1,1,1,1,1,2,3,1,1,1,2,2,1,1,1,2,5,1,1,1,1,1,1,1,1,1,1,1,1,1,1,4,1,1,1,3,1,1,1,1,1,1,1,1,1,1,2,2,1,1,3,1,1,1,1,1,1,3,2,1,1,1,1,1,1,1,1,1,1,1,1,1,3,2,2,1,1,1,1,1,1,1,1,1,1,1,1,1,1,1,1,2,1,1,1,1,1,1,1,1,1,1,1,1,1,1,1,1,1,1,1,1,1,1,1,4,1,1,2,1,1,1,1,1,1,1,1,1,1,1,1,1,2,1,1,1,1,2,1,1,1,1,1,1,1,1,1,1,1,1,1,1,1,1,1,1,1,1,1,1,2,1,2,1,1,1,1,1,1,1,1,3,2,1,1,1,1,1,2,4,1,1,1,1,1,1,1,2,1,1,1,1,1,2,2,1,1,1,1,5,1,1,1,2,1,2,1,1,1,1,1,1,1,1,1,1,1,2,1,1,1,1,1,1,1,2,1,1,1,1,1,1,1,1,1,4,1,1,1,1,1,1,2,1,1,1,1,1,1,1,1,1,2,1,1,1,3,1,1,1,1,1,1,1,1,1,1,1,1,1,1,1,1,1,1,1,1,2,2,1,1,1,1,1,1,1,6,1,1,1,1,1,1,1,1,1,1,1,1,1,1,1,1,2,1,8,1,2,1,1,1,3,2,1,1,1,2,1,1,2,3,1,1,1,1,1,1,1,3,1,1,1,1,6,1,1,1,1,1,1,1,1,1,2,1,1,1,1,1,1,1,1,1,2,1,1,2,2,1,1,1,1,1,2,1,1,1,1,4,1,1,2,1,1,1,1,2,1,1,1,4,1,1,1,1,1,2,2,1,1,2,1,2,1,1,1,2,1,1,1,1,2,1,1,2,1,1,1,1,2,1,1,2,1,1,1,1,1,1,1,1,1,1,1,2,1,2,1,1,2,1,1,1,1,1,1,1,1,1,1,1,1,3,1,1,1,1,1,1,3,2,1,2,1,1,39,1,1,1,1,1,1,1,1,1,1,1,2,1,1,1,1,2,1,1,2,1,5,1,1,1,1,2,1,2,1,1,1,1,1,1,1,1,1,1,4,1,1,1,2,1,1,2,1,2,1,1,1,1,1,1,1,1,1,1,1,1,1,1,1,1,1,2,1,1,1,1,1,1,3,1,3,1,1,1,1,1,1,2,1,2,1,1,1,2,1,3,1,1,1,2,25,1,1,1,1,1,1,2,1,1,1,1,1,1,2,3,1,1,1,1,1,1,3,2,1,1,1,1,1,1,1,1,1,1,4,1,1,1,1,6,1,1,1,1,1,2,1,1,1,1,2,1,1,1,1,1,1,2,1,1,1,3,1,1,1,1,1,1,1,1,1,3,1,1,1,1,1,1,1,1,1,1,1,1,1,1,1,1,1,2,1,1,2,1,1,4,1,1,1,1,1,1,1,1,1,5,1,1,1,2,1,1,5,2,1,1,1,2,1,1,1,1,1,1,1,1,1,2,1,2,1,1,1,1,1,1,2,3,1,1,1,1,1,1,2,3,1,1,1,1,1,2,4,1,1,1,1,1,1,1,1,1,1,1,13,1,1,1,1,1,5,1,1,1,1,1,1,1,1,1,1,1,1,1,1,1,2,1,1,1,2,1,1,1,1,1,1,1,1,1,3,1,1,1,1,1,1,1,1,1,1,1,1,1,1,2,1,1,1,1,1,1,2,1,8,1,1,1,1,1,1,1,1,1,1,1,1,1,1,1,1,1,1,1,1,1,13,1,3,1,1,1,1,3,1,1,2,1,1,1,1,1,1,1,1,1,1,1,1,1,1,1,1,1,1,2,1,1,1,1,1,1,1,1,1,1,2,1,1,2,1,1,1,1,1,1,1,1,1,1,1,2,1,1,2,1,1,1,1,2,1,1,3,1,1,2,6,3,1,1,2,1,2,1,1,1,4,1,1,1,1,1,1,1,1,1,1,1,1,1,1,1,1,1,1,1,1,1,1,1,1,1,1,1,1,3,1,2,6,1,4,3,1,1,1,1,1,3,1,1,2,1,1,1,1,1,1,1,1,1,1,1,1,2,1,1,1,1,2,1,1,1,1,1,1,1,1,1,1,1,1,1,1,1,1,1,2,1,2,1,2,1,1,1,1,1,1,1,1,5,2,1,1,1,2,1,1,2,1,1,1,1,1,1,1,1,1,1,1,1,2,1,1,3,2,1,2,1,2,1,2,1,1,3,1,2,1,1,1,1,1,1,1,1,1,2,1,1,2,1,1,5,1,1,1,1,1,2,3,1,1,1,1,1,1,1,1,1,1,14,3,1,2,1,1,1,1,1,5,1,1,2,1,2,1,1,1,1,1,1,1,1,1,1,1,2,2,3,1,1,1,1,1,1,1,1,1,1,1,1,1,1,1,1,1,2,1,1,1,1,1,1,1,1,1,1,3,1,1,2,1,1,1,1,1,1,1,1,1,1,1,1,1,1,1,1,1,1,1,1,1,1,1,1,1,1,1,1,2,2,1,1,1,1,1,1,1,1,1,1,1,1,1,1,1,1,1,1,1,1,1,1,1,1,1,1,1,1,1,1,1,1,1,1,1,1,1,1,1,1,1,1,1,1,1,1,1,1,1,1,1,1,1,1,1,1,2,1,1,1,1,1,1,1,1,1,1,1,1,2,1,1,1,1,1,1,1,9,2,1,4,2,1,1,1,2,4,1,1,1,1,1,4,1,1,1,1,1,1,1,1,2,1,1,1,1,1,1,1,1,2,1,1,2,2,1,2,1,1,1,1,1,1,1,1,1,1,1,1,2,1,1,1,1,1,1,1,1,1,1,1,3,2,1,1,2,1,3,2,2,1,1,1,1,1,1,1,1,1,2,2,1,1,8,1,2,1,1,1,1,1,1,1,1,1,1,1,2,1,1,4,1,3,1,1,1,1,1,8,1,1,1,1,1,1,2,1,1,1,1,1,1,1,1,1,1,1,1,1,1,1,1,1,1,1,1,1,2,1,1,1,1,1,1,1,5,1,1,1,1,1,2,1,1,1,1,1,1,1,1,1,1,2,1,1,1,1,1,1,1,1,1,1,1,2,1,1,2,1,1,5,1,1,1,1,1,1,1,1,1,1,1,1,1,1,1,1,1,1,1,1,1,2,1,1,1,1,1,4,1,1,1,1,2,2,1,1,1,1,1,1,1,2,1,1,1,1,2,1,1,1,1,1,1,1,2,1,1,1,1,1,2,1,1,1,1,1,1,1,1,1,3,1,1,1,1,1,1,3,1,1,1,1,2,2,1,1,1,1,2,1,3,2,1,1,1,1,1,1,1,1,1,1,1,1,1,1,1,1,2,1,1,2,1,1,1,1,1,1,6,1,13,1,1,1,1,1,1,1,3,1,1,1,1,2,1,2,2,1,1,4,7,1,3,1,2,1,2,1,1,1,1,1,2,1,1,1,1,1,1,1,1,1,1,1,1,1,1,2,1,1,1,1,1,1,1,1,1,1,1,1,1,1,1,1,1,2,2,1,1,1,1,1,1,1,1,1,1,1,1,1,2,1,1,1,2,1,1,1,1,1,3,1,2,1,1,3,1,1,1,7,1,1,1,1,1,2,4,1,1,2,2,1,1,1,1,1,1,1,1,1,1,1,1,1,4,1,1,2,3,5,1,1,1,1,1,1,1,1,2,1,1,1,1,1,1,1,2,1,1,1,1,1,1,1,1,1,1,1,1,1,1,1,1,1,1,2,1,1,1,1,1,1,1,1,1,1,1,1,1,1,3,1,1,4,1,1,1,1,1,1,1,1,1,2,1,1,3,1,1,1,3,1,1,1,1,2,1,1,1,1,3,1,1,8,1,1,1,1,1,1,1,1,3,1,1,1,1,1,1,1,1,1,1,1,1,2,1,1,2,1,1,2,1,1,1,1,1,1,1,1,1,3,1,1,1,1,1,2,1,3,2,1,1,1,1,1,1,1,1,2,2,1,1,1,2,2,1,1,1,1,1,1,1,1],\"radii\":[0.1,0.1,0.1,0.1,0.2,0.4,0.1,0.4,0.1,0.2,0.1,0.1,0.1,0.1,0.1,0.1,0.1,0.1,0.1,0.1,0.1,0.2,0.1,0.1,0.2,0.1,0.2,0.2,0.1,0.1,0.2,0.30000000000000004,0.4,0.1,0.1,0.4,0.1,0.1,0.1,0.1,0.2,0.1,0.1,0.1,0.2,0.1,0.2,0.1,0.1,0.1,0.30000000000000004,0.1,0.1,0.1,0.1,0.1,0.1,0.1,0.1,0.2,0.1,0.2,0.1,0.1,0.1,0.2,0.1,0.1,0.1,0.2,0.1,0.1,0.1,0.1,0.1,0.1,0.1,0.1,0.1,0.1,0.1,0.1,0.2,0.1,0.1,0.1,0.1,0.1,0.1,0.1,0.1,0.1,0.2,0.1,0.1,0.1,0.2,0.1,0.1,0.1,0.1,0.1,0.1,0.2,0.1,0.2,0.1,0.1,0.1,0.1,0.1,0.1,0.1,0.2,0.1,0.1,0.1,0.1,0.1,0.1,0.2,0.4,0.4,0.1,0.1,0.1,0.1,0.1,0.1,0.1,0.1,0.1,0.1,0.1,0.2,0.1,0.1,0.1,0.1,0.30000000000000004,0.1,0.1,0.1,0.1,0.1,0.1,0.1,0.1,0.4,0.2,0.1,0.1,0.2,0.4,0.1,0.1,0.1,0.1,0.1,0.30000000000000004,0.1,0.1,0.1,0.1,0.1,0.1,0.1,0.1,0.1,0.1,0.2,0.1,0.2,0.1,0.1,0.1,0.1,0.1,0.1,0.1,0.1,0.1,0.1,0.1,0.1,0.6000000000000001,0.1,0.1,0.1,0.1,0.1,0.1,0.2,0.1,0.1,0.1,0.1,0.1,0.2,0.1,0.1,0.1,0.4,0.1,0.1,0.1,0.1,0.1,0.1,0.1,0.1,0.1,0.1,0.1,0.1,0.1,0.1,0.1,0.1,0.2,0.1,0.1,0.1,0.1,0.1,0.1,0.1,0.1,0.30000000000000004,0.1,0.1,0.2,0.1,0.2,0.1,0.1,0.1,0.1,0.5,0.1,0.2,0.1,0.1,0.1,0.1,0.1,0.1,0.1,0.2,0.1,0.2,0.1,0.1,0.1,0.1,0.1,0.1,0.1,0.1,0.1,0.1,0.1,0.1,0.1,0.1,0.1,0.1,0.1,0.1,0.1,0.1,0.1,0.1,0.1,0.1,0.1,0.1,0.1,0.1,0.1,0.1,0.1,0.1,0.1,0.1,0.2,0.2,0.1,0.30000000000000004,0.1,0.1,0.1,0.1,0.30000000000000004,0.1,0.1,0.1,0.1,0.1,0.1,0.1,0.1,0.1,0.1,0.1,0.1,0.1,0.1,0.1,0.1,0.1,0.1,0.1,0.1,0.1,0.2,0.1,0.1,0.1,0.1,0.1,0.1,0.2,0.1,0.1,0.1,0.1,0.30000000000000004,0.1,0.1,0.1,0.1,0.1,0.1,0.1,0.2,0.1,0.1,0.1,0.1,0.1,0.1,0.1,0.1,0.1,0.1,0.1,0.1,0.2,0.30000000000000004,0.1,0.2,0.1,0.2,0.1,0.1,0.1,0.1,0.1,0.2,0.30000000000000004,0.1,0.1,0.1,0.1,0.1,0.1,0.1,0.1,0.1,0.1,0.4,0.1,0.2,0.1,0.1,0.1,0.1,0.1,0.1,0.1,0.1,0.1,0.2,0.1,0.1,0.1,0.1,0.1,0.1,0.1,0.1,0.1,0.1,0.1,0.1,0.30000000000000004,0.1,0.1,0.30000000000000004,0.30000000000000004,0.1,0.1,0.1,0.1,0.2,0.1,0.1,0.1,0.2,0.1,0.1,0.2,0.1,0.30000000000000004,0.1,0.1,0.1,0.1,0.1,0.2,0.1,0.1,0.1,0.1,0.1,0.1,0.2,0.1,0.2,0.1,0.2,0.1,0.1,0.1,0.1,0.1,0.1,0.1,0.1,0.1,0.1,0.30000000000000004,0.1,0.1,0.1,0.1,0.1,0.1,0.1,0.1,0.1,0.1,0.1,0.1,0.1,0.1,0.1,0.2,0.1,0.1,0.1,0.1,0.2,0.1,0.2,0.1,0.1,0.1,0.1,0.1,0.1,0.1,0.1,0.1,0.30000000000000004,0.1,0.2,0.1,0.1,0.1,0.1,0.1,0.2,0.1,0.1,0.1,0.1,0.1,0.1,0.1,0.1,0.1,0.2,0.30000000000000004,0.1,0.1,0.1,0.1,0.1,0.1,0.1,0.2,0.1,0.1,0.2,0.1,0.1,0.1,0.1,0.1,0.5,0.2,0.1,0.2,0.2,0.1,0.30000000000000004,0.1,0.1,0.6000000000000001,0.2,0.1,0.2,0.1,0.1,0.1,0.1,0.2,0.1,0.1,0.1,0.1,0.1,0.1,0.1,0.1,0.1,0.4,0.1,0.1,0.1,0.1,0.1,0.1,0.1,0.1,0.1,0.1,0.1,0.2,0.1,0.1,0.1,0.30000000000000004,0.4,0.1,0.1,0.2,0.1,0.1,0.1,0.1,0.1,0.1,0.1,0.1,0.1,0.1,0.2,0.1,0.2,0.1,0.1,0.2,0.1,0.1,0.1,0.1,0.1,0.1,0.1,0.1,0.1,0.5,0.1,0.1,0.1,0.1,0.1,0.1,0.1,0.7000000000000001,0.1,0.1,0.1,0.1,0.2,0.1,0.1,0.2,0.1,0.1,0.1,0.1,0.1,0.1,0.1,0.1,0.2,0.2,0.1,0.1,0.2,0.1,0.1,0.1,0.1,0.2,0.1,0.1,0.1,0.1,0.1,0.1,0.1,0.1,0.4,0.1,0.1,0.1,0.1,0.1,0.1,0.2,0.1,0.1,0.1,0.1,0.2,0.1,0.1,0.1,0.1,0.1,0.1,0.1,0.2,0.1,0.1,0.2,0.1,0.1,0.1,0.1,0.30000000000000004,0.1,0.1,0.1,0.1,0.1,0.30000000000000004,0.2,1.0,0.9,0.1,0.1,0.1,0.1,0.1,0.1,0.1,0.1,0.1,0.1,0.1,0.2,0.1,0.1,0.1,0.1,0.2,0.1,0.1,0.1,0.1,0.2,0.1,0.1,0.1,0.1,0.1,0.1,0.1,0.1,0.1,0.1,0.1,0.1,0.1,0.4,0.1,0.2,0.1,0.1,0.1,0.1,0.1,0.1,0.1,0.30000000000000004,0.1,0.1,0.1,0.1,0.1,0.1,0.1,0.1,0.2,0.1,0.1,0.1,0.1,0.1,0.1,0.1,0.1,0.1,0.1,0.1,0.1,0.1,0.1,0.2,0.2,0.1,0.1,0.1,0.1,0.1,0.1,0.1,0.30000000000000004,0.1,0.6000000000000001,0.1,0.1,0.1,0.1,0.1,0.2,0.1,0.1,0.2,0.1,0.1,0.1,0.1,0.1,0.1,0.2,0.1,0.1,0.30000000000000004,0.1,0.1,0.1,0.1,0.1,0.1,0.1,0.1,0.2,0.1,0.2,0.30000000000000004,0.1,0.1,0.1,0.1,0.1,0.2,0.1,0.1,0.1,0.2,0.1,0.1,0.1,0.1,0.1,0.1,0.1,0.1,0.1,0.1,0.1,0.1,0.1,0.1,0.1,0.1,0.1,0.30000000000000004,0.1,0.1,0.1,0.1,0.1,0.1,0.1,0.1,0.1,0.1,0.1,0.1,0.1,0.1,0.1,0.1,0.2,0.1,0.1,0.1,0.1,0.2,0.1,0.2,0.2,0.1,0.1,0.1,0.5,0.1,0.4,0.1,0.1,0.1,0.1,0.2,0.1,0.1,0.30000000000000004,0.1,0.1,0.1,0.1,0.1,0.1,0.2,0.1,0.1,0.1,0.1,0.1,0.8,0.1,0.2,0.1,0.2,0.1,0.1,0.1,0.1,0.1,0.30000000000000004,0.1,0.2,0.1,0.1,0.1,0.1,0.1,0.1,0.1,0.1,0.1,0.2,0.1,0.2,0.1,0.1,0.1,0.1,0.1,0.30000000000000004,0.1,0.1,0.1,0.2,0.1,0.1,0.1,0.1,0.1,0.1,0.1,0.1,0.2,0.1,0.1,0.1,0.1,0.1,0.30000000000000004,0.2,0.2,0.1,0.2,0.1,0.1,0.1,0.1,0.30000000000000004,0.1,0.1,0.1,0.1,0.1,0.1,0.1,0.5,0.1,0.30000000000000004,0.1,0.1,0.1,0.1,0.1,0.1,0.1,0.1,0.1,0.1,0.1,0.2,0.1,0.2,0.9,0.1,0.1,0.1,0.1,0.1,0.1,0.1,0.1,0.6000000000000001,0.1,0.4,0.1,0.1,0.1,0.1,0.2,0.1,0.1,0.1,0.1,0.1,0.1,0.2,0.1,0.1,0.1,0.1,0.1,0.2,0.1,0.1,0.1,0.1,0.2,0.1,0.1,0.1,0.2,0.1,0.1,0.1,0.1,0.1,0.1,0.1,0.1,0.1,0.1,0.1,0.1,0.2,0.1,0.1,0.2,0.1,0.1,0.1,0.1,0.1,0.1,0.1,0.1,0.1,0.1,0.1,0.1,0.1,0.1,0.1,0.1,0.1,0.1,0.1,0.1,0.1,0.1,0.2,0.1,0.1,0.1,0.1,0.1,0.30000000000000004,0.1,0.1,0.1,0.1,0.1,0.1,0.1,0.1,0.1,0.1,0.30000000000000004,0.1,0.1,0.1,0.1,0.1,0.1,0.30000000000000004,0.1,0.1,0.1,0.1,0.1,0.1,0.1,0.1,0.1,0.1,0.1,0.2,0.1,0.1,0.1,0.1,0.1,0.1,0.1,0.1,0.1,0.1,0.2,0.1,0.1,0.2,0.1,0.1,0.1,0.1,0.30000000000000004,0.30000000000000004,0.1,0.2,0.1,0.1,0.1,0.1,0.1,0.1,0.1,0.1,0.1,0.2,0.4,0.1,0.1,0.1,0.1,0.1,0.30000000000000004,0.1,0.1,0.1,0.1,0.1,0.1,0.1,0.1,0.1,0.1,0.1,0.1,0.1,0.1,4.2,0.1,0.1,0.1,0.1,1.0,0.5,0.1,0.2,0.1,0.1,0.1,0.1,0.1,0.1,0.1,0.1,0.1,0.1,0.1,0.30000000000000004,0.2,0.1,0.4,0.1,0.1,0.2,0.1,0.1,0.1,0.1,0.1,0.1,0.4,0.1,0.1,0.1,0.1,0.2,0.1,0.1,0.1,0.1,0.2,0.1,0.1,0.1,0.1,0.1,0.1,0.1,0.1,0.1,0.1,0.1,0.7000000000000001,0.1,0.1,0.1,0.2,0.1,0.1,0.1,0.1,0.8,0.2,0.1,0.1,0.1,0.1,0.4,0.1,0.1,0.1,0.1,0.1,0.1,0.1,0.2,0.1,0.1,0.1,0.1,0.2,0.1,0.2,0.1,0.2,0.4,0.1,0.1,0.30000000000000004,0.1,0.1,0.1,0.1,0.1,0.1,0.1,0.1,0.1,0.1,0.1,0.1,0.2,0.1,0.1,0.1,0.1,0.1,0.1,0.1,0.1,0.1,0.1,0.1,0.1,0.1,0.1,0.1,0.2,0.2,0.1,0.1,0.30000000000000004,0.1,0.1,0.1,0.1,0.1,0.6000000000000001,0.1,0.1,0.1,0.30000000000000004,0.1,0.1,0.1,0.6000000000000001,0.2,0.1,0.1,0.1,1.4000000000000001,0.1,0.1,0.1,0.1,0.1,0.1,0.1,0.1,0.1,0.1,0.2,0.1,0.2,0.1,0.1,0.1,0.1,0.1,0.2,0.1,0.30000000000000004,0.30000000000000004,0.1,0.1,0.1,0.1,0.1,0.1,0.1,0.1,0.1,0.2,0.2,0.1,0.1,0.1,0.1,0.1,0.1,0.1,0.1,0.1,0.1,0.1,0.1,0.1,0.1,0.1,0.1,0.1,0.1,0.1,0.1,0.1,0.1,0.2,0.1,0.1,0.1,0.1,0.1,0.1,0.1,0.1,0.1,0.1,0.4,0.30000000000000004,0.1,0.1,0.1,0.1,0.1,0.1,0.1,0.1,0.1,0.1,0.1,0.1,0.2,0.1,0.1,0.1,0.1,0.2,0.2,0.1,0.1,0.1,0.1,0.1,0.30000000000000004,0.1,0.1,0.5,0.1,0.1,0.1,0.1,0.2,0.1,0.1,0.1,0.1,0.1,0.1,0.1,0.1,0.1,0.1,0.1,0.1,0.30000000000000004,0.2,0.2,0.1,0.1,0.1,0.1,0.1,1.0,0.1,0.1,0.1,0.1,0.1,0.1,0.1,0.1,0.1,0.1,0.2,0.1,0.1,0.1,0.1,0.1,0.1,0.1,0.1,0.1,0.2,0.1,0.1,0.1,0.1,0.30000000000000004,0.2,0.1,0.1,0.1,0.1,0.2,0.1,0.1,0.1,0.1,0.1,0.1,0.1,0.1,0.1,0.1,0.2,0.1,0.1,0.1,0.1,0.1,0.1,0.1,0.1,0.1,0.1,0.4,0.2,0.1,0.1,0.1,0.2,0.1,0.1,0.1,0.1,0.1,0.1,0.1,0.1,0.1,0.1,0.1,0.1,0.1,0.2,0.1,0.1,0.1,0.4,0.1,0.1,0.1,0.1,0.1,0.1,0.1,0.1,0.2,0.1,0.2,0.1,0.1,0.1,0.1,0.4,0.1,0.1,0.1,0.1,0.1,0.1,0.2,0.1,0.1,0.1,0.2,0.1,0.1,0.1,0.1,0.1,0.1,0.1,0.4,0.1,0.30000000000000004,0.1,0.1,0.1,0.8,0.1,0.1,0.1,0.1,0.1,0.2,0.1,0.1,0.4,0.1,0.1,0.2,0.1,0.1,0.2,0.1,0.1,0.1,0.2,0.1,0.1,0.1,0.1,0.1,0.1,0.1,0.1,0.1,0.1,0.1,0.1,0.1,0.1,0.1,0.1,0.1,0.1,0.1,0.1,0.1,0.2,0.1,0.1,0.1,0.1,0.1,0.1,0.1,0.1,0.2,0.30000000000000004,0.1,0.1,0.1,0.1,0.1,0.2,0.30000000000000004,0.1,0.1,0.1,0.6000000000000001,0.1,0.1,0.1,0.1,0.1,0.1,0.1,0.1,0.1,0.1,0.1,0.2,0.1,0.1,0.1,0.1,0.1,0.1,0.1,0.1,0.1,0.2,0.1,0.1,0.30000000000000004,0.1,0.1,0.1,0.1,0.1,0.1,0.1,0.1,0.1,0.1,0.1,0.1,0.1,0.1,0.1,0.1,0.2,0.1,0.30000000000000004,0.1,0.1,0.1,0.1,0.1,0.1,0.1,0.1,0.2,0.1,0.1,0.1,0.2,0.1,0.1,0.1,0.2,0.1,0.1,0.1,0.1,0.1,1.3,0.1,0.1,0.1,0.1,0.30000000000000004,0.1,0.1,0.1,0.1,0.1,0.1,0.30000000000000004,0.1,0.1,0.30000000000000004,0.1,0.1,0.1,0.1,0.1,0.1,0.1,0.1,0.1,0.1,0.1,0.1,0.1,0.1,0.1,0.4,0.1,0.1,0.1,0.2,0.1,0.1,0.1,0.1,0.1,0.1,0.1,0.6000000000000001,0.1,0.1,0.1,0.1,0.1,0.1,0.1,0.1,0.1,0.1,0.1,0.1,0.1,0.1,0.30000000000000004,0.2,0.1,0.2,0.1,0.1,0.1,0.1,0.2,0.1,0.4,1.2000000000000002,0.1,0.2,0.30000000000000004,1.1,0.1,0.1,0.1,0.1,0.1,0.1,0.1,0.1,0.1,0.30000000000000004,0.1,0.1,0.1,0.1,0.1,0.1,0.1,0.1,0.1,0.1,0.1,0.1,0.1,0.30000000000000004,0.1,0.1,0.1,0.1,0.1,0.2,0.1,0.1,0.1,0.2,0.1,0.1,0.1,0.1,0.1,0.1,0.1,0.1,0.30000000000000004,0.1,0.1,0.1,0.2,0.30000000000000004,0.1,0.1,0.2,0.1,0.1,0.1,0.30000000000000004,0.1,0.2,0.1,0.1,0.1,0.1,0.1,0.1,0.1,0.1,0.1,0.1,0.1,0.2,0.1,0.1,0.1,0.1,0.1,0.6000000000000001,0.1,0.2,0.1,0.1,0.1,0.1,0.1,0.1,0.1,0.1,0.2,0.1,0.1,0.1,0.1,0.1,0.2,0.1,0.1,0.1,0.1,0.1,0.1,0.1,0.1,0.1,0.1,0.1,0.1,0.1,0.30000000000000004,0.1,0.1,0.1,0.1,0.30000000000000004,0.1,0.1,0.1,0.1,0.1,0.1,0.1,0.2,0.1,0.1,0.1,0.1,0.30000000000000004,0.1,0.1,0.1,0.1,0.1,0.1,0.1,0.2,0.1,0.1,0.1,0.1,0.1,0.1,0.30000000000000004,0.1,0.1,0.1,0.1,0.1,0.1,0.1,0.1,0.1,0.1,0.1,0.1,0.1,0.1,0.1,0.1,0.1,0.1,0.1,0.1,0.1,0.1,0.1,0.1,0.1,0.1,0.1,0.1,0.1,0.2,0.1,0.1,0.1,0.1,0.1,0.1,0.1,0.1,0.1,0.1,0.2,0.1,0.1,0.2,0.1,0.1,0.1,0.1,0.1,0.1,0.1,0.1,0.2,0.1,0.1,0.1,0.1,0.1,0.1,0.1,0.1,0.1,0.1,0.2,0.2,0.1,0.1,0.1,0.1,0.1,0.1,0.1,0.2,0.1,0.1,0.1,0.1,0.2,0.30000000000000004,0.1,0.1,0.1,0.1,0.1,0.1,0.1,0.1,0.1,0.1,0.2,0.1,0.1,0.1,0.1,0.30000000000000004,0.1,0.1,0.1,0.1,0.1,0.2,0.1,0.1,0.1,0.1,0.2,0.1,0.1,0.1,0.1,0.1,0.1,0.4,0.1,0.1,0.1,0.2,0.1,0.1,0.1,0.1,0.2,0.1,0.1,0.1,0.1,0.4,0.1,0.1,0.1,0.1,0.2,0.1,0.1,0.1,0.1,0.1,0.8,0.2,0.1,0.1,0.1,0.2,0.2,0.1,0.1,0.1,0.1,0.1,0.1,0.1,0.1,0.1,0.2,0.2,0.1,0.1,0.2,0.1,0.1,0.1,0.2,0.2,0.1,0.1,0.2,0.1,0.1,0.1,0.1,0.1,0.1,0.1,0.1,0.1,0.2,0.1,0.1,0.1,0.1,0.1,0.1,0.1,0.1,0.2,0.30000000000000004,0.1,0.2,0.1,0.1,0.1,0.1,0.1,0.2,0.2,0.1,0.1,0.30000000000000004,0.1,0.1,0.1,0.1,0.1,0.2,0.2,0.30000000000000004,0.1,0.1,0.1,0.1,0.1,0.1,0.1,0.1,0.1,0.1,0.1,0.4,0.1,0.1,0.1,0.1,2.9000000000000004,0.1,0.1,0.1,0.1,0.1,0.2,0.1,0.2,0.1,0.30000000000000004,0.1,0.1,0.1,0.1,0.1,0.1,0.1,0.1,0.2,0.1,0.1,0.1,0.1,0.1,0.1,0.1,0.1,0.1,0.1,0.2,0.1,0.1,0.1,0.1,0.1,0.1,0.1,0.2,0.1,0.2,0.1,0.1,0.1,0.1,0.1,0.2,0.1,0.1,0.1,0.1,0.1,0.2,0.1,0.1,0.2,0.1,0.1,0.30000000000000004,0.1,0.1,0.1,0.1,0.2,0.1,0.1,0.1,0.1,0.1,0.1,0.30000000000000004,0.1,0.2,0.1,0.1,0.1,0.1,0.1,0.30000000000000004,0.2,0.1,0.1,0.1,0.2,0.2,0.1,0.1,0.1,0.1,0.1,0.1,0.30000000000000004,0.1,0.1,0.1,0.1,0.2,0.1,0.1,0.1,0.30000000000000004,0.4,0.1,0.1,0.1,0.1,0.1,0.1,0.1,0.1,0.1,0.1,0.2,0.2,0.1,0.1,0.1,0.1,0.30000000000000004,0.1,0.2,0.1,0.1,0.1,0.1,0.1,0.2,0.7000000000000001,0.1,0.1,0.1,0.1,0.5,0.8,0.8,0.1,0.1,0.1,0.6000000000000001,0.1,0.1,0.1,1.0,0.1,0.1,0.2,0.5,0.30000000000000004,0.1,0.2,0.2,0.2,0.1,0.1,0.1,0.1,0.1,0.1,0.1,0.1,0.2,0.2,0.1,0.1,0.2,0.1,0.1,0.1,0.1,0.1,0.1,0.1,0.1,0.1,0.1,0.2,0.1,0.30000000000000004,0.2,0.1,0.2,0.1,0.2,0.1,0.1,0.1,0.1,0.1,0.2,0.1,0.2,0.1,0.1,0.1,0.1,0.1,0.1,0.1,0.1,0.1,0.1,0.1,0.1,0.2,0.1,0.2,0.1,0.1,0.30000000000000004,0.1,0.1,0.1,0.1,0.1,0.1,0.1,0.1,0.1,0.1,0.1,0.5,0.2,0.1,0.4,0.6000000000000001,0.1,0.1,0.1,0.1,0.1,0.1,0.1,0.1,0.1,0.2,0.7000000000000001,0.1,0.1,0.2,0.1,0.1,0.1,0.1,0.1,0.1,0.1,0.1,0.1,0.1,0.2,0.1,0.1,0.2,0.2,0.1,0.2,0.30000000000000004,0.1,0.1,0.1,0.1,0.1,0.1,0.2,0.1,0.1,0.2,0.1,0.1,1.2000000000000002,0.9,0.1,0.2,0.7000000000000001,0.1,0.2,0.2,0.1,0.1,0.1,0.1,0.1,0.1,0.1,0.1,0.1,0.1,0.2,0.1,0.1,0.2,0.1,0.1,0.30000000000000004,0.1,0.1,0.1,0.1,0.1,0.1,0.1,0.1,0.6000000000000001,0.1,0.30000000000000004,0.1,0.1,0.2,0.1,0.1,0.1,0.2,0.1,0.1,0.1,0.1,0.2,0.1,0.1,0.1,0.2,0.1,0.1,0.30000000000000004,0.1,0.1,0.1,0.1,0.1,0.1,0.1,0.1,0.1,0.1,0.1,0.2,0.1,0.1,0.1,0.1,0.1,0.1,0.1,0.4,0.1,0.2,0.1,0.1,0.1,0.1,0.1,0.1,0.1,0.1,0.2,0.1,0.1,0.1,0.1,0.1,0.1,0.1,0.1,0.1,0.1,0.1,0.1,0.1,0.1,0.1,0.1,0.1,0.1,0.1,0.1,0.1,0.1,0.1,0.1,0.2,0.1,0.1,0.1,0.2,0.1,0.1,0.1,0.2,0.2,0.1,0.1,0.1,0.1,0.1,0.1,0.1,0.2,0.1,0.1,0.4,0.1,0.1,0.1,0.2,0.1,0.1,0.1,0.1,0.1,0.1,0.2,0.1,0.30000000000000004,0.1,0.1,0.1,0.2,0.1,0.1,0.1,0.1,0.2,0.1,0.1,0.1,0.1,0.2,0.1,0.1,0.1,0.1,0.1,0.2,0.1,0.1,0.1,0.1,0.1,0.1,0.1,0.2,0.1,0.2,0.1,0.1,0.1,0.1,0.1,0.1,0.1,0.1,0.2,0.1,0.1,0.1,0.1,0.1,0.1,0.1,0.1,0.2,0.2,0.1,0.1,0.1,0.1,0.2,0.1,0.1,0.1,0.1,0.1,0.1,0.1,0.2,0.1,0.1,0.1,0.2,0.1,0.1,0.1,0.1,0.1,0.1,0.1,0.1,0.1,0.1,0.1,0.1,0.1,0.1,0.4,0.1,0.1,0.1,0.1,0.1,0.1,0.1,0.1,0.2,0.1,0.1,0.30000000000000004,0.1,0.2,0.2,0.1,0.1,0.1,0.1,0.1,0.1,0.1,0.1,0.1,0.1,0.1,0.1,0.1,0.1,0.2,0.2,0.1,0.2,0.2,0.1,0.1,0.1,0.1,0.1,0.1,0.1,0.1,0.1,0.1,0.1,0.2,0.30000000000000004,0.1,0.1,0.4,0.1,0.1,0.1,0.1,0.1,0.1,0.1,0.1,0.1,0.1,0.2,0.1,0.1,0.1,0.1,0.1,0.1,0.1,0.1,0.1,0.1,0.1,0.1,0.1,0.1,0.1,0.1,0.1,0.1,0.1,0.4,0.1,0.1,0.1,0.1,0.1,0.1,0.1,0.30000000000000004,0.1,0.1,0.1,0.1,0.1,0.1,0.4,0.1,0.1,0.1,0.1,0.1,0.1,0.4,0.1,0.1,0.1,0.1,0.1,0.1,0.1,0.1,0.1,0.1,0.4,0.1,0.4,0.1,0.30000000000000004,0.1,0.1,0.1,0.1,0.1,0.1,0.1,0.1,0.4,0.1,0.1,0.1,1.2000000000000002,0.1,0.1,0.1,0.1,0.1,0.1,0.1,0.1,0.1,0.2,0.30000000000000004,0.1,0.2,0.1,0.1,0.1,0.1,0.1,0.1,0.1,0.1,0.1,0.2,0.2,0.1,0.1,0.1,0.1,0.1,0.1,0.1,0.1,0.1,0.1,0.1,0.1,0.1,0.1,0.30000000000000004,0.1,0.2,0.1,0.1,0.1,0.1,0.1,0.4,0.1,0.1,0.1,0.30000000000000004,0.4,0.1,0.1,0.1,0.1,0.2,0.1,0.1,0.2,0.1,0.1,0.2,0.1,0.1,0.1,0.1,0.1,0.1,0.1,0.2,0.1,0.1,0.1,0.1,0.1,0.1,0.2,0.1,0.1,0.30000000000000004,0.1,0.1,0.2,0.1,0.1,0.1,0.1,0.1,0.1,0.1,0.1,0.1,0.1,0.1,0.1,0.1,0.4,0.1,0.1,0.1,0.1,0.1,0.1,0.1,0.1,0.1,0.1,0.1,0.1,0.1,0.1,0.1,0.1,0.1,0.1,0.1,0.1,0.30000000000000004,0.1,0.1,0.1,0.1,0.1,0.1,0.1,0.1,0.1,0.1,0.1,0.30000000000000004,0.1,0.1,0.1,0.2,0.1,0.1,0.30000000000000004,0.1,0.1,0.1,0.2,0.1,0.1,0.1,0.1,0.1,0.1,0.1,0.2,0.1,0.30000000000000004,0.1,0.1,0.1,0.1,0.1,0.1,0.1,0.1,0.1,0.1,0.5,0.1,0.2,0.1,0.1,0.2,0.1,0.1,0.1,0.1,0.1,0.2,0.1,0.1,0.1,0.1,0.1,0.1,0.1,0.2,0.1,0.1,0.1,0.1,0.1,0.2,0.1,0.1,0.1,0.1,0.1,0.2,0.1,0.1,0.1,0.1,0.1,0.1,0.1,0.1,0.1,0.2,0.1,0.1,0.30000000000000004,0.30000000000000004,0.1,1.7000000000000002,0.1,0.1,0.1,0.1,0.2,0.1,0.1,0.1,0.1,0.1,0.1,0.2,0.2,0.1,0.1,0.1,0.1,0.1,0.1,0.1,0.1,0.1,0.1,0.1,0.1,0.1,0.2,0.1,0.1,0.1,0.1,0.1,0.1,0.1,0.1,0.1,0.1,0.1,0.30000000000000004,0.1,0.1,0.1,0.1,0.1,0.2,0.1,0.1,0.2,0.1,0.2,0.1,0.1,0.1,0.1,0.1,0.1,0.2,0.2,0.1,0.30000000000000004,0.1,0.1,0.1,0.2,0.2,0.1,0.1,0.2,0.1,0.4,0.1,0.1,0.1,0.1,0.2,0.30000000000000004,0.1,0.1,0.2,0.1,0.30000000000000004,0.1,0.1,0.1,0.1,0.1,0.1,0.30000000000000004,0.1,0.1,0.4,0.1,0.1,0.2,0.1,0.1,0.1,0.1,0.1,0.30000000000000004,0.1,0.1,0.1,0.1,0.1,0.1,0.1,0.1,0.1,0.1,0.1,0.2,0.1,0.2,0.2,0.1,0.1,0.1,0.1,0.1,0.1,0.1,0.1,0.1,0.1,0.2,0.1,0.2,0.1,0.1,0.1,0.2,0.1,0.1,0.1,0.1,0.2,0.1,0.1,0.1,0.1,0.1,0.1,0.1,0.1,0.1,0.1,0.1,0.1,0.1,0.1,0.1,0.1,0.1,0.30000000000000004,0.1,0.1,0.1,0.1,0.1,0.1,0.1,0.1,0.1,0.30000000000000004,0.1,0.1,0.1,0.1,0.1,0.1,0.1,0.1,0.1,0.1,0.1,0.1,0.1,0.1,0.1,0.1,0.1,0.1,0.1,0.1,0.1,0.1,0.1,0.1,0.1,0.1,0.1,0.1,0.2,0.30000000000000004,0.1,0.1,0.1,0.1,0.30000000000000004,0.30000000000000004,0.1,0.1,0.2,0.1,0.1,0.1,0.1,0.1,0.1,0.2,0.1,0.2,0.1,0.1,0.1,0.1,0.1,0.1,0.1,0.1,0.1,0.1,0.1,0.2,0.1,0.1,0.1,0.1,0.1,0.1,0.1,0.1,0.1,0.1,0.1,0.1,0.1,0.1,0.1,0.1,0.1,0.1,0.1,0.1,0.1,0.1,0.1,0.1,0.1,0.1,0.1,0.1,0.1,0.1,0.1,0.1,0.7000000000000001,0.2,0.1,0.1,0.1,0.1,0.1,0.1,0.1,0.1,0.1,0.1,0.1,0.1,0.1,0.1,0.1,0.30000000000000004,0.1,0.1,0.1,0.2,0.1,0.1,0.30000000000000004,0.2,0.1,0.1,0.1,0.1,0.1,0.1,0.1,0.1,0.1,0.1,0.1,0.1,0.1,1.5,0.1,0.1,0.1,0.1,0.1,0.1,0.1,0.1,0.1,0.1,0.1,0.1,0.2,0.7000000000000001,0.1,0.1,0.1,0.1,0.2,0.2,0.1,0.1,0.1,0.1,0.1,0.1,0.1,0.1,0.1,0.1,0.1,0.2,0.2,0.1,0.1,0.4,0.2,0.1,0.1,0.1,0.5,0.1,0.1,0.1,0.1,0.1,0.1,0.1,0.1,0.2,0.5,0.1,0.1,0.1,0.1,0.1,0.1,0.1,0.7000000000000001,0.1,0.1,0.1,0.1,0.1,0.2,0.1,0.1,0.1,0.1,0.1,0.1,0.1,0.1,0.1,0.1,0.1,0.1,0.1,0.1,0.1,0.1,0.1,0.1,0.1,0.1,0.1,0.1,0.1,0.30000000000000004,0.1,0.1,0.1,0.1,0.1,0.1,0.1,0.2,0.2,0.1,0.1,0.30000000000000004,0.1,0.1,0.2,0.1,0.1,0.1,0.1,0.1,0.1,0.1,0.1,0.1,0.1,0.2,0.30000000000000004,0.2,0.1,0.1,0.2,0.1,0.1,0.1,0.4,0.1,0.4,0.1,0.1,0.2,0.1,0.1,0.1,0.4,0.1,0.2,0.1,0.1,0.1,0.1,0.1,0.1,0.2,0.1,0.1,0.1,0.1,0.1,0.1,0.1,0.1,0.1,0.1,0.2,0.1,0.1,0.2,0.1,0.1,0.1,0.1,0.1,0.1,0.1,0.2,0.4,0.1,0.30000000000000004,0.1,0.1,0.1,0.1,0.2,0.1,0.1,0.1,0.1,0.1,0.1,0.1,0.1,0.1,0.1,0.1,0.1,0.1,0.1,0.1,0.1,0.1,0.1,0.1,0.1,0.1,0.1,0.1,0.1,0.1,0.1,0.1,0.2,0.1,0.1,0.1,0.1,0.2,0.1,0.1,0.1,0.2,0.1,0.1,0.1,0.1,0.1,0.2,0.1,0.1,0.1,0.1,0.1,0.1,0.1,0.1,0.5,0.4,0.1,0.1,0.1,1.1,0.1,0.1,0.1,0.1,0.1,0.1,0.1,0.1,0.1,0.30000000000000004,0.30000000000000004,0.1,0.1,0.1,0.1,0.1,0.1,0.1,0.1,0.1,0.30000000000000004,0.1,0.1,0.1,0.1,0.1,0.1,0.1,0.1,0.2,0.1,0.1,0.1,0.1,0.1,0.1,0.1,0.1,0.1,0.1,0.1,0.1,0.1,0.2,0.1,0.2,0.1,0.1,0.1,0.1,0.1,0.1,0.1,0.1,0.1,0.1,0.1,0.1,0.1,0.2,0.1,0.1,0.1,0.1,0.1,0.1,0.1,0.1,0.1,0.1,0.1,0.30000000000000004,0.1,0.1,0.1,0.1,0.2,0.1,0.1,0.30000000000000004,0.1,0.1,0.1,0.1,0.1,0.1,0.1,0.1,0.1,0.1,0.1,0.2,0.1,0.1,0.1,0.1,0.1,0.1,0.1,0.1,0.1,0.1,0.1,0.1,0.1,0.2,0.1,0.1,0.1,0.1,0.30000000000000004,0.1,0.1,0.1,0.1,0.2,0.1,0.2,0.1,0.1,0.1,0.1,0.1,0.1,0.1,0.8,0.1,0.1,0.1,0.2,0.1,0.1,0.1,0.1,0.1,0.1,0.2,0.1,0.2,0.30000000000000004,0.1,0.2,0.1,0.2,0.1,0.1,0.2,0.1,0.1,0.1,0.1,0.1,0.7000000000000001,0.1,0.1,0.30000000000000004,0.9,2.4000000000000004,0.1,0.4,0.2,0.1,0.1,0.1,0.1,0.1,0.1,0.1,0.1,0.1,0.1,0.1,0.2,0.1,0.1,0.1,0.1,0.1,0.1,0.1,0.2,0.30000000000000004,0.2,0.1,0.1,0.2,0.1,0.30000000000000004,0.1,0.1,0.2,0.1,0.1,0.2,0.1,0.2,0.1,0.1,0.1,0.1,0.1,0.1,0.1,0.1,0.1,0.1,0.1,0.30000000000000004,0.2,0.1,0.1,0.1,0.1,0.1,0.4,0.1,0.1,0.1,0.2,0.1,0.1,0.30000000000000004,0.1,0.1,0.1,0.1,0.30000000000000004,0.2,0.1,0.1,0.1,0.2,0.2,0.1,0.1,0.1,0.2,0.1,0.1,0.2,0.4,0.30000000000000004,0.1,0.4,0.1,0.1,0.1,0.2,0.1,0.1,0.1,0.2,0.1,0.1,0.1,0.1,0.1,0.2,0.1,1.7000000000000002,0.1,0.1,0.1,0.1,0.1,0.1,0.1,0.1,0.1,0.1,0.1,0.1,0.1,0.1,0.1,0.2,0.1,0.1,0.1,0.1,0.1,0.1,0.1,0.1,0.1,0.1,0.1,0.1,0.1,0.1,0.1,0.1,0.1,0.1,5.800000000000001,0.1,0.2,0.1,0.30000000000000004,0.1,0.2,0.1,0.1,0.1,0.1,0.1,0.1,0.1,0.1,0.1,0.1,0.1,0.1,0.1,0.1,0.1,0.1,0.1,0.1,0.1,0.1,0.1,0.1,0.1,0.1,0.1,0.1,0.1,0.1,0.1,0.1,0.1,0.1,0.1,0.1,0.1,0.1,0.1,0.1,0.2,0.1,0.1,0.1,0.1,0.1,0.1,0.1,0.1,0.1,0.1,0.1,0.2,0.1,0.1,0.1,0.1,0.1,0.2,0.4,0.1,0.1,0.1,0.1,0.1,0.1,0.1,0.1,0.1,0.1,0.4,0.1,0.1,0.1,0.1,0.2,0.2,0.1,0.1,0.1,0.2,0.1,0.1,0.1,0.1,0.1,0.1,0.1,0.1,0.1,0.30000000000000004,0.1,0.1,0.1,0.1,0.1,0.1,0.1,0.1,0.1,0.6000000000000001,0.1,0.1,0.1,0.1,0.1,0.2,0.2,0.1,0.1,0.1,0.1,0.1,0.2,0.1,0.1,0.1,0.1,0.30000000000000004,0.1,0.2,0.1,0.1,0.2,0.1,0.1,0.1,0.1,0.1,0.1,0.1,0.1,0.1,0.1,0.1,0.1,0.1,0.1,0.1,0.1,0.1,0.1,0.1,0.1,0.1,0.1,0.1,0.1,0.1,0.9,0.1,0.1,0.1,0.1,0.1,0.2,0.1,0.2,0.1,0.1,0.1,0.1,0.1,0.1,0.1,0.1,0.1,0.1,0.1,0.1,0.1,0.1,0.1,0.1,0.1,0.1,0.1,0.1,0.1,0.1,0.30000000000000004,0.1,0.1,0.1,0.1,0.1,0.1,0.1,0.1,0.1,0.1,0.1,0.2,0.1,0.1,0.1,0.1,0.1,0.1,0.1,0.2,0.1,0.1,0.1,0.2,0.1,0.1,0.1,0.1,0.1,0.1,0.1,0.1,0.1,0.1,0.1,0.2,0.1,0.1,0.1,0.1,0.1,0.1,0.2,0.1,0.1,0.1,0.1,0.1,0.1,0.1,0.1,0.1,0.1,0.1,5.0,0.1,0.2,0.1,0.6000000000000001,0.1,0.6000000000000001,0.1,0.1,0.1,0.1,0.1,0.1,0.1,0.1,0.1,0.7000000000000001,0.1,0.1,0.1,0.1,0.1,0.1,0.1,0.1,0.1,0.1,0.1,0.1,0.1,0.1,0.2,0.1,0.1,0.2,0.1,0.1,0.1,0.9,0.1,0.1,0.1,0.1,0.2,0.1,0.1,0.1,0.1,0.1,0.1,0.1,0.2,0.1,0.1,0.1,0.1,0.1,0.1,0.1,0.1,0.1,0.1,0.1,0.1,0.1,0.1,0.1,0.1,0.1,0.1,0.1,0.1,0.1,0.1,0.1,0.1,0.1,0.30000000000000004,0.1,0.1,0.1,0.1,0.1,0.1,0.1,0.1,0.1,0.30000000000000004,0.1,0.1,0.30000000000000004,0.1,0.2,0.1,0.1,0.1,0.1,0.2,0.1,0.1,0.1,0.1,0.2,0.2,0.1,0.1,0.2,0.1,0.4,0.1,0.1,0.1,0.1,0.2,0.1,0.1,0.2,0.1,0.1,0.1,0.2,0.1,0.30000000000000004,0.2,0.1,0.2,0.2,0.1,0.1,0.1,0.1,0.1,0.1,0.1,0.30000000000000004,0.1,0.1,0.2,0.30000000000000004,0.1,0.1,0.1,0.1,0.1,0.2,0.1,0.30000000000000004,0.2,0.1,0.1,0.1,0.2,0.2,0.1,0.1,0.1,0.1,0.2,0.1,0.1,0.1,0.2,0.1,0.1,0.1,0.1,0.2,0.1,0.1,0.1,0.1,0.1,0.1,0.1,0.1,0.1,0.1,0.1,0.1,0.1,0.30000000000000004,0.1,0.1,0.1,0.1,0.1,0.1,0.2,0.1,0.1,0.1,0.1,0.1,0.1,0.1,0.1,0.2,0.1,0.1,0.1,0.1,0.1,0.1,0.1,0.1,0.1,0.1,0.1,0.1,0.1,0.1,0.1,0.1,0.1,0.30000000000000004,0.1,0.1,0.1,0.2,0.1,0.1,0.1,0.1,0.2,0.1,0.1,0.1,0.1,0.1,0.2,0.1,0.1,0.1,0.1,0.1,0.1,0.1,0.4,0.1,0.1,0.1,0.1,0.1,0.2,0.1,0.1,0.1,0.1,0.1,0.1,0.1,0.1,0.1,0.1,0.1,0.1,0.1,0.1,0.1,0.1,0.2,0.1,0.1,0.1,0.1,0.1,0.1,0.1,0.1,0.1,0.1,0.2,0.1,0.2,0.1,0.1,0.1,0.1,0.1,0.1,0.2,0.1,0.30000000000000004,0.1,0.1,0.1,0.2,0.1,0.1,0.1,0.1,0.30000000000000004,0.2,0.1,0.2,0.1,0.1,0.1,0.4,0.1,0.2,0.1,0.1,0.1,0.2,0.2,0.1,0.1,0.2,0.1,0.1,0.1,0.1,0.1,0.1,0.1,0.2,0.1,0.1,0.1,0.1,0.1,0.2,0.1,0.1,0.5,0.1,0.2,0.1,0.1,0.1,0.9,0.1,0.1,0.1,0.2,0.1,0.1,0.1,0.1,0.2,0.1,0.1,0.1,0.1,0.1,0.2,0.1,0.1,0.4,0.1,0.1,0.1,0.1,0.6000000000000001,0.1,0.1,0.1,0.1,0.1,0.1,0.2,0.1,0.1,0.1,0.1,0.1,0.1,0.1,0.2,0.1,0.2,0.1,0.1,0.1,0.1,0.1,0.1,0.1,0.1,0.1,0.1,0.1,0.1,0.2,0.1,0.1,0.1,0.1,0.1,0.1,0.1,0.2,0.1,0.1,0.1,0.1,0.2,0.1,0.1,0.1,0.1,0.2,0.1,0.1,0.1,0.1,0.1,0.1,0.2,0.1,0.1,0.1,0.1,0.1,0.1,0.2,0.1,0.2,0.1,0.1,0.1,0.1,0.1,0.1,0.1,0.1,0.1,0.1,0.1,0.1,0.1,0.2,0.1,0.1,0.1,0.1,0.30000000000000004,0.1,0.2,0.1,0.1,0.1,0.1,0.1,0.1,0.1,0.1,0.1,0.1,0.2,0.1,0.1,0.1,0.1,0.1,0.2,0.1,0.1,0.1,0.1,0.1,0.1,0.1,0.1,0.1,0.1,0.1,0.1,0.30000000000000004,0.1,0.2,0.1,0.5,0.1,0.1,0.1,0.1,0.1,0.1,0.1,0.1,0.1,0.1,0.1,0.1,0.1,0.1,0.1,0.1,0.1,0.1,0.1,0.1,0.1,0.1,0.1,0.1,0.1,0.1,0.1,0.1,0.1,0.1,0.1,0.1,0.1,0.1,0.1,0.2,0.1,0.1,0.2,0.1,0.1,0.1,0.1,0.1,0.1,0.1,0.1,0.1,0.1,0.1,0.1,0.1,0.1,0.1,0.1,0.1,0.1,0.1,0.30000000000000004,0.1,0.2,0.1,0.2,0.2,0.2,0.1,0.1,0.1,0.1,0.1,0.1,0.1,0.1,0.1,0.2,0.1,0.1,0.1,0.1,0.1,0.1,0.1,0.2,0.6000000000000001,0.1,0.1,0.1,0.2,0.1,0.1,0.2,0.30000000000000004,0.7000000000000001,0.1,0.1,0.1,0.1,0.1,0.1,0.1,0.1,0.1,0.1,0.1,0.5,0.1,0.1,0.1,0.1,0.2,0.1,0.1,0.1,0.1,0.1,0.1,0.1,0.1,0.4,0.2,0.1,0.1,0.2,0.1,0.2,0.1,0.1,0.1,0.1,0.1,0.2,0.1,0.1,0.1,0.1,0.1,0.1,0.1,0.1,0.1,0.2,0.1,0.1,0.1,0.1,0.1,0.1,0.1,0.1,0.1,0.1,0.1,0.2,0.1,0.2,0.2,0.1,0.1,0.1,0.1,0.2,0.1,0.1,0.1,0.1,0.1,0.30000000000000004,0.5,0.2,0.1,0.1,0.1,0.1,0.2,0.1,0.2,0.1,0.1,0.1,0.1,0.1,0.1,0.1,0.1,0.1,0.1,0.1,0.1,0.1,0.1,0.2,0.2,0.1,0.1,0.1,0.1,0.1,0.4,0.1,0.1,0.1,0.1,0.1,0.1,0.1,0.1,0.30000000000000004,0.2,0.2,0.1,0.1,0.1,0.1,0.1,0.1,0.2,0.30000000000000004,0.1,0.2,0.1,0.1,0.1,0.1,0.1,0.1,0.1,0.1,0.1,0.1,0.1,0.2,0.1,0.1,0.1,0.1,0.1,0.1,0.1,0.2,0.1,0.1,0.1,0.1,0.1,0.1,0.2,0.1,0.1,0.2,0.30000000000000004,0.1,0.1,0.1,0.1,0.1,0.1,0.2,0.1,0.1,0.1,0.1,0.1,0.1,0.1,0.1,0.2,0.1,0.1,0.1,0.1,0.2,0.1,0.1,0.1,0.1,0.1,0.1,0.1,0.1,0.2,0.1,0.1,0.1,0.1,0.1,0.1,0.2,0.1,0.1,0.1,0.1,0.1,0.1,0.1,0.1,0.1,0.1,0.1,0.1,0.1,0.1,0.1,0.1,0.1,0.1,0.1,0.1,0.1,0.1,0.2,0.1,0.1,0.1,0.1,0.1,0.1,0.2,0.1,0.1,0.1,0.1,0.1,0.1,0.1,0.1,0.1,0.1,0.1,0.1,0.1,0.1,0.1,0.1,0.1,0.5,0.1,0.2,0.1,0.1,0.1,0.1,0.1,0.1,0.1,0.2,0.2,0.1,0.1,0.1,0.1,0.1,0.1,0.1,0.1,0.7000000000000001,0.2,0.1,0.1,0.1,0.1,0.1,0.1,0.1,0.1,0.2,0.1,0.2,0.1,0.1,0.1,0.1,0.1,0.1,0.1,0.1,0.1,0.1,0.1,0.30000000000000004,0.1,0.1,0.1,0.1,0.1,0.1,0.1,0.1,0.1,0.1,0.1,0.1,0.1,0.1,0.1,0.2,0.1,0.1,0.1,0.1,0.1,0.1,0.1,0.1,0.1,0.1,0.1,0.1,0.1,0.1,0.1,0.1,0.1,0.1,1.8,0.1,0.1,0.1,0.1,0.1,0.1,0.1,0.7000000000000001,0.1,0.1,0.1,0.30000000000000004,1.5,0.1,0.1,0.2,0.1,0.6000000000000001,0.1,0.1,0.2,0.1,0.2,0.1,0.1,0.1,0.30000000000000004,0.1,0.1,0.1,0.1,0.1,0.2,0.1,0.1,0.2,0.1,0.2,0.1,0.1,0.1,0.1,0.1,0.1,0.1,0.1,0.1,0.1,0.1,0.1,0.1,0.1,0.1,0.1,0.1,0.1,0.1,0.1,0.1,0.2,0.1,0.1,0.1,0.1,0.1,0.1,0.1,0.2,0.2,0.1,0.7000000000000001,0.1,0.1,0.1,0.2,0.1,0.1,0.4,0.1,0.1,0.1,0.1,0.1,0.2,0.1,0.1,0.5,0.1,0.2,0.1,0.1,0.1,0.1,0.1,0.1,0.1,0.2,0.1,0.1,0.1,0.1,0.1,0.1,0.1,0.1,0.1,0.1,0.1,0.1,0.1,0.1,0.1,0.1,0.1,0.1,0.1,0.1,0.1,0.2,0.1,0.1,0.1,0.1,0.1,0.1,0.1,0.1,0.1,0.1,0.1,0.1,0.1,0.1,0.1,0.1,0.1,0.1,0.1,0.1,0.2,0.1,0.1,0.1,0.1,0.4,0.1,0.1,0.30000000000000004,0.1,0.30000000000000004,0.1,0.1,0.1,0.1,0.1,0.1,0.2,0.1,0.2,0.1,0.4,0.1,0.1,0.30000000000000004,0.2,0.1,0.1,0.1,0.1,0.1,0.1,0.1,0.1,0.1,0.1,0.1,0.1,0.1,0.2,0.1,0.1,0.1,0.1,0.1,0.1,0.1,0.1,0.1,0.1,0.2,0.1,0.1,0.1,0.1,0.1,0.1,0.1,0.1,0.1,0.1,0.1,0.1,0.1,0.2,0.1,0.1,0.1,0.1,0.1,0.2,0.1,0.1,0.1,0.1,0.1,0.1,0.1,0.1,0.1,0.1,0.1,0.1,0.1,0.1,0.1,0.1,0.2,0.1,0.1,0.1,0.1,0.1,0.2,0.1,0.1,0.2,0.6000000000000001,0.1,0.1,0.1,0.1,0.1,0.1,0.1,0.1,0.1,0.1,0.1,0.1,0.1,0.2,0.1,0.1,0.1,0.4,0.1,0.1,0.2,0.1,0.1,0.1,0.1,0.1,0.1,0.1,0.1,0.1,0.1,0.1,0.1,0.1,0.1,0.1,0.1,0.1,0.1,0.1,0.1,0.1,0.1,0.1,0.1,0.2,0.1,0.1,0.1,0.1,0.1,0.1,0.5,0.1,0.1,0.1,0.1,0.1,0.1,0.1,0.1,0.1,0.1,0.1,0.1,0.1,0.1,0.1,0.1,0.1,0.1,0.1,0.1,0.1,0.1,0.1,0.1,0.1,0.1,0.1,0.1,0.1,0.1,0.30000000000000004,0.1,0.1,0.1,0.1,0.1,0.1,0.4,0.2,0.1,0.1,0.1,0.1,0.1,0.1,0.1,0.1,0.1,0.2,0.1,0.1,0.1,0.1,0.1,0.1,0.1,0.1,0.1,0.1,0.1,0.1,0.1,0.1,0.1,0.1,0.1,0.1,0.1,0.8,0.1,0.1,0.1,0.4,0.1,0.1,0.1,0.1,0.1,0.1,0.1,0.1,0.1,0.1,2.8000000000000003,0.1,0.1,0.1,0.1,0.1,0.1,0.30000000000000004,0.2,0.30000000000000004,0.1,0.1,0.1,0.30000000000000004,0.1,0.1,0.2,0.1,0.30000000000000004,0.2,0.1,0.1,0.2,0.1,0.1,0.1,0.1,0.1,0.1,0.1,0.1,0.1,0.1,0.7000000000000001,0.1,0.1,0.1,0.1,0.1,0.1,0.1,0.1,0.1,0.1,0.1,0.1,0.1,0.1,0.1,0.1,0.1,0.1,0.1,0.1,0.1,0.2,0.1,0.1,0.1,0.1,0.1,0.1,0.30000000000000004,0.1,0.1,0.1,0.1,0.2,0.1,0.1,0.1,0.1,0.1,0.1,0.4,0.9,0.1,0.1,0.1,0.1,0.1,0.30000000000000004,0.1,0.1,0.1,0.2,0.1,0.1,0.1,0.1,0.1,0.1,0.30000000000000004,0.1,0.1,0.1,0.5,0.1,0.1,0.1,0.1,0.1,0.1,0.1,0.1,0.4,0.1,0.30000000000000004,0.1,0.2,0.1,0.1,0.30000000000000004,0.1,0.1,0.1,0.1,0.1,0.6000000000000001,0.1,0.1,0.1,0.1,0.1,0.30000000000000004,0.1,0.1,0.1,0.1,0.1,0.30000000000000004,0.2,0.1,0.1,0.1,0.2,0.1,0.1,0.1,0.1,0.1,0.2,0.1,0.1,0.1,0.1,0.1,0.1,0.1,0.1,0.1,0.1,0.1,0.2,0.5,0.2,0.1,0.1,0.2,0.1,0.1,0.1,0.1,0.1,0.2,0.1,0.1,0.1,0.1,0.1,0.1,0.1,0.1,0.1,0.1,0.1,0.1,0.1,0.2,0.1,0.1,0.1,0.1,0.1,0.1,0.1,0.1,0.1,0.1,0.1,0.1,0.1,0.1,0.1,0.1,0.1,0.1,0.1,0.1,0.30000000000000004,0.4,0.1,0.1,0.1,0.1,0.1,0.1,0.1,0.1,0.1,0.1,0.1,0.1,0.2,0.1,0.1,0.1,0.2,0.1,0.1,0.1,0.1,0.30000000000000004,0.1,0.1,0.1,0.1,0.1,0.1,0.1,0.1,0.1,0.1,0.1,0.1,0.1,0.1,0.1,0.1,0.4,0.1,0.1,0.1,0.1,0.1,0.2,0.1,0.1,0.1,0.1,0.1,0.1,0.1,0.1,0.1,0.1,0.1,0.2,0.2,0.30000000000000004,0.1,0.1,0.1,0.1,0.1,0.2,0.1,0.1,0.1,0.2,0.1,0.30000000000000004,0.4,0.1,0.1,0.1,0.1,0.1,0.1,0.1,0.1,0.1,0.1,0.1,0.1,0.1,0.1,0.1,0.1,0.2,0.1,0.1,0.1,0.1,0.1,0.1,0.1,0.1,0.1,0.1,0.1,0.1,0.2,0.1,0.2,0.1,0.1,0.1,0.1,0.1,0.1,0.1,0.1,0.2,0.1,0.1,0.2,0.1,0.1,0.1,0.1,0.1,0.1,0.1,0.1,0.2,0.1,0.4,0.1,0.1,0.1,0.1,0.1,0.2,0.1,0.1,0.1,0.1,0.1,0.1,0.1,0.1,0.1,0.1,0.2,0.1,0.1,0.1,0.1,0.1,0.2,0.1,0.1,0.1,0.1,0.30000000000000004,0.1,0.1,0.2,0.1,0.1,0.5,0.1,0.1,0.1,0.1,0.1,0.1,0.1,0.1,0.2,0.1,0.1,0.1,0.1,0.30000000000000004,0.1,0.1,0.1,0.1,0.1,0.1,0.30000000000000004,0.1,0.1,0.1,0.1,0.30000000000000004,0.2,0.1,0.1,0.1,0.1,0.1,0.1,0.1,0.1,0.1,0.1,0.1,0.1,0.1,0.2,0.1,0.1,0.1,0.1,0.1,0.2,0.2,0.1,0.1,0.1,0.1,0.1,0.1,0.1,0.1,0.1,0.1,0.1,0.1,0.1,0.1,0.1,0.1,0.1,0.1,0.1,0.1,0.1,0.1,0.1,0.1,0.2,0.1,0.30000000000000004,0.1,0.1,0.1,0.1,0.1,0.1,0.1,0.1,0.1,0.1,0.1,0.1,0.1,0.1,0.1,0.1,0.1,0.1,0.1,0.1,0.1,0.2,0.1,0.1,0.1,0.1,0.1,0.1,0.1,0.1,0.1,0.1,0.1,0.1,0.1,0.1,0.1,0.1,0.1,0.1,0.1,0.1,0.1,0.7000000000000001,0.1,0.2,0.1,0.1,0.1,0.1,0.1,0.2,0.1,0.1,0.1,0.1,0.1,0.1,0.1,0.1,0.1,0.1,0.1,0.2,0.1,0.1,0.30000000000000004,0.1,0.1,0.2,0.1,0.1,0.1,0.1,0.1,0.1,0.1,0.1,0.1,0.1,0.1,0.1,0.2,0.1,0.4,0.1,0.1,0.1,0.1,0.1,0.1,0.1,0.1,0.1,0.1,0.2,0.1,0.1,0.1,0.1,0.1,0.1,0.1,0.1,0.1,0.1,0.30000000000000004,0.1,0.1,0.1,0.2,0.1,0.1,0.1,0.1,0.5,0.1,0.1,0.1,0.1,0.1,0.1,0.1,0.1,0.1,0.1,0.1,0.2,0.1,0.2,0.1,0.1,0.1,0.1,0.1,0.1,0.1,0.1,0.2,0.1,0.2,0.30000000000000004,0.1,0.1,0.4,0.6000000000000001,0.1,0.1,0.1,0.1,0.1,0.1,0.2,0.1,0.1,0.1,0.1,0.1,0.1,0.5,0.1,0.1,0.1,0.1,0.1,0.1,0.1,0.1,0.1,0.1,0.2,0.2,0.1,0.1,0.5,0.1,0.1,0.1,0.1,0.1,0.1,0.30000000000000004,0.30000000000000004,0.2,0.1,0.1,0.1,0.1,0.1,0.1,0.1,0.1,0.1,0.1,0.1,0.1,0.1,0.1,0.1,0.1,0.2,0.2,0.2,0.1,0.1,0.1,0.2,0.1,0.1,0.1,0.1,0.1,0.1,0.1,0.2,0.1,0.1,0.1,0.1,0.1,0.1,0.1,0.1,0.1,0.1,0.2,0.1,0.1,0.1,0.1,0.1,0.1,0.1,0.1,0.9,0.1,0.1,0.1,0.1,0.1,0.1,0.1,0.1,0.1,0.1,0.1,0.1,0.1,0.1,0.1,0.1,0.1,0.1,0.1,0.1,0.1,0.1,0.1,0.1,0.1,0.1,0.1,0.1,0.1,0.1,0.2,0.1,0.1,0.2,0.1,0.1,0.1,0.1,0.1,0.1,0.2,0.1,0.1,0.1,0.1,0.1,0.1,0.1,0.1,0.1,0.1,0.1,0.1,0.1,0.1,0.1,0.1,0.1,0.1,0.1,0.2,0.1,0.1,0.1,0.1,0.1,0.30000000000000004,0.9,0.1,0.2,0.1,0.1,0.1,0.1,0.1,0.1,0.1,0.1,0.1,0.1,0.1,0.1,0.1,0.1,0.2,0.1,0.1,0.2,0.1,0.1,0.1,0.2,0.1,0.1,0.1,0.1,0.1,0.2,0.1,0.1,0.1,0.1,0.30000000000000004,0.1,0.1,0.1,0.1,0.1,0.1,0.7000000000000001,0.1,0.1,0.1,0.1,0.1,0.1,0.1,0.1,0.1,0.1,0.1,0.1,0.1,0.1,0.1,0.1,0.1,0.1,0.1,0.1,0.1,0.1,0.1,0.1,0.1,0.1,0.1,0.1,0.1,0.1,0.1,0.1,0.1,0.1,0.4,0.1,0.1,0.1,0.8,0.5,0.1,0.1,0.1,0.2,0.1,0.1,0.1,0.1,0.1,0.2,0.1,0.9,0.2,0.30000000000000004,0.1,0.30000000000000004,0.1,0.1,0.1,0.1,0.1,0.1,0.1,0.1,0.2,0.1,0.1,0.1,0.5,0.1,0.1,0.1,0.1,0.1,0.1,0.1,0.1,0.1,0.1,0.1,0.1,0.1,0.1,0.1,0.1,0.1,0.1,0.1,0.1,0.2,0.1,0.1,0.2,0.1,0.1,0.1,0.1,0.2,0.1,0.1,0.2,0.1,0.1,0.1,0.1,0.1,0.1,0.1,0.1,0.1,0.1,0.1,0.1,0.1,0.4,0.1,0.4,0.1,0.5,0.1,0.1,0.1,0.1,0.1,0.1,0.4,0.1,0.1,0.1,0.1,0.1,0.2,0.1,0.1,0.1,0.1,0.1,0.1,0.1,0.1,0.1,0.1,0.1,0.1,0.1,0.1,0.1,0.1,0.1,0.1,0.1,0.1,0.1,0.1,0.1,0.1,0.1,0.1,0.1,0.1,0.1,0.1,0.1,0.1,0.2,0.1,0.1,0.1,0.1,0.1,0.2,0.1,0.1,0.2,0.1,0.1,0.2,0.2,0.1,0.1,0.1,0.1,0.1,0.1,0.1,0.1,0.1,0.1,0.1,0.1,0.1,0.1,0.1,0.1,0.1,0.1,0.1,0.1,0.1,0.1,0.1,0.30000000000000004,0.1,0.1,0.1,0.1,0.1,0.1,0.5,0.1,0.2,0.1,0.1,0.1,0.1,0.5,0.1,0.1,0.1,0.1,0.1,0.1,0.1,0.1,0.1,0.1,0.2,0.1,0.1,0.2,0.1,0.1,0.1,0.1,0.1,0.1,0.30000000000000004,0.2,0.2,0.1,0.4,0.1,0.1,0.1,0.1,0.2,0.1,0.1,0.1,0.1,0.2,0.1,0.1,0.1,0.1,0.1,0.2,0.1,0.2,0.1,0.1,0.1,0.1,0.1,0.1,0.1,0.30000000000000004,0.2,0.1,0.1,0.1,0.1,0.1,0.1,0.1,0.2,0.1,0.2,0.2,0.1,0.1,0.1,0.1,0.1,0.2,0.2,0.1,0.1,0.1,0.1,0.1,0.1,0.1,0.1,0.1,0.1,0.1,0.1,1.1,0.1,0.1,0.1,0.1,0.2,0.1,0.1,0.1,0.1,0.1,0.1,0.1,0.1,0.1,0.1,0.1,0.1,0.1,0.1,0.8,0.1,0.1,0.1,0.1,0.1,0.1,0.1,0.1,0.1,0.1,0.1,0.1,0.30000000000000004,0.1,0.1,0.1,0.1,0.1,0.1,0.1,0.1,0.1,0.1,0.2,0.2,0.1,0.1,0.1,0.1,0.1,0.1,0.1,0.1,0.2,0.1,0.2,0.1,0.1,0.1,0.1,0.1,0.1,0.2,0.30000000000000004,0.1,0.1,0.1,0.1,0.1,0.1,0.1,0.1,0.1,0.1,0.1,0.1,0.1,0.1,0.1,0.1,0.1,0.1,0.1,0.1,0.1,0.1,0.1,0.2,0.1,0.1,0.1,0.1,0.1,0.1,0.2,0.1,0.1,0.30000000000000004,0.1,0.1,0.1,0.1,0.30000000000000004,0.1,0.1,0.1,0.1,0.1,0.1,0.1,0.1,0.2,0.1,0.1,0.2,0.1,0.1,0.1,0.1,0.1,0.6000000000000001,0.1,0.1,0.2,0.1,0.2,0.1,0.1,0.1,0.1,0.1,0.1,0.1,0.2,0.1,0.1,0.1,0.1,0.1,0.1,0.1,0.1,0.1,0.2,0.1,0.1,0.30000000000000004,0.1,0.2,0.1,0.1,0.1,0.1,0.1,0.1,0.1,0.1,0.2,0.1,0.1,0.1,0.1,0.2,0.1,0.1,0.1,0.1,0.2,0.4,0.1,0.1,0.1,0.30000000000000004,0.1,0.1,0.1,0.1,0.1,0.1,0.2,0.30000000000000004,0.1,0.1,0.1,0.2,0.2,0.1,0.1,0.1,0.2,0.5,0.1,0.1,0.1,0.1,0.1,0.1,0.1,0.1,0.1,0.1,0.1,0.1,0.1,0.1,0.4,0.1,0.1,0.1,0.30000000000000004,0.1,0.1,0.1,0.1,0.1,0.1,0.1,0.1,0.1,0.1,0.2,0.2,0.1,0.1,0.30000000000000004,0.1,0.1,0.1,0.1,0.1,0.1,0.30000000000000004,0.2,0.1,0.1,0.1,0.1,0.1,0.1,0.1,0.1,0.1,0.1,0.1,0.1,0.1,0.30000000000000004,0.2,0.2,0.1,0.1,0.1,0.1,0.1,0.1,0.1,0.1,0.1,0.1,0.1,0.1,0.1,0.1,0.1,0.1,0.2,0.1,0.1,0.1,0.1,0.1,0.1,0.1,0.1,0.1,0.1,0.1,0.1,0.1,0.1,0.1,0.1,0.1,0.1,0.1,0.1,0.1,0.1,0.1,0.4,0.1,0.1,0.2,0.1,0.1,0.1,0.1,0.1,0.1,0.1,0.1,0.1,0.1,0.1,0.1,0.1,0.2,0.1,0.1,0.1,0.1,0.2,0.1,0.1,0.1,0.1,0.1,0.1,0.1,0.1,0.1,0.1,0.1,0.1,0.1,0.1,0.1,0.1,0.1,0.1,0.1,0.1,0.1,0.1,0.2,0.1,0.2,0.1,0.1,0.1,0.1,0.1,0.1,0.1,0.1,0.30000000000000004,0.2,0.1,0.1,0.1,0.1,0.1,0.2,0.4,0.1,0.1,0.1,0.1,0.1,0.1,0.1,0.2,0.1,0.1,0.1,0.1,0.1,0.2,0.2,0.1,0.1,0.1,0.1,0.5,0.1,0.1,0.1,0.2,0.1,0.2,0.1,0.1,0.1,0.1,0.1,0.1,0.1,0.1,0.1,0.1,0.1,0.2,0.1,0.1,0.1,0.1,0.1,0.1,0.1,0.2,0.1,0.1,0.1,0.1,0.1,0.1,0.1,0.1,0.1,0.4,0.1,0.1,0.1,0.1,0.1,0.1,0.2,0.1,0.1,0.1,0.1,0.1,0.1,0.1,0.1,0.1,0.2,0.1,0.1,0.1,0.30000000000000004,0.1,0.1,0.1,0.1,0.1,0.1,0.1,0.1,0.1,0.1,0.1,0.1,0.1,0.1,0.1,0.1,0.1,0.1,0.1,0.1,0.2,0.2,0.1,0.1,0.1,0.1,0.1,0.1,0.1,0.6000000000000001,0.1,0.1,0.1,0.1,0.1,0.1,0.1,0.1,0.1,0.1,0.1,0.1,0.1,0.1,0.1,0.1,0.2,0.1,0.8,0.1,0.2,0.1,0.1,0.1,0.30000000000000004,0.2,0.1,0.1,0.1,0.2,0.1,0.1,0.2,0.30000000000000004,0.1,0.1,0.1,0.1,0.1,0.1,0.1,0.30000000000000004,0.1,0.1,0.1,0.1,0.6000000000000001,0.1,0.1,0.1,0.1,0.1,0.1,0.1,0.1,0.1,0.2,0.1,0.1,0.1,0.1,0.1,0.1,0.1,0.1,0.1,0.2,0.1,0.1,0.2,0.2,0.1,0.1,0.1,0.1,0.1,0.2,0.1,0.1,0.1,0.1,0.4,0.1,0.1,0.2,0.1,0.1,0.1,0.1,0.2,0.1,0.1,0.1,0.4,0.1,0.1,0.1,0.1,0.1,0.2,0.2,0.1,0.1,0.2,0.1,0.2,0.1,0.1,0.1,0.2,0.1,0.1,0.1,0.1,0.2,0.1,0.1,0.2,0.1,0.1,0.1,0.1,0.2,0.1,0.1,0.2,0.1,0.1,0.1,0.1,0.1,0.1,0.1,0.1,0.1,0.1,0.1,0.2,0.1,0.2,0.1,0.1,0.2,0.1,0.1,0.1,0.1,0.1,0.1,0.1,0.1,0.1,0.1,0.1,0.1,0.30000000000000004,0.1,0.1,0.1,0.1,0.1,0.1,0.30000000000000004,0.2,0.1,0.2,0.1,0.1,3.9000000000000004,0.1,0.1,0.1,0.1,0.1,0.1,0.1,0.1,0.1,0.1,0.1,0.2,0.1,0.1,0.1,0.1,0.2,0.1,0.1,0.2,0.1,0.5,0.1,0.1,0.1,0.1,0.2,0.1,0.2,0.1,0.1,0.1,0.1,0.1,0.1,0.1,0.1,0.1,0.1,0.4,0.1,0.1,0.1,0.2,0.1,0.1,0.2,0.1,0.2,0.1,0.1,0.1,0.1,0.1,0.1,0.1,0.1,0.1,0.1,0.1,0.1,0.1,0.1,0.1,0.1,0.1,0.2,0.1,0.1,0.1,0.1,0.1,0.1,0.30000000000000004,0.1,0.30000000000000004,0.1,0.1,0.1,0.1,0.1,0.1,0.2,0.1,0.2,0.1,0.1,0.1,0.2,0.1,0.30000000000000004,0.1,0.1,0.1,0.2,2.5,0.1,0.1,0.1,0.1,0.1,0.1,0.2,0.1,0.1,0.1,0.1,0.1,0.1,0.2,0.30000000000000004,0.1,0.1,0.1,0.1,0.1,0.1,0.30000000000000004,0.2,0.1,0.1,0.1,0.1,0.1,0.1,0.1,0.1,0.1,0.1,0.4,0.1,0.1,0.1,0.1,0.6000000000000001,0.1,0.1,0.1,0.1,0.1,0.2,0.1,0.1,0.1,0.1,0.2,0.1,0.1,0.1,0.1,0.1,0.1,0.2,0.1,0.1,0.1,0.30000000000000004,0.1,0.1,0.1,0.1,0.1,0.1,0.1,0.1,0.1,0.30000000000000004,0.1,0.1,0.1,0.1,0.1,0.1,0.1,0.1,0.1,0.1,0.1,0.1,0.1,0.1,0.1,0.1,0.1,0.2,0.1,0.1,0.2,0.1,0.1,0.4,0.1,0.1,0.1,0.1,0.1,0.1,0.1,0.1,0.1,0.5,0.1,0.1,0.1,0.2,0.1,0.1,0.5,0.2,0.1,0.1,0.1,0.2,0.1,0.1,0.1,0.1,0.1,0.1,0.1,0.1,0.1,0.2,0.1,0.2,0.1,0.1,0.1,0.1,0.1,0.1,0.2,0.30000000000000004,0.1,0.1,0.1,0.1,0.1,0.1,0.2,0.30000000000000004,0.1,0.1,0.1,0.1,0.1,0.2,0.4,0.1,0.1,0.1,0.1,0.1,0.1,0.1,0.1,0.1,0.1,0.1,1.3,0.1,0.1,0.1,0.1,0.1,0.5,0.1,0.1,0.1,0.1,0.1,0.1,0.1,0.1,0.1,0.1,0.1,0.1,0.1,0.1,0.1,0.2,0.1,0.1,0.1,0.2,0.1,0.1,0.1,0.1,0.1,0.1,0.1,0.1,0.1,0.30000000000000004,0.1,0.1,0.1,0.1,0.1,0.1,0.1,0.1,0.1,0.1,0.1,0.1,0.1,0.1,0.2,0.1,0.1,0.1,0.1,0.1,0.1,0.2,0.1,0.8,0.1,0.1,0.1,0.1,0.1,0.1,0.1,0.1,0.1,0.1,0.1,0.1,0.1,0.1,0.1,0.1,0.1,0.1,0.1,0.1,0.1,1.3,0.1,0.30000000000000004,0.1,0.1,0.1,0.1,0.30000000000000004,0.1,0.1,0.2,0.1,0.1,0.1,0.1,0.1,0.1,0.1,0.1,0.1,0.1,0.1,0.1,0.1,0.1,0.1,0.1,0.1,0.1,0.2,0.1,0.1,0.1,0.1,0.1,0.1,0.1,0.1,0.1,0.1,0.2,0.1,0.1,0.2,0.1,0.1,0.1,0.1,0.1,0.1,0.1,0.1,0.1,0.1,0.1,0.2,0.1,0.1,0.2,0.1,0.1,0.1,0.1,0.2,0.1,0.1,0.30000000000000004,0.1,0.1,0.2,0.6000000000000001,0.30000000000000004,0.1,0.1,0.2,0.1,0.2,0.1,0.1,0.1,0.4,0.1,0.1,0.1,0.1,0.1,0.1,0.1,0.1,0.1,0.1,0.1,0.1,0.1,0.1,0.1,0.1,0.1,0.1,0.1,0.1,0.1,0.1,0.1,0.1,0.1,0.1,0.1,0.1,0.30000000000000004,0.1,0.2,0.6000000000000001,0.1,0.4,0.30000000000000004,0.1,0.1,0.1,0.1,0.1,0.30000000000000004,0.1,0.1,0.2,0.1,0.1,0.1,0.1,0.1,0.1,0.1,0.1,0.1,0.1,0.1,0.1,0.2,0.1,0.1,0.1,0.1,0.2,0.1,0.1,0.1,0.1,0.1,0.1,0.1,0.1,0.1,0.1,0.1,0.1,0.1,0.1,0.1,0.1,0.1,0.2,0.1,0.2,0.1,0.2,0.1,0.1,0.1,0.1,0.1,0.1,0.1,0.1,0.5,0.2,0.1,0.1,0.1,0.2,0.1,0.1,0.2,0.1,0.1,0.1,0.1,0.1,0.1,0.1,0.1,0.1,0.1,0.1,0.1,0.2,0.1,0.1,0.30000000000000004,0.2,0.1,0.2,0.1,0.2,0.1,0.2,0.1,0.1,0.30000000000000004,0.1,0.2,0.1,0.1,0.1,0.1,0.1,0.1,0.1,0.1,0.1,0.2,0.1,0.1,0.2,0.1,0.1,0.5,0.1,0.1,0.1,0.1,0.1,0.2,0.30000000000000004,0.1,0.1,0.1,0.1,0.1,0.1,0.1,0.1,0.1,0.1,1.4000000000000001,0.30000000000000004,0.1,0.2,0.1,0.1,0.1,0.1,0.1,0.5,0.1,0.1,0.2,0.1,0.2,0.1,0.1,0.1,0.1,0.1,0.1,0.1,0.1,0.1,0.1,0.1,0.2,0.2,0.30000000000000004,0.1,0.1,0.1,0.1,0.1,0.1,0.1,0.1,0.1,0.1,0.1,0.1,0.1,0.1,0.1,0.1,0.1,0.2,0.1,0.1,0.1,0.1,0.1,0.1,0.1,0.1,0.1,0.1,0.30000000000000004,0.1,0.1,0.2,0.1,0.1,0.1,0.1,0.1,0.1,0.1,0.1,0.1,0.1,0.1,0.1,0.1,0.1,0.1,0.1,0.1,0.1,0.1,0.1,0.1,0.1,0.1,0.1,0.1,0.1,0.1,0.1,0.2,0.2,0.1,0.1,0.1,0.1,0.1,0.1,0.1,0.1,0.1,0.1,0.1,0.1,0.1,0.1,0.1,0.1,0.1,0.1,0.1,0.1,0.1,0.1,0.1,0.1,0.1,0.1,0.1,0.1,0.1,0.1,0.1,0.1,0.1,0.1,0.1,0.1,0.1,0.1,0.1,0.1,0.1,0.1,0.1,0.1,0.1,0.1,0.1,0.1,0.1,0.1,0.1,0.1,0.1,0.1,0.1,0.1,0.2,0.1,0.1,0.1,0.1,0.1,0.1,0.1,0.1,0.1,0.1,0.1,0.1,0.2,0.1,0.1,0.1,0.1,0.1,0.1,0.1,0.9,0.2,0.1,0.4,0.2,0.1,0.1,0.1,0.2,0.4,0.1,0.1,0.1,0.1,0.1,0.4,0.1,0.1,0.1,0.1,0.1,0.1,0.1,0.1,0.2,0.1,0.1,0.1,0.1,0.1,0.1,0.1,0.1,0.2,0.1,0.1,0.2,0.2,0.1,0.2,0.1,0.1,0.1,0.1,0.1,0.1,0.1,0.1,0.1,0.1,0.1,0.1,0.2,0.1,0.1,0.1,0.1,0.1,0.1,0.1,0.1,0.1,0.1,0.1,0.30000000000000004,0.2,0.1,0.1,0.2,0.1,0.30000000000000004,0.2,0.2,0.1,0.1,0.1,0.1,0.1,0.1,0.1,0.1,0.1,0.2,0.2,0.1,0.1,0.8,0.1,0.2,0.1,0.1,0.1,0.1,0.1,0.1,0.1,0.1,0.1,0.1,0.1,0.2,0.1,0.1,0.4,0.1,0.30000000000000004,0.1,0.1,0.1,0.1,0.1,0.8,0.1,0.1,0.1,0.1,0.1,0.1,0.2,0.1,0.1,0.1,0.1,0.1,0.1,0.1,0.1,0.1,0.1,0.1,0.1,0.1,0.1,0.1,0.1,0.1,0.1,0.1,0.1,0.1,0.2,0.1,0.1,0.1,0.1,0.1,0.1,0.1,0.5,0.1,0.1,0.1,0.1,0.1,0.2,0.1,0.1,0.1,0.1,0.1,0.1,0.1,0.1,0.1,0.1,0.2,0.1,0.1,0.1,0.1,0.1,0.1,0.1,0.1,0.1,0.1,0.1,0.2,0.1,0.1,0.2,0.1,0.1,0.5,0.1,0.1,0.1,0.1,0.1,0.1,0.1,0.1,0.1,0.1,0.1,0.1,0.1,0.1,0.1,0.1,0.1,0.1,0.1,0.1,0.1,0.2,0.1,0.1,0.1,0.1,0.1,0.4,0.1,0.1,0.1,0.1,0.2,0.2,0.1,0.1,0.1,0.1,0.1,0.1,0.1,0.2,0.1,0.1,0.1,0.1,0.2,0.1,0.1,0.1,0.1,0.1,0.1,0.1,0.2,0.1,0.1,0.1,0.1,0.1,0.2,0.1,0.1,0.1,0.1,0.1,0.1,0.1,0.1,0.1,0.30000000000000004,0.1,0.1,0.1,0.1,0.1,0.1,0.30000000000000004,0.1,0.1,0.1,0.1,0.2,0.2,0.1,0.1,0.1,0.1,0.2,0.1,0.30000000000000004,0.2,0.1,0.1,0.1,0.1,0.1,0.1,0.1,0.1,0.1,0.1,0.1,0.1,0.1,0.1,0.1,0.1,0.2,0.1,0.1,0.2,0.1,0.1,0.1,0.1,0.1,0.1,0.6000000000000001,0.1,1.3,0.1,0.1,0.1,0.1,0.1,0.1,0.1,0.30000000000000004,0.1,0.1,0.1,0.1,0.2,0.1,0.2,0.2,0.1,0.1,0.4,0.7000000000000001,0.1,0.30000000000000004,0.1,0.2,0.1,0.2,0.1,0.1,0.1,0.1,0.1,0.2,0.1,0.1,0.1,0.1,0.1,0.1,0.1,0.1,0.1,0.1,0.1,0.1,0.1,0.1,0.2,0.1,0.1,0.1,0.1,0.1,0.1,0.1,0.1,0.1,0.1,0.1,0.1,0.1,0.1,0.1,0.1,0.1,0.2,0.2,0.1,0.1,0.1,0.1,0.1,0.1,0.1,0.1,0.1,0.1,0.1,0.1,0.1,0.2,0.1,0.1,0.1,0.2,0.1,0.1,0.1,0.1,0.1,0.30000000000000004,0.1,0.2,0.1,0.1,0.30000000000000004,0.1,0.1,0.1,0.7000000000000001,0.1,0.1,0.1,0.1,0.1,0.2,0.4,0.1,0.1,0.2,0.2,0.1,0.1,0.1,0.1,0.1,0.1,0.1,0.1,0.1,0.1,0.1,0.1,0.1,0.4,0.1,0.1,0.2,0.30000000000000004,0.5,0.1,0.1,0.1,0.1,0.1,0.1,0.1,0.1,0.2,0.1,0.1,0.1,0.1,0.1,0.1,0.1,0.2,0.1,0.1,0.1,0.1,0.1,0.1,0.1,0.1,0.1,0.1,0.1,0.1,0.1,0.1,0.1,0.1,0.1,0.1,0.2,0.1,0.1,0.1,0.1,0.1,0.1,0.1,0.1,0.1,0.1,0.1,0.1,0.1,0.1,0.30000000000000004,0.1,0.1,0.4,0.1,0.1,0.1,0.1,0.1,0.1,0.1,0.1,0.1,0.2,0.1,0.1,0.30000000000000004,0.1,0.1,0.1,0.30000000000000004,0.1,0.1,0.1,0.1,0.2,0.1,0.1,0.1,0.1,0.30000000000000004,0.1,0.1,0.8,0.1,0.1,0.1,0.1,0.1,0.1,0.1,0.1,0.30000000000000004,0.1,0.1,0.1,0.1,0.1,0.1,0.1,0.1,0.1,0.1,0.1,0.1,0.2,0.1,0.1,0.2,0.1,0.1,0.2,0.1,0.1,0.1,0.1,0.1,0.1,0.1,0.1,0.1,0.30000000000000004,0.1,0.1,0.1,0.1,0.1,0.2,0.1,0.30000000000000004,0.2,0.1,0.1,0.1,0.1,0.1,0.1,0.1,0.1,0.2,0.2,0.1,0.1,0.1,0.2,0.2,0.1,0.1,0.1,0.1,0.1,0.1,0.1,0.1],\"x\":{\"__ndarray__\":\"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\",\"dtype\":\"float32\",\"shape\":[8260]},\"y\":{\"__ndarray__\":\"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\",\"dtype\":\"float32\",\"shape\":[8260]}}},\"id\":\"03d41f58-45b1-4493-b05c-3451a5586698\",\"type\":\"ColumnDataSource\"},{\"attributes\":{},\"id\":\"71942dfd-6abd-4d6a-b99d-a3d2f43b1156\",\"type\":\"PanTool\"},{\"attributes\":{\"fill_alpha\":{\"value\":0.1},\"fill_color\":{\"value\":\"#1f77b4\"},\"line_alpha\":{\"value\":0.1},\"line_color\":{\"value\":\"#1f77b4\"},\"radius\":{\"field\":\"radii\",\"units\":\"data\"},\"x\":{\"field\":\"x\"},\"y\":{\"field\":\"y\"}},\"id\":\"e83ec8ff-0914-4dec-b174-5f4bd5d9fc89\",\"type\":\"Circle\"},{\"attributes\":{\"below\":[{\"id\":\"e8126870-6b07-4983-8a2a-24e37cab5dbf\",\"type\":\"LinearAxis\"}],\"left\":[{\"id\":\"1a8c932b-26dd-41e4-a4eb-5cb5e5707123\",\"type\":\"LinearAxis\"}],\"renderers\":[{\"id\":\"e8126870-6b07-4983-8a2a-24e37cab5dbf\",\"type\":\"LinearAxis\"},{\"id\":\"929211bf-c5e9-4a29-91df-c18cea94504b\",\"type\":\"Grid\"},{\"id\":\"1a8c932b-26dd-41e4-a4eb-5cb5e5707123\",\"type\":\"LinearAxis\"},{\"id\":\"0b38d8f0-248c-4257-b59b-fbc1b3e82b08\",\"type\":\"Grid\"},{\"id\":\"9e379ff4-33e9-45e3-9ed1-926793543da2\",\"type\":\"BoxAnnotation\"},{\"id\":\"fa861406-647a-408d-a179-f86a5f12e33f\",\"type\":\"PolyAnnotation\"},{\"id\":\"a1f0b458-6c0d-4886-b48d-ff27c0f593be\",\"type\":\"GlyphRenderer\"}],\"title\":{\"id\":\"16315dbb-e489-4c43-9ad2-634d9431e66d\",\"type\":\"Title\"},\"toolbar\":{\"id\":\"55f25ecc-5045-43ef-a59f-1bbaada560ea\",\"type\":\"Toolbar\"},\"x_range\":{\"id\":\"437a2e2f-e3f1-4dde-801e-2999da10f94f\",\"type\":\"DataRange1d\"},\"x_scale\":{\"id\":\"51908bec-afbb-4cb9-90b2-ae464a0fd74a\",\"type\":\"LinearScale\"},\"y_range\":{\"id\":\"d1ec1077-acbc-4045-abe3-d1d5a455a9b2\",\"type\":\"DataRange1d\"},\"y_scale\":{\"id\":\"80c1a351-19d1-4250-9ef7-f6dc8792e52f\",\"type\":\"LinearScale\"}},\"id\":\"2162232b-8d4d-47a6-8d87-0b90fc152f2d\",\"subtype\":\"Figure\",\"type\":\"Plot\"},{\"attributes\":{\"source\":{\"id\":\"03d41f58-45b1-4493-b05c-3451a5586698\",\"type\":\"ColumnDataSource\"}},\"id\":\"b83d2f5f-bf75-413a-b4b0-105774225953\",\"type\":\"CDSView\"},{\"attributes\":{\"plot\":{\"id\":\"2162232b-8d4d-47a6-8d87-0b90fc152f2d\",\"subtype\":\"Figure\",\"type\":\"Plot\"},\"ticker\":{\"id\":\"f9d5fec0-ce16-4e49-8daf-ada703076222\",\"type\":\"BasicTicker\"}},\"id\":\"929211bf-c5e9-4a29-91df-c18cea94504b\",\"type\":\"Grid\"},{\"attributes\":{\"plot\":null,\"text\":\"\"},\"id\":\"16315dbb-e489-4c43-9ad2-634d9431e66d\",\"type\":\"Title\"},{\"attributes\":{},\"id\":\"d6a8b414-ffb7-4ee2-8c45-13fbbe84e988\",\"type\":\"ResetTool\"},{\"attributes\":{\"formatter\":{\"id\":\"ce605942-2187-4efa-b6fa-fd6cf65ec932\",\"type\":\"BasicTickFormatter\"},\"plot\":{\"id\":\"2162232b-8d4d-47a6-8d87-0b90fc152f2d\",\"subtype\":\"Figure\",\"type\":\"Plot\"},\"ticker\":{\"id\":\"7a747500-b6dc-4dd4-9012-4a8abce9502d\",\"type\":\"BasicTicker\"}},\"id\":\"1a8c932b-26dd-41e4-a4eb-5cb5e5707123\",\"type\":\"LinearAxis\"},{\"attributes\":{\"data_source\":{\"id\":\"03d41f58-45b1-4493-b05c-3451a5586698\",\"type\":\"ColumnDataSource\"},\"glyph\":{\"id\":\"bf92e1d0-d5c9-46b0-b716-4d3898fc6d7e\",\"type\":\"Circle\"},\"hover_glyph\":null,\"muted_glyph\":null,\"nonselection_glyph\":{\"id\":\"e83ec8ff-0914-4dec-b174-5f4bd5d9fc89\",\"type\":\"Circle\"},\"selection_glyph\":null,\"view\":{\"id\":\"b83d2f5f-bf75-413a-b4b0-105774225953\",\"type\":\"CDSView\"}},\"id\":\"a1f0b458-6c0d-4886-b48d-ff27c0f593be\",\"type\":\"GlyphRenderer\"},{\"attributes\":{},\"id\":\"7f9a1e0a-bdb0-4d0d-9512-bb43cb188ab6\",\"type\":\"WheelZoomTool\"},{\"attributes\":{\"callback\":null},\"id\":\"d1ec1077-acbc-4045-abe3-d1d5a455a9b2\",\"type\":\"DataRange1d\"},{\"attributes\":{},\"id\":\"80c1a351-19d1-4250-9ef7-f6dc8792e52f\",\"type\":\"LinearScale\"},{\"attributes\":{\"callback\":null},\"id\":\"437a2e2f-e3f1-4dde-801e-2999da10f94f\",\"type\":\"DataRange1d\"},{\"attributes\":{},\"id\":\"2f9a8424-c665-4d80-b930-625dd31a37c7\",\"type\":\"BasicTickFormatter\"},{\"attributes\":{\"callback\":null,\"tooltips\":[[\"author\",\"@author_names\"],[\"size\",\"@author_sizes\"]]},\"id\":\"5eecfc80-d981-4c7b-a37c-2529e462739e\",\"type\":\"HoverTool\"},{\"attributes\":{\"callback\":null,\"overlay\":{\"id\":\"fa861406-647a-408d-a179-f86a5f12e33f\",\"type\":\"PolyAnnotation\"}},\"id\":\"7aa93bb1-a946-493a-809d-1feb407221c2\",\"type\":\"LassoSelectTool\"},{\"attributes\":{\"fill_alpha\":{\"value\":0.6},\"fill_color\":{\"value\":\"#1f77b4\"},\"line_color\":{\"value\":null},\"radius\":{\"field\":\"radii\",\"units\":\"data\"},\"x\":{\"field\":\"x\"},\"y\":{\"field\":\"y\"}},\"id\":\"bf92e1d0-d5c9-46b0-b716-4d3898fc6d7e\",\"type\":\"Circle\"},{\"attributes\":{\"active_drag\":\"auto\",\"active_inspect\":\"auto\",\"active_scroll\":\"auto\",\"active_tap\":\"auto\",\"tools\":[{\"id\":\"5eecfc80-d981-4c7b-a37c-2529e462739e\",\"type\":\"HoverTool\"},{\"id\":\"b23b8f4a-77c8-48a3-b078-73475ca9ac96\",\"type\":\"CrosshairTool\"},{\"id\":\"71942dfd-6abd-4d6a-b99d-a3d2f43b1156\",\"type\":\"PanTool\"},{\"id\":\"7f9a1e0a-bdb0-4d0d-9512-bb43cb188ab6\",\"type\":\"WheelZoomTool\"},{\"id\":\"03267fff-5402-4270-b70e-38e4c5305b14\",\"type\":\"BoxZoomTool\"},{\"id\":\"d6a8b414-ffb7-4ee2-8c45-13fbbe84e988\",\"type\":\"ResetTool\"},{\"id\":\"572adad8-f47b-48a4-8f8e-ea57d0f3386f\",\"type\":\"SaveTool\"},{\"id\":\"7aa93bb1-a946-493a-809d-1feb407221c2\",\"type\":\"LassoSelectTool\"}]},\"id\":\"55f25ecc-5045-43ef-a59f-1bbaada560ea\",\"type\":\"Toolbar\"},{\"attributes\":{\"fill_alpha\":{\"value\":0.5},\"fill_color\":{\"value\":\"lightgrey\"},\"level\":\"overlay\",\"line_alpha\":{\"value\":1.0},\"line_color\":{\"value\":\"black\"},\"line_dash\":[4,4],\"line_width\":{\"value\":2},\"plot\":null,\"xs_units\":\"screen\",\"ys_units\":\"screen\"},\"id\":\"fa861406-647a-408d-a179-f86a5f12e33f\",\"type\":\"PolyAnnotation\"},{\"attributes\":{\"overlay\":{\"id\":\"9e379ff4-33e9-45e3-9ed1-926793543da2\",\"type\":\"BoxAnnotation\"}},\"id\":\"03267fff-5402-4270-b70e-38e4c5305b14\",\"type\":\"BoxZoomTool\"}],\"root_ids\":[\"2162232b-8d4d-47a6-8d87-0b90fc152f2d\"]},\"title\":\"Bokeh Application\",\"version\":\"0.12.7\"}};\n",
       "            var render_items = [{\"docid\":\"9e953b62-d190-40de-abae-ffc3f84b19f4\",\"elementid\":\"c1b1fab4-e0ef-4ff2-b41a-0299a8891faa\",\"modelid\":\"2162232b-8d4d-47a6-8d87-0b90fc152f2d\"}];\n",
       "            \n",
       "            Bokeh.embed.embed_items(docs_json, render_items);\n",
       "          };\n",
       "          if (document.readyState != \"loading\") fn();\n",
       "          else document.addEventListener(\"DOMContentLoaded\", fn);\n",
       "        })();\n",
       "      },\n",
       "      function(Bokeh) {\n",
       "      }\n",
       "    ];\n",
       "  \n",
       "    function run_inline_js() {\n",
       "      \n",
       "      if ((root.Bokeh !== undefined) || (force === true)) {\n",
       "        for (var i = 0; i < inline_js.length; i++) {\n",
       "          inline_js[i].call(root, root.Bokeh);\n",
       "        }if (force === true) {\n",
       "          display_loaded();\n",
       "        }} else if (Date.now() < root._bokeh_timeout) {\n",
       "        setTimeout(run_inline_js, 100);\n",
       "      } else if (!root._bokeh_failed_load) {\n",
       "        console.log(\"Bokeh: BokehJS failed to load within specified timeout.\");\n",
       "        root._bokeh_failed_load = true;\n",
       "      } else if (force !== true) {\n",
       "        var cell = $(document.getElementById(\"c1b1fab4-e0ef-4ff2-b41a-0299a8891faa\")).parents('.cell').data().cell;\n",
       "        cell.output_area.append_execute_result(NB_LOAD_WARNING)\n",
       "      }\n",
       "  \n",
       "    }\n",
       "  \n",
       "    if (root._bokeh_is_loading === 0) {\n",
       "      console.log(\"Bokeh: BokehJS loaded, going straight to plotting\");\n",
       "      run_inline_js();\n",
       "    } else {\n",
       "      load_libs(js_urls, function() {\n",
       "        console.log(\"Bokeh: BokehJS plotting callback run at\", now());\n",
       "        run_inline_js();\n",
       "      });\n",
       "    }\n",
       "  }(window));\n",
       "</script>"
      ]
     },
     "metadata": {},
     "output_type": "display_data"
    }
   ],
   "source": [
    "from bokeh.models import HoverTool\n",
    "from bokeh.plotting import figure, show, ColumnDataSource\n",
    "\n",
    "x = tsne.embedding_[:, 0]\n",
    "y = tsne.embedding_[:, 1]\n",
    "author_names = [model.id2author[a] for a in authors]\n",
    "\n",
    "# Radius of each point corresponds to the number of documents attributed to that author.\n",
    "scale = 0.1\n",
    "author_sizes = [len(model.author2doc[a]) for a in author_names]\n",
    "radii = [size * scale for size in author_sizes]\n",
    "\n",
    "source = ColumnDataSource(\n",
    "        data=dict(\n",
    "            x=x,\n",
    "            y=y,\n",
    "            author_names=author_names,\n",
    "            author_sizes=author_sizes,\n",
    "            radii=radii,\n",
    "        )\n",
    "    )\n",
    "\n",
    "# Add author names and sizes to mouse-over info.\n",
    "hover = HoverTool(\n",
    "        tooltips=[\n",
    "        (\"author\", \"@author_names\"),\n",
    "        (\"size\", \"@author_sizes\"),\n",
    "        ]\n",
    "    )\n",
    "\n",
    "p = figure(tools=[hover, 'crosshair,pan,wheel_zoom,box_zoom,reset,save,lasso_select'])\n",
    "p.scatter('x', 'y', radius='radii', source=source, fill_alpha=0.6, line_color=None)\n",
    "show(p)"
   ]
  },
  {
   "cell_type": "code",
   "execution_count": 232,
   "metadata": {},
   "outputs": [
    {
     "data": {
      "text/plain": [
       "[(8, 0.27661388079860771), (2, 0.3412281114309188), (4, 0.37763043171492894)]"
      ]
     },
     "execution_count": 232,
     "metadata": {},
     "output_type": "execute_result"
    }
   ],
   "source": [
    "# Show author-topics\n",
    "#sort(model['Microsoft'])\n",
    "li = model['Microsoft']\n",
    "sorted(li,key=lambda x: x[1])\n"
   ]
  },
  {
   "cell_type": "markdown",
   "metadata": {},
   "source": [
    "We can take a look at the topics that \"Microsoft\" concern about so that we can get a sense that what topics are the authors from the biggest cluster concern about."
   ]
  },
  {
   "cell_type": "code",
   "execution_count": 234,
   "metadata": {},
   "outputs": [
    {
     "name": "stdout",
     "output_type": "stream",
     "text": [
      "\n",
      "Microsoft\n",
      "Topics:\n",
      "[(8,\n",
      "  [('vue', 0.056159631707267101),\n",
      "   ('http', 0.043609570727786248),\n",
      "   ('design', 0.02717124923563383),\n",
      "   ('js', 0.022487580662235863),\n",
      "   ('gener', 0.021438158131224818),\n",
      "   ('vue_js', 0.020461106852293683),\n",
      "   ('com', 0.019888843017457691),\n",
      "   ('servic', 0.019287640568173753),\n",
      "   ('compon', 0.018405963063071625),\n",
      "   ('ui', 0.017081426994044292)]),\n",
      " (2,\n",
      "  [('android', 0.060251939684616611),\n",
      "   ('github', 0.027886408191987837),\n",
      "   ('develop', 0.027105797308662135),\n",
      "   ('use', 0.025676000044923),\n",
      "   ('app', 0.020510901833230611),\n",
      "   ('easi', 0.019846111048806084),\n",
      "   ('manag', 0.01937548834842244),\n",
      "   ('googl', 0.017617379733289817),\n",
      "   ('file', 0.016559120344661848),\n",
      "   ('librari', 0.014753070190101908)]),\n",
      " (4,\n",
      "  [('network', 0.047570019384068934),\n",
      "   ('imag', 0.04577618985568991),\n",
      "   ('object', 0.028135630807080637),\n",
      "   ('neural', 0.025144879691775288),\n",
      "   ('window', 0.024869468008436913),\n",
      "   ('video', 0.02167246286283606),\n",
      "   ('use', 0.021158593930090286),\n",
      "   ('linux', 0.019435224378641511),\n",
      "   ('maco', 0.01722027997808253),\n",
      "   ('util', 0.015463289271224177)])]\n"
     ]
    }
   ],
   "source": [
    "show_author('Microsoft')"
   ]
  },
  {
   "cell_type": "code",
   "execution_count": 235,
   "metadata": {
    "scrolled": false
   },
   "outputs": [
    {
     "name": "stdout",
     "output_type": "stream",
     "text": [
      "\n",
      "facebookresearch\n",
      "Topics:\n",
      "[(5,\n",
      "  [('learn', 0.087000349398529547),\n",
      "   ('python', 0.059455558933786165),\n",
      "   ('deep', 0.032648626572385826),\n",
      "   ('machin', 0.031443332185353959),\n",
      "   ('deep_learn', 0.025438198056312752),\n",
      "   ('machin_learn', 0.021768696185710493),\n",
      "   ('use', 0.020157543055956781),\n",
      "   ('kubernet', 0.0180829352841291),\n",
      "   ('base', 0.016905498679334933),\n",
      "   ('code', 0.015152944531592358)]),\n",
      " (1,\n",
      "  [('io', 0.078001174566502532),\n",
      "   ('swift', 0.058385605651483971),\n",
      "   ('app', 0.028919176723807661),\n",
      "   ('server', 0.026496736456531587),\n",
      "   ('line', 0.023654323708450196),\n",
      "   ('command', 0.023547776062139314),\n",
      "   ('api', 0.018621261902416933),\n",
      "   ('net', 0.018055608443376392),\n",
      "   ('command_line', 0.01747232653562928),\n",
      "   ('simpl', 0.016824675910870605)]),\n",
      " (9,\n",
      "  [('tool', 0.064624168726951842),\n",
      "   ('sourc', 0.050343560601393202),\n",
      "   ('open', 0.041458813070464659),\n",
      "   ('open_sourc', 0.032186866228856741),\n",
      "   ('c', 0.029068175574069377),\n",
      "   ('written', 0.025659547564784394),\n",
      "   ('librari', 0.024382129938993732),\n",
      "   ('languag', 0.02363278390879589),\n",
      "   ('data', 0.021582505195821354),\n",
      "   ('program', 0.021527729103467994)]),\n",
      " (2,\n",
      "  [('android', 0.060251939684616611),\n",
      "   ('github', 0.027886408191987837),\n",
      "   ('develop', 0.027105797308662135),\n",
      "   ('use', 0.025676000044923),\n",
      "   ('app', 0.020510901833230611),\n",
      "   ('easi', 0.019846111048806084),\n",
      "   ('manag', 0.01937548834842244),\n",
      "   ('googl', 0.017617379733289817),\n",
      "   ('file', 0.016559120344661848),\n",
      "   ('librari', 0.014753070190101908)])]\n"
     ]
    }
   ],
   "source": [
    "show_author('facebookresearch')"
   ]
  },
  {
   "cell_type": "code",
   "execution_count": 219,
   "metadata": {},
   "outputs": [
    {
     "name": "stdout",
     "output_type": "stream",
     "text": [
      "\n",
      "fossasia\n",
      "Topics:\n",
      "[(1,\n",
      "  [('io', 0.078001174566502532),\n",
      "   ('swift', 0.058385605651483971),\n",
      "   ('app', 0.028919176723807661),\n",
      "   ('server', 0.026496736456531587),\n",
      "   ('line', 0.023654323708450196),\n",
      "   ('command', 0.023547776062139314),\n",
      "   ('api', 0.018621261902416933),\n",
      "   ('net', 0.018055608443376392),\n",
      "   ('command_line', 0.01747232653562928),\n",
      "   ('simpl', 0.016824675910870605)]),\n",
      " (2,\n",
      "  [('android', 0.060251939684616611),\n",
      "   ('github', 0.027886408191987837),\n",
      "   ('develop', 0.027105797308662135),\n",
      "   ('use', 0.025676000044923),\n",
      "   ('app', 0.020510901833230611),\n",
      "   ('easi', 0.019846111048806084),\n",
      "   ('manag', 0.01937548834842244),\n",
      "   ('googl', 0.017617379733289817),\n",
      "   ('file', 0.016559120344661848),\n",
      "   ('librari', 0.014753070190101908)]),\n",
      " (3,\n",
      "  [('js', 0.047193286097207549),\n",
      "   ('use', 0.037467665799009162),\n",
      "   ('node', 0.028260300365184961),\n",
      "   ('gener', 0.026528205499654015),\n",
      "   ('s', 0.020581330958195344),\n",
      "   ('framework', 0.019204071338976281),\n",
      "   ('css', 0.018726219751528512),\n",
      "   ('project', 0.017665068447322851),\n",
      "   ('node_js', 0.01736251876616041),\n",
      "   ('view', 0.015842542369928304)]),\n",
      " (4,\n",
      "  [('network', 0.047570019384068934),\n",
      "   ('imag', 0.04577618985568991),\n",
      "   ('object', 0.028135630807080637),\n",
      "   ('neural', 0.025144879691775288),\n",
      "   ('window', 0.024869468008436913),\n",
      "   ('video', 0.02167246286283606),\n",
      "   ('use', 0.021158593930090286),\n",
      "   ('linux', 0.019435224378641511),\n",
      "   ('maco', 0.01722027997808253),\n",
      "   ('util', 0.015463289271224177)]),\n",
      " (6,\n",
      "  [('react', 0.087652984530066605),\n",
      "   ('implement', 0.076035280691134993),\n",
      "   ('nativ', 0.046726053793656339),\n",
      "   ('code', 0.040148328655781926),\n",
      "   ('compon', 0.035618955675958797),\n",
      "   ('pytorch', 0.033021900110435695),\n",
      "   ('react_nativ', 0.031181649253405875),\n",
      "   ('app', 0.025984902831469616),\n",
      "   ('tensorflow', 0.0186822881675416),\n",
      "   ('paper', 0.017438029572546629)]),\n",
      " (7,\n",
      "  [('list', 0.039317192365566536),\n",
      "   ('awesom', 0.027680351994459167),\n",
      "   ('time', 0.025972347164137224),\n",
      "   ('javascript', 0.025659196262807996),\n",
      "   ('creat', 0.025078680963037839),\n",
      "   ('curat', 0.023065201167636336),\n",
      "   ('perform', 0.022278090042507297),\n",
      "   ('app', 0.021556623555678105),\n",
      "   ('high', 0.018802694509626561),\n",
      "   ('curat_list', 0.018772310899024463)]),\n",
      " (8,\n",
      "  [('vue', 0.056159631707267101),\n",
      "   ('http', 0.043609570727786248),\n",
      "   ('design', 0.02717124923563383),\n",
      "   ('js', 0.022487580662235863),\n",
      "   ('gener', 0.021438158131224818),\n",
      "   ('vue_js', 0.020461106852293683),\n",
      "   ('com', 0.019888843017457691),\n",
      "   ('servic', 0.019287640568173753),\n",
      "   ('compon', 0.018405963063071625),\n",
      "   ('ui', 0.017081426994044292)])]\n"
     ]
    }
   ],
   "source": [
    "show_author('fossasia')"
   ]
  },
  {
   "cell_type": "code",
   "execution_count": 222,
   "metadata": {},
   "outputs": [
    {
     "data": {
      "text/plain": [
       "42"
      ]
     },
     "execution_count": 222,
     "metadata": {},
     "output_type": "execute_result"
    }
   ],
   "source": [
    "len(model.author2doc['Microsoft'])"
   ]
  },
  {
   "cell_type": "code",
   "execution_count": 224,
   "metadata": {},
   "outputs": [
    {
     "name": "stdout",
     "output_type": "stream",
     "text": [
      "\n",
      "google\n",
      "Topics:\n",
      "[(0,\n",
      "  [('base', 0.069723341902688682),\n",
      "   ('support', 0.031294860416073808),\n",
      "   ('platform', 0.02745445997944659),\n",
      "   ('applic', 0.022327567661310291),\n",
      "   ('librari', 0.020965424192181656),\n",
      "   ('client', 0.019475310770711209),\n",
      "   ('rust', 0.01784696014218002),\n",
      "   ('spring', 0.017613247066807187),\n",
      "   ('tutori', 0.017609409968538228),\n",
      "   ('framework', 0.016970801074474896)]),\n",
      " (1,\n",
      "  [('io', 0.078001174566502532),\n",
      "   ('swift', 0.058385605651483971),\n",
      "   ('app', 0.028919176723807661),\n",
      "   ('server', 0.026496736456531587),\n",
      "   ('line', 0.023654323708450196),\n",
      "   ('command', 0.023547776062139314),\n",
      "   ('api', 0.018621261902416933),\n",
      "   ('net', 0.018055608443376392),\n",
      "   ('command_line', 0.01747232653562928),\n",
      "   ('simpl', 0.016824675910870605)]),\n",
      " (4,\n",
      "  [('network', 0.047570019384068934),\n",
      "   ('imag', 0.04577618985568991),\n",
      "   ('object', 0.028135630807080637),\n",
      "   ('neural', 0.025144879691775288),\n",
      "   ('window', 0.024869468008436913),\n",
      "   ('video', 0.02167246286283606),\n",
      "   ('use', 0.021158593930090286),\n",
      "   ('linux', 0.019435224378641511),\n",
      "   ('maco', 0.01722027997808253),\n",
      "   ('util', 0.015463289271224177)]),\n",
      " (5,\n",
      "  [('learn', 0.087000349398529547),\n",
      "   ('python', 0.059455558933786165),\n",
      "   ('deep', 0.032648626572385826),\n",
      "   ('machin', 0.031443332185353959),\n",
      "   ('deep_learn', 0.025438198056312752),\n",
      "   ('machin_learn', 0.021768696185710493),\n",
      "   ('use', 0.020157543055956781),\n",
      "   ('kubernet', 0.0180829352841291),\n",
      "   ('base', 0.016905498679334933),\n",
      "   ('code', 0.015152944531592358)]),\n",
      " (7,\n",
      "  [('list', 0.039317192365566536),\n",
      "   ('awesom', 0.027680351994459167),\n",
      "   ('time', 0.025972347164137224),\n",
      "   ('javascript', 0.025659196262807996),\n",
      "   ('creat', 0.025078680963037839),\n",
      "   ('curat', 0.023065201167636336),\n",
      "   ('perform', 0.022278090042507297),\n",
      "   ('app', 0.021556623555678105),\n",
      "   ('high', 0.018802694509626561),\n",
      "   ('curat_list', 0.018772310899024463)]),\n",
      " (8,\n",
      "  [('vue', 0.056159631707267101),\n",
      "   ('http', 0.043609570727786248),\n",
      "   ('design', 0.02717124923563383),\n",
      "   ('js', 0.022487580662235863),\n",
      "   ('gener', 0.021438158131224818),\n",
      "   ('vue_js', 0.020461106852293683),\n",
      "   ('com', 0.019888843017457691),\n",
      "   ('servic', 0.019287640568173753),\n",
      "   ('compon', 0.018405963063071625),\n",
      "   ('ui', 0.017081426994044292)])]\n"
     ]
    }
   ],
   "source": [
    "show_author('google')"
   ]
  },
  {
   "cell_type": "code",
   "execution_count": 225,
   "metadata": {},
   "outputs": [
    {
     "name": "stdout",
     "output_type": "stream",
     "text": [
      "\n",
      "alibaba\n",
      "Topics:\n",
      "[(0,\n",
      "  [('base', 0.069723341902688682),\n",
      "   ('support', 0.031294860416073808),\n",
      "   ('platform', 0.02745445997944659),\n",
      "   ('applic', 0.022327567661310291),\n",
      "   ('librari', 0.020965424192181656),\n",
      "   ('client', 0.019475310770711209),\n",
      "   ('rust', 0.01784696014218002),\n",
      "   ('spring', 0.017613247066807187),\n",
      "   ('tutori', 0.017609409968538228),\n",
      "   ('framework', 0.016970801074474896)]),\n",
      " (2,\n",
      "  [('android', 0.060251939684616611),\n",
      "   ('github', 0.027886408191987837),\n",
      "   ('develop', 0.027105797308662135),\n",
      "   ('use', 0.025676000044923),\n",
      "   ('app', 0.020510901833230611),\n",
      "   ('easi', 0.019846111048806084),\n",
      "   ('manag', 0.01937548834842244),\n",
      "   ('googl', 0.017617379733289817),\n",
      "   ('file', 0.016559120344661848),\n",
      "   ('librari', 0.014753070190101908)]),\n",
      " (4,\n",
      "  [('network', 0.047570019384068934),\n",
      "   ('imag', 0.04577618985568991),\n",
      "   ('object', 0.028135630807080637),\n",
      "   ('neural', 0.025144879691775288),\n",
      "   ('window', 0.024869468008436913),\n",
      "   ('video', 0.02167246286283606),\n",
      "   ('use', 0.021158593930090286),\n",
      "   ('linux', 0.019435224378641511),\n",
      "   ('maco', 0.01722027997808253),\n",
      "   ('util', 0.015463289271224177)]),\n",
      " (5,\n",
      "  [('learn', 0.087000349398529547),\n",
      "   ('python', 0.059455558933786165),\n",
      "   ('deep', 0.032648626572385826),\n",
      "   ('machin', 0.031443332185353959),\n",
      "   ('deep_learn', 0.025438198056312752),\n",
      "   ('machin_learn', 0.021768696185710493),\n",
      "   ('use', 0.020157543055956781),\n",
      "   ('kubernet', 0.0180829352841291),\n",
      "   ('base', 0.016905498679334933),\n",
      "   ('code', 0.015152944531592358)]),\n",
      " (7,\n",
      "  [('list', 0.039317192365566536),\n",
      "   ('awesom', 0.027680351994459167),\n",
      "   ('time', 0.025972347164137224),\n",
      "   ('javascript', 0.025659196262807996),\n",
      "   ('creat', 0.025078680963037839),\n",
      "   ('curat', 0.023065201167636336),\n",
      "   ('perform', 0.022278090042507297),\n",
      "   ('app', 0.021556623555678105),\n",
      "   ('high', 0.018802694509626561),\n",
      "   ('curat_list', 0.018772310899024463)]),\n",
      " (8,\n",
      "  [('vue', 0.056159631707267101),\n",
      "   ('http', 0.043609570727786248),\n",
      "   ('design', 0.02717124923563383),\n",
      "   ('js', 0.022487580662235863),\n",
      "   ('gener', 0.021438158131224818),\n",
      "   ('vue_js', 0.020461106852293683),\n",
      "   ('com', 0.019888843017457691),\n",
      "   ('servic', 0.019287640568173753),\n",
      "   ('compon', 0.018405963063071625),\n",
      "   ('ui', 0.017081426994044292)])]\n"
     ]
    }
   ],
   "source": [
    "show_author('alibaba')"
   ]
  },
  {
   "cell_type": "code",
   "execution_count": null,
   "metadata": {
    "collapsed": true
   },
   "outputs": [],
   "source": []
  }
 ],
 "metadata": {
  "kernelspec": {
   "display_name": "Python 3",
   "language": "python",
   "name": "python3"
  },
  "language_info": {
   "codemirror_mode": {
    "name": "ipython",
    "version": 3
   },
   "file_extension": ".py",
   "mimetype": "text/x-python",
   "name": "python",
   "nbconvert_exporter": "python",
   "pygments_lexer": "ipython3",
   "version": "3.6.2"
  }
 },
 "nbformat": 4,
 "nbformat_minor": 2
}
